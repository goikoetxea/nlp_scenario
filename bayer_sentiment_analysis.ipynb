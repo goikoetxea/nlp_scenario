{
 "cells": [
  {
   "cell_type": "code",
   "execution_count": 1,
   "metadata": {},
   "outputs": [
    {
     "name": "stderr",
     "output_type": "stream",
     "text": [
      "/Library/Frameworks/Python.framework/Versions/3.6/lib/python3.6/site-packages/sklearn/cross_validation.py:41: DeprecationWarning: This module was deprecated in version 0.18 in favor of the model_selection module into which all the refactored classes and functions are moved. Also note that the interface of the new CV iterators are different from that of this module. This module will be removed in 0.20.\n",
      "  \"This module will be removed in 0.20.\", DeprecationWarning)\n"
     ]
    },
    {
     "name": "stdout",
     "output_type": "stream",
     "text": [
      "[nltk_data] Downloading package wordnet to /Users/itziar/nltk_data...\n",
      "[nltk_data]   Package wordnet is already up-to-date!\n"
     ]
    },
    {
     "name": "stderr",
     "output_type": "stream",
     "text": [
      "Using TensorFlow backend.\n"
     ]
    }
   ],
   "source": [
    "import pandas as pd\n",
    "import xlrd\n",
    "import matplotlib.pyplot as plt\n",
    "import numpy as np\n",
    "import seaborn as sns\n",
    "from sklearn.cross_validation import StratifiedKFold\n",
    "from sklearn import metrics, preprocessing\n",
    "from sklearn.model_selection import train_test_split, StratifiedShuffleSplit, RandomizedSearchCV, GridSearchCV\n",
    "from sklearn.naive_bayes import MultinomialNB\n",
    "from wordcloud import WordCloud, STOPWORDS\n",
    "from sklearn.metrics import f1_score, precision_score, recall_score, accuracy_score, classification_report\n",
    "from numpy.random import seed\n",
    "from nltk.corpus import stopwords\n",
    "stop = stopwords.words('english')\n",
    "from textblob import Word\n",
    "import nltk\n",
    "nltk.download('wordnet')\n",
    "from sklearn.pipeline import Pipeline, FeatureUnion\n",
    "import sys\n",
    "from sklearn.preprocessing import LabelBinarizer, LabelEncoder\n",
    "from sklearn.ensemble import  RandomForestClassifier, AdaBoostClassifier\n",
    "from sklearn.tree import DecisionTreeClassifier\n",
    "import xgboost, textblob, string\n",
    "from keras.preprocessing import text, sequence\n",
    "from keras import layers, models, optimizers\n",
    "from sklearn.svm import LinearSVC\n",
    "from sklearn.linear_model import LogisticRegression\n",
    "from sklearn import decomposition, ensemble\n",
    "from keras.callbacks import EarlyStopping\n",
    "from keras.layers import Dense, Input, Flatten, Activation\n",
    "from keras.layers import Conv1D, MaxPooling1D, Embedding, Dropout\n",
    "from keras.models import Model, Sequential\n",
    "from keras.callbacks import ModelCheckpoint\n",
    "import warnings\n",
    "warnings.filterwarnings(\"ignore\")\n",
    "from keras.utils import to_categorical\n",
    "from scipy.stats import randint\n",
    "from imblearn.pipeline import make_pipeline\n",
    "from imblearn.over_sampling import ADASYN, SMOTE, RandomOverSampler\n",
    "from sklearn import model_selection, preprocessing, linear_model, naive_bayes, metrics, svm\n",
    "from sklearn.feature_extraction.text import TfidfVectorizer, CountVectorizer\n",
    "from sklearn import decomposition, ensemble\n",
    "from keras.preprocessing import text, sequence\n",
    "from keras.wrappers.scikit_learn import KerasClassifier\n",
    "from sklearn.model_selection import cross_val_score\n",
    "from textblob import TextBlob\n",
    "from gensim import corpora\n",
    "import gensim\n",
    "import pickle\n",
    "from nltk.tokenize import word_tokenize\n",
    "import pyLDAvis.gensim\n",
    "from imblearn.pipeline import Pipeline \n",
    "from sklearn.preprocessing import FunctionTransformer\n",
    "warnings.filterwarnings(\"ignore\", category=DeprecationWarning) \n"
   ]
  },
  {
   "cell_type": "code",
   "execution_count": 85,
   "metadata": {},
   "outputs": [
    {
     "data": {
      "text/html": [
       "<div>\n",
       "<style scoped>\n",
       "    .dataframe tbody tr th:only-of-type {\n",
       "        vertical-align: middle;\n",
       "    }\n",
       "\n",
       "    .dataframe tbody tr th {\n",
       "        vertical-align: top;\n",
       "    }\n",
       "\n",
       "    .dataframe thead th {\n",
       "        text-align: right;\n",
       "    }\n",
       "</style>\n",
       "<table border=\"1\" class=\"dataframe\">\n",
       "  <thead>\n",
       "    <tr style=\"text-align: right;\">\n",
       "      <th></th>\n",
       "      <th>ID</th>\n",
       "      <th>Sentence</th>\n",
       "      <th>Positive</th>\n",
       "      <th>Negative</th>\n",
       "      <th>Neutral</th>\n",
       "    </tr>\n",
       "  </thead>\n",
       "  <tbody>\n",
       "    <tr>\n",
       "      <th>0</th>\n",
       "      <td>1</td>\n",
       "      <td>The results in 2nd line treatment show an ORR ...</td>\n",
       "      <td>1</td>\n",
       "      <td>0</td>\n",
       "      <td>0</td>\n",
       "    </tr>\n",
       "    <tr>\n",
       "      <th>1</th>\n",
       "      <td>2</td>\n",
       "      <td>The long duration of response and high durable...</td>\n",
       "      <td>1</td>\n",
       "      <td>0</td>\n",
       "      <td>0</td>\n",
       "    </tr>\n",
       "    <tr>\n",
       "      <th>2</th>\n",
       "      <td>3</td>\n",
       "      <td>The median OS time in the updated results exce...</td>\n",
       "      <td>0</td>\n",
       "      <td>0</td>\n",
       "      <td>1</td>\n",
       "    </tr>\n",
       "    <tr>\n",
       "      <th>3</th>\n",
       "      <td>4</td>\n",
       "      <td>Therefore, the clinical benefit in 2nd line tr...</td>\n",
       "      <td>1</td>\n",
       "      <td>0</td>\n",
       "      <td>0</td>\n",
       "    </tr>\n",
       "    <tr>\n",
       "      <th>4</th>\n",
       "      <td>5</td>\n",
       "      <td>The data provided in 1st line, although prelim...</td>\n",
       "      <td>1</td>\n",
       "      <td>0</td>\n",
       "      <td>0</td>\n",
       "    </tr>\n",
       "  </tbody>\n",
       "</table>\n",
       "</div>"
      ],
      "text/plain": [
       "   ID                                           Sentence  Positive  Negative  \\\n",
       "0   1  The results in 2nd line treatment show an ORR ...         1         0   \n",
       "1   2  The long duration of response and high durable...         1         0   \n",
       "2   3  The median OS time in the updated results exce...         0         0   \n",
       "3   4  Therefore, the clinical benefit in 2nd line tr...         1         0   \n",
       "4   5  The data provided in 1st line, although prelim...         1         0   \n",
       "\n",
       "   Neutral  \n",
       "0        0  \n",
       "1        0  \n",
       "2        1  \n",
       "3        0  \n",
       "4        0  "
      ]
     },
     "execution_count": 85,
     "metadata": {},
     "output_type": "execute_result"
    }
   ],
   "source": [
    "df = pd.read_excel('/Users/itziar/Downloads/DS_NLP_Assignment_final/sentences_with_sentiment.xlsx', names=['ID', 'Sentence', 'Positive', 'Negative', 'Neutral'])\n",
    "df.head()"
   ]
  },
  {
   "cell_type": "code",
   "execution_count": 89,
   "metadata": {},
   "outputs": [
    {
     "data": {
      "text/plain": [
       "(2.2857142857142856, 4.444444444444445)"
      ]
     },
     "execution_count": 89,
     "metadata": {},
     "output_type": "execute_result"
    }
   ],
   "source": [
    "df[df.Positive == 1].shape[0]/df.shape[0], df[df.Neutral == 1].shape[0]/df.shape[0], df[df.Negative == 1].shape[0]/df.shape[0]\n",
    "(df[df.Positive == 1].shape[0]/df.shape[0])/(df[df.Neutral == 1].shape[0]/df.shape[0]), (df[df.Positive == 1].shape[0]/df.shape[0])/(df[df.Negative == 1].shape[0]/df.shape[0])"
   ]
  },
  {
   "cell_type": "markdown",
   "metadata": {},
   "source": [
    "Data is inbalanced. There are 60% positive sentiments, 26% neutral sentiments and 14% negative sentiments. We will try some data balancing techniques later."
   ]
  },
  {
   "cell_type": "code",
   "execution_count": 4,
   "metadata": {},
   "outputs": [],
   "source": [
    "df['Positive'][df.Positive == 1] = \"Positive\"\n",
    "df['Positive'][df.Positive == 0] = \"\"\n",
    "\n",
    "df['Negative'][df.Negative == 1] = \"Negative\"\n",
    "df['Negative'][df.Negative == 0] = \"\"\n",
    "\n",
    "df['Neutral'][df.Neutral == 1] = \"Neutral\"\n",
    "df['Neutral'][df.Neutral == 0] = \"\"\n",
    "\n",
    "\n",
    "df['Sentiment'] = df.Positive + df.Negative + df.Neutral"
   ]
  },
  {
   "cell_type": "code",
   "execution_count": 5,
   "metadata": {},
   "outputs": [],
   "source": [
    "df.Sentiment = LabelEncoder().fit_transform(df.Sentiment)\n"
   ]
  },
  {
   "cell_type": "markdown",
   "metadata": {},
   "source": [
    "### Feature engineering"
   ]
  },
  {
   "cell_type": "code",
   "execution_count": 6,
   "metadata": {},
   "outputs": [],
   "source": [
    "def avg_word(sentence):\n",
    "    words = sentence.split()\n",
    "    return (sum(len(word) for word in words)/len(words))\n",
    "\n"
   ]
  },
  {
   "cell_type": "code",
   "execution_count": 7,
   "metadata": {},
   "outputs": [],
   "source": [
    "df['char_count'] = df['Sentence'].apply(len)\n",
    "df['word_count'] = df['Sentence'].apply(lambda x: len(x.split()))\n",
    "df['word_density'] = df['char_count'] / (df['word_count']+1)\n",
    "df['upper_case_word_count'] = df['Sentence'].apply(lambda x: len([wrd for wrd in x.split() if wrd.isupper()]))\n",
    "df['numerics'] = df['Sentence'].apply(lambda x: len([x for x in x.split() if x.isdigit()]))\n",
    "df['stopwords'] = df['Sentence'].apply(lambda x: len([x for x in x.split() if x in stop]))\n",
    "df['avg_word'] = df['Sentence'].apply(lambda x: avg_word(x))\n",
    "\n"
   ]
  },
  {
   "cell_type": "code",
   "execution_count": 8,
   "metadata": {},
   "outputs": [],
   "source": [
    "pos_family = {\n",
    "    'noun' : ['NN','NNS','NNP','NNPS'],\n",
    "    'pron' : ['PRP','PRP$','WP','WP$'],\n",
    "    'verb' : ['VB','VBD','VBG','VBN','VBP','VBZ'],\n",
    "    'adj' :  ['JJ','JJR','JJS'],\n",
    "    'adv' : ['RB','RBR','RBS','WRB']\n",
    "}\n",
    "\n",
    "# function to check and get the part of speech tag count of a words in a given sentence\n",
    "def check_pos_tag(x, flag):\n",
    "    cnt = 0\n",
    "    try:\n",
    "        wiki = textblob.TextBlob(x)\n",
    "        for tup in wiki.tags:\n",
    "            ppo = list(tup)[1]\n",
    "            if ppo in pos_family[flag]:\n",
    "                cnt += 1\n",
    "    except:\n",
    "        pass\n",
    "    return cnt\n",
    "\n",
    "df['noun_count'] = df['Sentence'].apply(lambda x: check_pos_tag(x, 'noun'))\n",
    "df['verb_count'] = df['Sentence'].apply(lambda x: check_pos_tag(x, 'verb'))\n",
    "df['adj_count'] = df['Sentence'].apply(lambda x: check_pos_tag(x, 'adj'))\n",
    "df['adv_count'] = df['Sentence'].apply(lambda x: check_pos_tag(x, 'adv'))\n",
    "df['pron_count'] = df['Sentence'].apply(lambda x: check_pos_tag(x, 'pron'))"
   ]
  },
  {
   "cell_type": "markdown",
   "metadata": {},
   "source": [
    "remove stopwords, convert to lowercase, remove punctuation and lemmatize. "
   ]
  },
  {
   "cell_type": "code",
   "execution_count": 9,
   "metadata": {},
   "outputs": [],
   "source": [
    "df['Sentence'] = df['Sentence'].apply(lambda x: \" \".join(x.lower() for x in x.split()))\n",
    "df['Sentence'] = df['Sentence'].str.replace('[^\\w\\s]','')\n",
    "df['Sentence'] = df['Sentence'].apply(lambda x: \" \".join(x for x in x.split() if x not in stop))\n",
    "df['Sentence'] = df['Sentence'].apply(lambda x: \" \".join([Word(word).lemmatize() for word in x.split()]))"
   ]
  },
  {
   "cell_type": "code",
   "execution_count": 10,
   "metadata": {},
   "outputs": [],
   "source": [
    "df['polarity'] = df['Sentence'].apply(lambda x: TextBlob(x).sentiment[0] )\n",
    "df['subjectivity'] = df['Sentence'].apply(lambda x: TextBlob(x).sentiment[1] )\n"
   ]
  },
  {
   "cell_type": "code",
   "execution_count": 11,
   "metadata": {},
   "outputs": [
    {
     "data": {
      "text/html": [
       "<div>\n",
       "<style scoped>\n",
       "    .dataframe tbody tr th:only-of-type {\n",
       "        vertical-align: middle;\n",
       "    }\n",
       "\n",
       "    .dataframe tbody tr th {\n",
       "        vertical-align: top;\n",
       "    }\n",
       "\n",
       "    .dataframe thead th {\n",
       "        text-align: right;\n",
       "    }\n",
       "</style>\n",
       "<table border=\"1\" class=\"dataframe\">\n",
       "  <thead>\n",
       "    <tr style=\"text-align: right;\">\n",
       "      <th></th>\n",
       "      <th>ID</th>\n",
       "      <th>Sentence</th>\n",
       "      <th>Sentiment</th>\n",
       "      <th>char_count</th>\n",
       "      <th>word_count</th>\n",
       "      <th>word_density</th>\n",
       "      <th>upper_case_word_count</th>\n",
       "      <th>numerics</th>\n",
       "      <th>stopwords</th>\n",
       "      <th>avg_word</th>\n",
       "      <th>noun_count</th>\n",
       "      <th>verb_count</th>\n",
       "      <th>adj_count</th>\n",
       "      <th>adv_count</th>\n",
       "      <th>pron_count</th>\n",
       "      <th>polarity</th>\n",
       "      <th>subjectivity</th>\n",
       "    </tr>\n",
       "  </thead>\n",
       "  <tbody>\n",
       "    <tr>\n",
       "      <th>0</th>\n",
       "      <td>1</td>\n",
       "      <td>result 2nd line treatment show orr 33 patient ...</td>\n",
       "      <td>2</td>\n",
       "      <td>133</td>\n",
       "      <td>23</td>\n",
       "      <td>5.541667</td>\n",
       "      <td>2</td>\n",
       "      <td>0</td>\n",
       "      <td>8</td>\n",
       "      <td>4.826087</td>\n",
       "      <td>9</td>\n",
       "      <td>3</td>\n",
       "      <td>2</td>\n",
       "      <td>0</td>\n",
       "      <td>0</td>\n",
       "      <td>0.025000</td>\n",
       "      <td>0.175000</td>\n",
       "    </tr>\n",
       "    <tr>\n",
       "      <th>1</th>\n",
       "      <td>2</td>\n",
       "      <td>long duration response high durable response r...</td>\n",
       "      <td>2</td>\n",
       "      <td>170</td>\n",
       "      <td>24</td>\n",
       "      <td>6.800000</td>\n",
       "      <td>0</td>\n",
       "      <td>0</td>\n",
       "      <td>7</td>\n",
       "      <td>6.125000</td>\n",
       "      <td>6</td>\n",
       "      <td>3</td>\n",
       "      <td>8</td>\n",
       "      <td>1</td>\n",
       "      <td>0</td>\n",
       "      <td>0.055000</td>\n",
       "      <td>0.470000</td>\n",
       "    </tr>\n",
       "    <tr>\n",
       "      <th>2</th>\n",
       "      <td>3</td>\n",
       "      <td>median o time updated result exceeded 1 year</td>\n",
       "      <td>1</td>\n",
       "      <td>57</td>\n",
       "      <td>11</td>\n",
       "      <td>4.750000</td>\n",
       "      <td>1</td>\n",
       "      <td>1</td>\n",
       "      <td>2</td>\n",
       "      <td>4.272727</td>\n",
       "      <td>4</td>\n",
       "      <td>1</td>\n",
       "      <td>2</td>\n",
       "      <td>0</td>\n",
       "      <td>0</td>\n",
       "      <td>0.000000</td>\n",
       "      <td>0.000000</td>\n",
       "    </tr>\n",
       "    <tr>\n",
       "      <th>3</th>\n",
       "      <td>4</td>\n",
       "      <td>therefore clinical benefit 2nd line treatment ...</td>\n",
       "      <td>2</td>\n",
       "      <td>161</td>\n",
       "      <td>23</td>\n",
       "      <td>6.708333</td>\n",
       "      <td>0</td>\n",
       "      <td>0</td>\n",
       "      <td>9</td>\n",
       "      <td>6.043478</td>\n",
       "      <td>5</td>\n",
       "      <td>5</td>\n",
       "      <td>3</td>\n",
       "      <td>2</td>\n",
       "      <td>0</td>\n",
       "      <td>0.291667</td>\n",
       "      <td>0.458333</td>\n",
       "    </tr>\n",
       "    <tr>\n",
       "      <th>4</th>\n",
       "      <td>5</td>\n",
       "      <td>data provided 1st line although preliminary sh...</td>\n",
       "      <td>2</td>\n",
       "      <td>247</td>\n",
       "      <td>41</td>\n",
       "      <td>5.880952</td>\n",
       "      <td>0</td>\n",
       "      <td>0</td>\n",
       "      <td>14</td>\n",
       "      <td>5.048780</td>\n",
       "      <td>14</td>\n",
       "      <td>3</td>\n",
       "      <td>5</td>\n",
       "      <td>1</td>\n",
       "      <td>0</td>\n",
       "      <td>-0.083333</td>\n",
       "      <td>0.266667</td>\n",
       "    </tr>\n",
       "  </tbody>\n",
       "</table>\n",
       "</div>"
      ],
      "text/plain": [
       "   ID                                           Sentence  Sentiment  \\\n",
       "0   1  result 2nd line treatment show orr 33 patient ...          2   \n",
       "1   2  long duration response high durable response r...          2   \n",
       "2   3       median o time updated result exceeded 1 year          1   \n",
       "3   4  therefore clinical benefit 2nd line treatment ...          2   \n",
       "4   5  data provided 1st line although preliminary sh...          2   \n",
       "\n",
       "   char_count  word_count  word_density  upper_case_word_count  numerics  \\\n",
       "0         133          23      5.541667                      2         0   \n",
       "1         170          24      6.800000                      0         0   \n",
       "2          57          11      4.750000                      1         1   \n",
       "3         161          23      6.708333                      0         0   \n",
       "4         247          41      5.880952                      0         0   \n",
       "\n",
       "   stopwords  avg_word  noun_count  verb_count  adj_count  adv_count  \\\n",
       "0          8  4.826087           9           3          2          0   \n",
       "1          7  6.125000           6           3          8          1   \n",
       "2          2  4.272727           4           1          2          0   \n",
       "3          9  6.043478           5           5          3          2   \n",
       "4         14  5.048780          14           3          5          1   \n",
       "\n",
       "   pron_count  polarity  subjectivity  \n",
       "0           0  0.025000      0.175000  \n",
       "1           0  0.055000      0.470000  \n",
       "2           0  0.000000      0.000000  \n",
       "3           0  0.291667      0.458333  \n",
       "4           0 -0.083333      0.266667  "
      ]
     },
     "execution_count": 11,
     "metadata": {},
     "output_type": "execute_result"
    }
   ],
   "source": [
    "df.drop(['Positive', 'Negative', 'Neutral'], axis = 1).head()"
   ]
  },
  {
   "cell_type": "markdown",
   "metadata": {},
   "source": [
    "The sentiment polarity predicted using TextBlob does not match with the labels provided in this dataset for many cases."
   ]
  },
  {
   "cell_type": "code",
   "execution_count": 12,
   "metadata": {},
   "outputs": [
    {
     "name": "stdout",
     "output_type": "stream",
     "text": [
      "<wordcloud.wordcloud.WordCloud object at 0x13242ada0>\n"
     ]
    },
    {
     "data": {
      "text/plain": [
       "<Figure size 432x288 with 0 Axes>"
      ]
     },
     "metadata": {},
     "output_type": "display_data"
    },
    {
     "data": {
      "image/png": "[encoded data removed]",
      "text/plain": [
       "<Figure size 1080x720 with 1 Axes>"
      ]
     },
     "metadata": {},
     "output_type": "display_data"
    }
   ],
   "source": [
    "stopwords = set(STOPWORDS)\n",
    "\n",
    "wordcloud = WordCloud(\n",
    "                          background_color='white',\n",
    "                          stopwords=stopwords,\n",
    "                          max_words=100,\n",
    "                          max_font_size=40, \n",
    "                          random_state=42\n",
    "                         ).generate(str(df['Sentence']))\n",
    "\n",
    "print(wordcloud)\n",
    "fig = plt.figure(1)\n",
    "plt.figure( figsize=(15,10) )\n",
    "plt.imshow(wordcloud)\n",
    "plt.axis('off')\n",
    "plt.savefig('/Users/itziar/Documents/wordcloud2.png')\n",
    "plt.show()\n",
    "\n"
   ]
  },
  {
   "cell_type": "code",
   "execution_count": 13,
   "metadata": {},
   "outputs": [],
   "source": [
    "df_num = df.drop(['Sentence', 'Positive', 'Neutral', 'Negative', 'ID'], axis=1)"
   ]
  },
  {
   "cell_type": "code",
   "execution_count": 14,
   "metadata": {},
   "outputs": [
    {
     "data": {
      "image/png": "[encoded data removed]",
      "text/plain": [
       "<Figure size 648x504 with 2 Axes>"
      ]
     },
     "metadata": {},
     "output_type": "display_data"
    }
   ],
   "source": [
    "corr = df_num.corr()\n",
    "plt.subplots(figsize=(9,7))\n",
    "sns.heatmap(corr, cmap=\"Blues\", annot = True, annot_kws={\"size\": 10}, fmt='.1f')\n",
    "plt.tight_layout()\n",
    "plt.savefig('/Users/itziar/Documents/correlation2.png')"
   ]
  },
  {
   "cell_type": "markdown",
   "metadata": {},
   "source": [
    "There is no correlation between the features engineered and the Sentiment label"
   ]
  },
  {
   "cell_type": "markdown",
   "metadata": {},
   "source": [
    "### Count vectors and TF-IDF as features"
   ]
  },
  {
   "cell_type": "code",
   "execution_count": 15,
   "metadata": {},
   "outputs": [],
   "source": [
    "# create a count vectorizer object \n",
    "count_vect = CountVectorizer(analyzer='word', token_pattern=r'\\w{1,}')\n",
    "\n",
    "# word level tf-idf\n",
    "tfidf_vect = TfidfVectorizer(analyzer='word', token_pattern=r'\\w{1,}', max_features=5000)\n",
    "\n",
    "# ngram level tf-idf \n",
    "tfidf_vect_ngram = TfidfVectorizer(analyzer='word', token_pattern=r'\\w{1,}', ngram_range=(2,3), max_features=5000)\n",
    "\n",
    "# characters level tf-idf\n",
    "tfidf_vect_ngram_chars = TfidfVectorizer(analyzer='char', token_pattern=r'\\w{1,}', ngram_range=(2,3), max_features=5000)\n",
    "\n",
    "series_text = pd.Series(df.Sentence)\n",
    "\n",
    "sentence_count = count_vect.fit_transform(series_text)\n",
    "sentence_tfidf = tfidf_vect.fit_transform(series_text)\n",
    "sentence_tfidf_ngram = tfidf_vect_ngram.fit_transform(series_text)\n",
    "sentence_tfidf_ngram_chars = tfidf_vect_ngram_chars.fit_transform(series_text)\n"
   ]
  },
  {
   "cell_type": "markdown",
   "metadata": {},
   "source": [
    "### Topics with LDA"
   ]
  },
  {
   "cell_type": "code",
   "execution_count": 16,
   "metadata": {},
   "outputs": [
    {
     "name": "stdout",
     "output_type": "stream",
     "text": [
      "['ctp10 study term long extension safety data efficacy provide 2', 'efficacy rate treatment clinically mabthera shown ctp10 subject data sma', 'safety data considered concern available ctp10 additional profile patient period', 'combination infusion reported infection common event related reaction analysis lenvatinib', 'study reported data phase subject 3 assessed safety due one', 'risk addressed section adequately various rmp important identified smpc potentially', 'compared increase use addition section appears conclusion barrier concerning sofvel', 'dos higher could efficacy safety proposed immune related recommendation risk', 'rate overall compared however two difference indication general exposed total', 'product incidence reference group similar lower safety patient overall aes', 'aes related including appetite spasm decreased vomiting rash muscle potentially', 'number patient sufficient including compensated studied cirrhosis substantial sofvelvox product', 'humira bioequivalence aes comparable mg profile safety study laboratory discontinuation', 'sb5 humira support result product profile claim biosimilarity submitted observed', 'patient study clinical chf 5993 use therapy relevant superior triple', 'week 12 sofvelvox 8 course sofvel daanaïve patient population however', 'product safety chmp data efficacy provided regard following measure clinical', 'insulin lixisenatide hba1c study taken result whereas glargine may glucose', 'study mg acceptable similarity considered clinical ctp10 objective motor improvement', 'acceptable considered strength mg 20 biowaiver initiative dm key hba1c']\n"
     ]
    }
   ],
   "source": [
    "# train a LDA Model\n",
    "lda_model = decomposition.LatentDirichletAllocation(n_components=20, learning_method='online', max_iter=20)\n",
    "\n",
    "X_topics = lda_model.fit_transform(count_vect.fit_transform(df.Sentence))\n",
    "topic_word = lda_model.components_ \n",
    "vocab = count_vect.get_feature_names()\n",
    "\n",
    "# view the topic models\n",
    "n_top_words = 10\n",
    "topic_summaries = []\n",
    "for i, topic_dist in enumerate(topic_word):\n",
    "    topic_words = np.array(vocab)[np.argsort(topic_dist)][:-(n_top_words+1):-1]\n",
    "    topic_summaries.append(' '.join(topic_words))\n",
    "print (topic_summaries)"
   ]
  },
  {
   "cell_type": "markdown",
   "metadata": {},
   "source": [
    "### Topic visualizaion"
   ]
  },
  {
   "cell_type": "code",
   "execution_count": 17,
   "metadata": {},
   "outputs": [
    {
     "name": "stdout",
     "output_type": "stream",
     "text": [
      "(0, '0.254*\"provided\" + 0.194*\"additional\" + 0.181*\"study\" + 0.087*\"clinical\" + 0.045*\"support\"')\n",
      "(1, '0.436*\"result\" + 0.404*\"efficacy\" + 0.084*\"ctp10\" + 0.006*\"safety\" + 0.004*\"combination\"')\n",
      "(2, '0.279*\"product\" + 0.239*\"clinical\" + 0.099*\"efficacy\" + 0.089*\"chmp\" + 0.086*\"reference\"')\n",
      "(3, '0.353*\"safety\" + 0.243*\"profile\" + 0.099*\"product\" + 0.083*\"reference\" + 0.070*\"overall\"')\n",
      "(4, '0.662*\"week\" + 0.200*\"chmp\" + 0.028*\"bioequivalence\" + 0.022*\"safety\" + 0.005*\"support\"')\n",
      "(5, '0.206*\"data\" + 0.151*\"safety\" + 0.146*\"ctp10\" + 0.112*\"considered\" + 0.089*\"patient\"')\n",
      "(6, '0.246*\"treatment\" + 0.220*\"patient\" + 0.146*\"compared\" + 0.138*\"effect\" + 0.137*\"difference\"')\n",
      "(7, '0.307*\"observed\" + 0.252*\"rate\" + 0.147*\"support\" + 0.095*\"additional\" + 0.087*\"difference\"')\n",
      "(8, '0.561*\"study\" + 0.119*\"bioequivalence\" + 0.078*\"efficacy\" + 0.068*\"patient\" + 0.037*\"overall\"')\n",
      "(9, '0.268*\"data\" + 0.161*\"subject\" + 0.159*\"combination\" + 0.116*\"support\" + 0.110*\"clinical\"')\n"
     ]
    }
   ],
   "source": [
    "\n",
    "tokenized_sents = [word_tokenize(i) for i in df.Sentence]\n",
    "dictionary = corpora.Dictionary(tokenized_sents)\n",
    "dictionary.filter_extremes(no_below=15, no_above=0.5, keep_n=100000)\n",
    "corpus_yes = [dictionary.doc2bow(text) for text in tokenized_sents]\n",
    "pickle.dump(corpus_yes, open('corpus.pkl', 'wb'))\n",
    "dictionary.save('dictionary.gensim')\n",
    "\n",
    "NUM_TOPICS = 10\n",
    "ldamodel_yes = gensim.models.ldamodel.LdaModel(corpus_yes, num_topics = NUM_TOPICS, id2word=dictionary, passes=15)\n",
    "ldamodel_yes.save('model5.gensim')\n",
    "topics = ldamodel_yes.print_topics(num_words=5)\n",
    "for topic in topics:\n",
    "    print (topic)"
   ]
  },
  {
   "cell_type": "code",
   "execution_count": 18,
   "metadata": {},
   "outputs": [
    {
     "data": {
      "text/html": [
       "\n",
       "<link rel=\"stylesheet\" type=\"text/css\" href=\"https://cdn.rawgit.com/bmabey/pyLDAvis/files/ldavis.v1.0.0.css\">\n",
       "\n",
       "\n",
       "<div id=\"ldavis_el565450094304729223841615\"></div>\n",
       "<script type=\"text/javascript\">\n",
       "\n",
       "var ldavis_el565450094304729223841615_data = {\"mdsDat\": {\"x\": [-0.11543307215582478, -0.001169117987536754, -0.18403360014040657, -0.17418841250961536, 0.10531620667588805, -0.1360725399739635, 0.3308673587532155, 0.2136798685452285, -0.09594111780992003, 0.05697442660293461], \"y\": [-0.03193750921069725, 0.24570688166015942, -0.111728449155587, -0.1449307704139673, -0.0438772490309403, 0.12167392883077799, 0.1299018990345586, -0.18693800568726385, 0.21139237757525509, -0.1892631036022961], \"topics\": [1, 2, 3, 4, 5, 6, 7, 8, 9, 10], \"cluster\": [1, 1, 1, 1, 1, 1, 1, 1, 1, 1], \"Freq\": [6.09743070602417, 5.094046592712402, 10.741518020629883, 13.1516752243042, 4.316289901733398, 16.17839813232422, 12.012898445129395, 6.546996593475342, 14.167668342590332, 11.693075180053711]}, \"tinfo\": {\"Category\": [\"Default\", \"Default\", \"Default\", \"Default\", \"Default\", \"Default\", \"Default\", \"Default\", \"Default\", \"Default\", \"Default\", \"Default\", \"Default\", \"Default\", \"Default\", \"Default\", \"Default\", \"Default\", \"Default\", \"Default\", \"Default\", \"Default\", \"Default\", \"Default\", \"Default\", \"Default\", \"Default\", \"Default\", \"Topic1\", \"Topic1\", \"Topic1\", \"Topic1\", \"Topic1\", \"Topic1\", \"Topic1\", \"Topic1\", \"Topic1\", \"Topic1\", \"Topic1\", \"Topic1\", \"Topic1\", \"Topic1\", \"Topic1\", \"Topic1\", \"Topic1\", \"Topic1\", \"Topic1\", \"Topic1\", \"Topic1\", \"Topic1\", \"Topic1\", \"Topic1\", \"Topic1\", \"Topic1\", \"Topic1\", \"Topic1\", \"Topic2\", \"Topic2\", \"Topic2\", \"Topic2\", \"Topic2\", \"Topic2\", \"Topic2\", \"Topic2\", \"Topic2\", \"Topic2\", \"Topic2\", \"Topic2\", \"Topic2\", \"Topic2\", \"Topic2\", \"Topic2\", \"Topic2\", \"Topic2\", \"Topic2\", \"Topic2\", \"Topic2\", \"Topic2\", \"Topic2\", \"Topic2\", \"Topic2\", \"Topic2\", \"Topic2\", \"Topic2\", \"Topic3\", \"Topic3\", \"Topic3\", \"Topic3\", \"Topic3\", \"Topic3\", \"Topic3\", \"Topic3\", \"Topic3\", \"Topic3\", \"Topic3\", \"Topic3\", \"Topic3\", \"Topic3\", \"Topic3\", \"Topic3\", \"Topic3\", \"Topic3\", \"Topic3\", \"Topic3\", \"Topic3\", \"Topic3\", \"Topic3\", \"Topic3\", \"Topic3\", \"Topic3\", \"Topic3\", \"Topic3\", \"Topic4\", \"Topic4\", \"Topic4\", \"Topic4\", \"Topic4\", \"Topic4\", \"Topic4\", \"Topic4\", \"Topic4\", \"Topic4\", \"Topic4\", \"Topic4\", \"Topic4\", \"Topic4\", \"Topic4\", \"Topic4\", \"Topic4\", \"Topic4\", \"Topic4\", \"Topic4\", \"Topic4\", \"Topic4\", \"Topic4\", \"Topic4\", \"Topic4\", \"Topic4\", \"Topic4\", \"Topic4\", \"Topic5\", \"Topic5\", \"Topic5\", \"Topic5\", \"Topic5\", \"Topic5\", \"Topic5\", \"Topic5\", \"Topic5\", \"Topic5\", \"Topic5\", \"Topic5\", \"Topic5\", \"Topic5\", \"Topic5\", \"Topic5\", \"Topic5\", \"Topic5\", \"Topic5\", \"Topic5\", \"Topic5\", \"Topic5\", \"Topic5\", \"Topic5\", \"Topic5\", \"Topic5\", \"Topic5\", \"Topic5\", \"Topic6\", \"Topic6\", \"Topic6\", \"Topic6\", \"Topic6\", \"Topic6\", \"Topic6\", \"Topic6\", \"Topic6\", \"Topic6\", \"Topic6\", \"Topic6\", \"Topic6\", \"Topic6\", \"Topic6\", \"Topic6\", \"Topic6\", \"Topic6\", \"Topic6\", \"Topic6\", \"Topic6\", \"Topic6\", \"Topic6\", \"Topic6\", \"Topic6\", \"Topic6\", \"Topic6\", \"Topic6\", \"Topic7\", \"Topic7\", \"Topic7\", \"Topic7\", \"Topic7\", \"Topic7\", \"Topic7\", \"Topic7\", \"Topic7\", \"Topic7\", \"Topic7\", \"Topic7\", \"Topic7\", \"Topic7\", \"Topic7\", \"Topic7\", \"Topic7\", \"Topic7\", \"Topic7\", \"Topic7\", \"Topic7\", \"Topic7\", \"Topic7\", \"Topic7\", \"Topic7\", \"Topic7\", \"Topic7\", \"Topic7\", \"Topic8\", \"Topic8\", \"Topic8\", \"Topic8\", \"Topic8\", \"Topic8\", \"Topic8\", \"Topic8\", \"Topic8\", \"Topic8\", \"Topic8\", \"Topic8\", \"Topic8\", \"Topic8\", \"Topic8\", \"Topic8\", \"Topic8\", \"Topic8\", \"Topic8\", \"Topic8\", \"Topic8\", \"Topic8\", \"Topic8\", \"Topic8\", \"Topic8\", \"Topic8\", \"Topic8\", \"Topic8\", \"Topic9\", \"Topic9\", \"Topic9\", \"Topic9\", \"Topic9\", \"Topic9\", \"Topic9\", \"Topic9\", \"Topic9\", \"Topic9\", \"Topic9\", \"Topic9\", \"Topic9\", \"Topic9\", \"Topic9\", \"Topic9\", \"Topic9\", \"Topic9\", \"Topic9\", \"Topic9\", \"Topic9\", \"Topic9\", \"Topic9\", \"Topic9\", \"Topic9\", \"Topic9\", \"Topic9\", \"Topic9\", \"Topic10\", \"Topic10\", \"Topic10\", \"Topic10\", \"Topic10\", \"Topic10\", \"Topic10\", \"Topic10\", \"Topic10\", \"Topic10\", \"Topic10\", \"Topic10\", \"Topic10\", \"Topic10\", \"Topic10\", \"Topic10\", \"Topic10\", \"Topic10\", \"Topic10\", \"Topic10\", \"Topic10\", \"Topic10\", \"Topic10\", \"Topic10\", \"Topic10\", \"Topic10\", \"Topic10\", \"Topic10\"], \"Freq\": [91.0, 29.0, 49.0, 26.0, 64.0, 76.0, 40.0, 30.0, 39.0, 19.0, 36.0, 19.0, 17.0, 47.0, 22.0, 19.0, 23.0, 28.0, 22.0, 20.0, 20.0, 18.0, 18.0, 16.0, 18.0, 28.0, 17.0, 14.0, 13.602587699890137, 10.368643760681152, 4.651061534881592, 9.663101196289062, 2.0360865592956543, 2.380443572998047, 1.2428590059280396, 2.3724241256713867, 1.446056604385376, 1.9174343347549438, 1.346780776977539, 0.14039146900177002, 0.1446523666381836, 0.1162916049361229, 0.11489105224609375, 0.11489129811525345, 0.11527813225984573, 0.46725571155548096, 0.12212705612182617, 0.11279913038015366, 0.11279931664466858, 0.1219341829419136, 0.1127992644906044, 0.1218818947672844, 0.15677553415298462, 0.12261171638965607, 0.11549004167318344, 0.1341325044631958, 19.471405029296875, 18.05402946472168, 3.768613815307617, 0.17354324460029602, 0.18520939350128174, 0.1217128187417984, 0.12396945059299469, 0.12171240150928497, 0.1217125877737999, 0.12171290069818497, 0.12172386795282364, 0.12397029995918274, 0.12442867457866669, 0.12171291559934616, 0.12171291559934616, 0.12173271924257278, 0.12171249836683273, 0.12174816429615021, 0.12171278893947601, 0.12171641737222672, 0.12171722203493118, 0.16966401040554047, 0.2713455557823181, 0.12171749025583267, 0.1296624094247818, 0.1314433068037033, 0.12172006070613861, 0.12173154950141907, 26.319005966186523, 22.484081268310547, 8.117563247680664, 8.376843452453613, 9.368849754333496, 3.2603471279144287, 1.801371693611145, 7.159337997436523, 5.099057197570801, 0.30961307883262634, 0.10412649065256119, 0.10414595156908035, 0.11719369888305664, 0.10412270575761795, 0.10412152856588364, 0.11079274117946625, 0.10412240028381348, 0.10412237793207169, 0.10412204265594482, 0.10415155440568924, 0.10412555187940598, 0.10415289551019669, 0.10412154346704483, 0.10412196069955826, 0.10412170737981796, 0.10412982851266861, 0.1171368807554245, 0.10413412749767303, 28.07732391357422, 40.67193603515625, 9.615958213806152, 8.130683898925781, 11.459456443786621, 4.785671710968018, 4.47446870803833, 3.1210384368896484, 2.911363124847412, 0.13659487664699554, 0.09394337236881256, 0.22890153527259827, 0.09391763806343079, 0.1012985110282898, 0.09565944224596024, 0.09391766041517258, 0.09392202645540237, 0.09391891211271286, 0.09761375188827515, 0.09888879954814911, 0.09392458945512772, 0.09770198166370392, 0.10313740372657776, 0.0995207130908966, 0.10463876277208328, 0.09845022857189178, 0.17245063185691833, 0.09392301738262177, 25.052413940429688, 7.577271461486816, 1.0630801916122437, 0.8351426720619202, 0.1346011608839035, 0.19590307772159576, 0.13588102161884308, 0.13459345698356628, 0.13458450138568878, 0.13460613787174225, 0.13458403944969177, 0.1370849460363388, 0.13460861146450043, 0.13459379971027374, 0.13458852469921112, 0.14049175381660461, 0.13458450138568878, 0.1345912218093872, 0.1409231722354889, 0.1345842182636261, 0.14307907223701477, 0.1345960944890976, 0.1386188119649887, 0.13459376990795135, 0.13460485637187958, 0.13459724187850952, 0.13459719717502594, 0.14046984910964966, 20.69952964782715, 8.63115119934082, 15.889418601989746, 29.260726928710938, 21.366958618164062, 12.666136741638184, 5.996402263641357, 10.113862991333008, 3.1436750888824463, 11.734928131103516, 0.6782357096672058, 0.1677265167236328, 0.08808161318302155, 0.11245642602443695, 0.0965900719165802, 0.08863066136837006, 0.08828044682741165, 0.08808140456676483, 0.08648453652858734, 0.11491817235946655, 0.08882950991392136, 0.0864778384566307, 0.09555396437644958, 0.10426817089319229, 0.09089428186416626, 0.10446887463331223, 0.11186773329973221, 0.08995528519153595, 15.393951416015625, 14.57257080078125, 25.952152252197266, 14.423652648925781, 23.2036075592041, 5.629695892333984, 3.3182873725891113, 0.624229371547699, 0.3310152292251587, 0.15415425598621368, 0.0937095656991005, 0.09369949996471405, 0.09553482383489609, 0.0937030166387558, 0.09369926154613495, 0.09371162205934525, 0.093714140355587, 0.09753873944282532, 0.10520265996456146, 0.09371203929185867, 0.0936993658542633, 0.09620273858308792, 0.10555704683065414, 0.09720039367675781, 0.10075141489505768, 0.0992150828242302, 0.10926036536693573, 0.09371308237314224, 17.624725341796875, 14.474921226501465, 8.453125953674316, 4.9782586097717285, 5.441318035125732, 2.3032073974609375, 1.3495841026306152, 0.21189330518245697, 0.4132896065711975, 0.10677921772003174, 0.10678160935640335, 0.10678060352802277, 0.10679908841848373, 0.10679281502962112, 0.10677924752235413, 0.14227533340454102, 0.1067889854311943, 0.10677947103977203, 0.12525977194309235, 0.11076326668262482, 0.10677927732467651, 0.1583654284477234, 0.10876878350973129, 0.10877995193004608, 0.10878541320562363, 0.12644857168197632, 0.10678791999816895, 0.10955613106489182, 14.791023254394531, 69.689697265625, 4.628883361816406, 3.7113897800445557, 9.692404747009277, 8.501556396484375, 4.438433647155762, 3.9662153720855713, 1.413368821144104, 0.7153465747833252, 0.2440193146467209, 0.20969684422016144, 0.2345612645149231, 0.14693127572536469, 0.20036031305789948, 0.30409395694732666, 0.27756109833717346, 0.09668439626693726, 0.0942419096827507, 0.09810584783554077, 0.09236427396535873, 0.09327445179224014, 0.10560590773820877, 0.09342465549707413, 0.09378077834844589, 0.09042783081531525, 0.09042973816394806, 0.13660219311714172, 16.33429527282715, 16.558326721191406, 11.876635551452637, 27.436981201171875, 11.297977447509766, 8.103909492492676, 3.5025129318237305, 1.450577735900879, 2.2965757846832275, 0.6856069564819336, 1.129191517829895, 0.3133895695209503, 0.15630806982517242, 0.09419272840023041, 0.09673873335123062, 0.09173442423343658, 0.09343560039997101, 0.09410921484231949, 0.09173282235860825, 0.0935310646891594, 0.0917329341173172, 0.09363813698291779, 0.09940366446971893, 0.09173299372196198, 0.09439818561077118, 0.09173399955034256, 0.09175748378038406, 0.0961310938000679], \"Term\": [\"study\", \"week\", \"efficacy\", \"result\", \"data\", \"safety\", \"product\", \"profile\", \"clinical\", \"observed\", \"treatment\", \"rate\", \"provided\", \"patient\", \"additional\", \"chmp\", \"support\", \"ctp10\", \"subject\", \"difference\", \"combination\", \"compared\", \"effect\", \"bioequivalence\", \"reference\", \"considered\", \"overall\", \"based\", \"provided\", \"additional\", \"clinical\", \"study\", \"chmp\", \"support\", \"based\", \"considered\", \"product\", \"data\", \"efficacy\", \"compared\", \"rate\", \"bioequivalence\", \"overall\", \"effect\", \"reference\", \"safety\", \"combination\", \"observed\", \"difference\", \"subject\", \"result\", \"ctp10\", \"treatment\", \"week\", \"profile\", \"patient\", \"result\", \"efficacy\", \"ctp10\", \"based\", \"combination\", \"bioequivalence\", \"provided\", \"overall\", \"compared\", \"effect\", \"reference\", \"observed\", \"chmp\", \"rate\", \"difference\", \"subject\", \"additional\", \"support\", \"considered\", \"week\", \"profile\", \"patient\", \"safety\", \"treatment\", \"clinical\", \"product\", \"data\", \"study\", \"product\", \"clinical\", \"reference\", \"chmp\", \"efficacy\", \"provided\", \"compared\", \"safety\", \"data\", \"overall\", \"based\", \"bioequivalence\", \"rate\", \"effect\", \"observed\", \"difference\", \"combination\", \"subject\", \"additional\", \"support\", \"result\", \"considered\", \"ctp10\", \"week\", \"profile\", \"treatment\", \"patient\", \"study\", \"profile\", \"safety\", \"reference\", \"overall\", \"product\", \"subject\", \"considered\", \"combination\", \"ctp10\", \"bioequivalence\", \"based\", \"treatment\", \"provided\", \"observed\", \"compared\", \"effect\", \"chmp\", \"rate\", \"difference\", \"additional\", \"support\", \"result\", \"week\", \"clinical\", \"patient\", \"efficacy\", \"study\", \"data\", \"week\", \"chmp\", \"bioequivalence\", \"safety\", \"based\", \"support\", \"provided\", \"overall\", \"compared\", \"effect\", \"reference\", \"observed\", \"rate\", \"difference\", \"combination\", \"additional\", \"subject\", \"result\", \"considered\", \"ctp10\", \"profile\", \"treatment\", \"clinical\", \"product\", \"patient\", \"efficacy\", \"data\", \"study\", \"ctp10\", \"based\", \"considered\", \"data\", \"safety\", \"patient\", \"additional\", \"efficacy\", \"effect\", \"study\", \"overall\", \"rate\", \"bioequivalence\", \"subject\", \"observed\", \"provided\", \"compared\", \"reference\", \"chmp\", \"result\", \"combination\", \"difference\", \"support\", \"profile\", \"week\", \"treatment\", \"clinical\", \"product\", \"compared\", \"effect\", \"treatment\", \"difference\", \"patient\", \"result\", \"week\", \"observed\", \"support\", \"additional\", \"based\", \"bioequivalence\", \"overall\", \"provided\", \"reference\", \"chmp\", \"rate\", \"combination\", \"subject\", \"considered\", \"ctp10\", \"profile\", \"clinical\", \"product\", \"efficacy\", \"data\", \"safety\", \"study\", \"observed\", \"rate\", \"support\", \"difference\", \"additional\", \"overall\", \"profile\", \"reference\", \"product\", \"based\", \"bioequivalence\", \"provided\", \"compared\", \"effect\", \"chmp\", \"result\", \"combination\", \"subject\", \"week\", \"considered\", \"ctp10\", \"efficacy\", \"treatment\", \"clinical\", \"patient\", \"safety\", \"data\", \"study\", \"bioequivalence\", \"study\", \"overall\", \"based\", \"efficacy\", \"patient\", \"considered\", \"safety\", \"treatment\", \"rate\", \"chmp\", \"difference\", \"ctp10\", \"reference\", \"result\", \"product\", \"clinical\", \"compared\", \"provided\", \"effect\", \"observed\", \"combination\", \"support\", \"subject\", \"additional\", \"week\", \"profile\", \"data\", \"combination\", \"subject\", \"support\", \"data\", \"clinical\", \"treatment\", \"rate\", \"overall\", \"patient\", \"chmp\", \"safety\", \"considered\", \"based\", \"bioequivalence\", \"compared\", \"provided\", \"effect\", \"observed\", \"reference\", \"difference\", \"additional\", \"result\", \"profile\", \"ctp10\", \"week\", \"product\", \"efficacy\", \"study\"], \"Total\": [91.0, 29.0, 49.0, 26.0, 64.0, 76.0, 40.0, 30.0, 39.0, 19.0, 36.0, 19.0, 17.0, 47.0, 22.0, 19.0, 23.0, 28.0, 22.0, 20.0, 20.0, 18.0, 18.0, 16.0, 18.0, 28.0, 17.0, 14.0, 17.69179344177246, 22.61124610900879, 39.404685974121094, 91.92591857910156, 19.425155639648438, 23.758106231689453, 14.448410987854004, 28.059398651123047, 40.4868278503418, 64.40704345703125, 49.15985107421875, 18.076171875, 19.566307067871094, 16.71560287475586, 17.967933654785156, 18.583829879760742, 18.737443923950195, 76.10308837890625, 20.387813568115234, 19.111291885375977, 20.369129180908203, 22.24423599243164, 26.101511001586914, 28.26686668395996, 36.42878723144531, 29.223268508911133, 30.30162239074707, 47.43684005737305, 26.101511001586914, 49.15985107421875, 28.26686668395996, 14.448410987854004, 20.387813568115234, 16.71560287475586, 17.69179344177246, 17.967933654785156, 18.076171875, 18.583829879760742, 18.737443923950195, 19.111291885375977, 19.425155639648438, 19.566307067871094, 20.369129180908203, 22.24423599243164, 22.61124610900879, 23.758106231689453, 28.059398651123047, 29.223268508911133, 30.30162239074707, 47.43684005737305, 76.10308837890625, 36.42878723144531, 39.404685974121094, 40.4868278503418, 64.40704345703125, 91.92591857910156, 40.4868278503418, 39.404685974121094, 18.737443923950195, 19.425155639648438, 49.15985107421875, 17.69179344177246, 18.076171875, 76.10308837890625, 64.40704345703125, 17.967933654785156, 14.448410987854004, 16.71560287475586, 19.566307067871094, 18.583829879760742, 19.111291885375977, 20.369129180908203, 20.387813568115234, 22.24423599243164, 22.61124610900879, 23.758106231689453, 26.101511001586914, 28.059398651123047, 28.26686668395996, 29.223268508911133, 30.30162239074707, 36.42878723144531, 47.43684005737305, 91.92591857910156, 30.30162239074707, 76.10308837890625, 18.737443923950195, 17.967933654785156, 40.4868278503418, 22.24423599243164, 28.059398651123047, 20.387813568115234, 28.26686668395996, 16.71560287475586, 14.448410987854004, 36.42878723144531, 17.69179344177246, 19.111291885375977, 18.076171875, 18.583829879760742, 19.425155639648438, 19.566307067871094, 20.369129180908203, 22.61124610900879, 23.758106231689453, 26.101511001586914, 29.223268508911133, 39.404685974121094, 47.43684005737305, 49.15985107421875, 91.92591857910156, 64.40704345703125, 29.223268508911133, 19.425155639648438, 16.71560287475586, 76.10308837890625, 14.448410987854004, 23.758106231689453, 17.69179344177246, 17.967933654785156, 18.076171875, 18.583829879760742, 18.737443923950195, 19.111291885375977, 19.566307067871094, 20.369129180908203, 20.387813568115234, 22.61124610900879, 22.24423599243164, 26.101511001586914, 28.059398651123047, 28.26686668395996, 30.30162239074707, 36.42878723144531, 39.404685974121094, 40.4868278503418, 47.43684005737305, 49.15985107421875, 64.40704345703125, 91.92591857910156, 28.26686668395996, 14.448410987854004, 28.059398651123047, 64.40704345703125, 76.10308837890625, 47.43684005737305, 22.61124610900879, 49.15985107421875, 18.583829879760742, 91.92591857910156, 17.967933654785156, 19.566307067871094, 16.71560287475586, 22.24423599243164, 19.111291885375977, 17.69179344177246, 18.076171875, 18.737443923950195, 19.425155639648438, 26.101511001586914, 20.387813568115234, 20.369129180908203, 23.758106231689453, 30.30162239074707, 29.223268508911133, 36.42878723144531, 39.404685974121094, 40.4868278503418, 18.076171875, 18.583829879760742, 36.42878723144531, 20.369129180908203, 47.43684005737305, 26.101511001586914, 29.223268508911133, 19.111291885375977, 23.758106231689453, 22.61124610900879, 14.448410987854004, 16.71560287475586, 17.967933654785156, 17.69179344177246, 18.737443923950195, 19.425155639648438, 19.566307067871094, 20.387813568115234, 22.24423599243164, 28.059398651123047, 28.26686668395996, 30.30162239074707, 39.404685974121094, 40.4868278503418, 49.15985107421875, 64.40704345703125, 76.10308837890625, 91.92591857910156, 19.111291885375977, 19.566307067871094, 23.758106231689453, 20.369129180908203, 22.61124610900879, 17.967933654785156, 30.30162239074707, 18.737443923950195, 40.4868278503418, 14.448410987854004, 16.71560287475586, 17.69179344177246, 18.076171875, 18.583829879760742, 19.425155639648438, 26.101511001586914, 20.387813568115234, 22.24423599243164, 29.223268508911133, 28.059398651123047, 28.26686668395996, 49.15985107421875, 36.42878723144531, 39.404685974121094, 47.43684005737305, 76.10308837890625, 64.40704345703125, 91.92591857910156, 16.71560287475586, 91.92591857910156, 17.967933654785156, 14.448410987854004, 49.15985107421875, 47.43684005737305, 28.059398651123047, 76.10308837890625, 36.42878723144531, 19.566307067871094, 19.425155639648438, 20.369129180908203, 28.26686668395996, 18.737443923950195, 26.101511001586914, 40.4868278503418, 39.404685974121094, 18.076171875, 17.69179344177246, 18.583829879760742, 19.111291885375977, 20.387813568115234, 23.758106231689453, 22.24423599243164, 22.61124610900879, 29.223268508911133, 30.30162239074707, 64.40704345703125, 20.387813568115234, 22.24423599243164, 23.758106231689453, 64.40704345703125, 39.404685974121094, 36.42878723144531, 19.566307067871094, 17.967933654785156, 47.43684005737305, 19.425155639648438, 76.10308837890625, 28.059398651123047, 14.448410987854004, 16.71560287475586, 18.076171875, 17.69179344177246, 18.583829879760742, 19.111291885375977, 18.737443923950195, 20.369129180908203, 22.61124610900879, 26.101511001586914, 30.30162239074707, 28.26686668395996, 29.223268508911133, 40.4868278503418, 49.15985107421875, 91.92591857910156], \"loglift\": [28.0, 27.0, 26.0, 25.0, 24.0, 23.0, 22.0, 21.0, 20.0, 19.0, 18.0, 17.0, 16.0, 15.0, 14.0, 13.0, 12.0, 11.0, 10.0, 9.0, 8.0, 7.0, 6.0, 5.0, 4.0, 3.0, 2.0, 1.0, 2.5344998836517334, 2.0176000595092773, 0.6604999899864197, 0.5446000099182129, 0.5418000221252441, 0.4966999888420105, 0.3440999984741211, 0.32690000534057617, -0.5347999930381775, -0.7168999910354614, -0.8001000285148621, -2.0606000423431396, -2.1098999977111816, -2.1707000732421875, -2.2551000118255615, -2.288800001144409, -2.293600082397461, -2.2957000732421875, -2.3203001022338867, -2.335099935531616, -2.398900032043457, -2.40910005569458, -2.6468000411987305, -2.6491000652313232, -2.6510000228881836, -2.6763999462127686, -2.7725000381469727, -3.071000099182129, 2.6840999126434326, 1.9753999710083008, 0.9621000289916992, -1.4448000192642212, -1.7240999937057495, -1.9452999830245972, -1.9837000370025635, -2.0176000595092773, -2.0236001014709473, -2.051300048828125, -2.0594000816345215, -2.0608999729156494, -2.073499917984009, -2.102799892425537, -2.1429998874664307, -2.2309000492095947, -2.2474000453948975, -2.296600103378296, -2.4632999897003174, -2.5039000511169434, -2.5401999950408936, -2.6561999320983887, -2.65939998626709, -2.724299907684326, -2.7395999431610107, -2.7530999183654785, -3.2941999435424805, -3.6498000621795654, 1.8004000186920166, 1.6699999570846558, 1.3946000337600708, 1.3899999856948853, 0.5734000205993652, 0.5397999882698059, -0.07500000298023224, -0.13259999454021454, -0.3050999939441681, -1.8300000429153442, -2.70169997215271, -2.8473000526428223, -2.886699914932251, -2.953399896621704, -2.9814000129699707, -2.983099937438965, -3.046099901199341, -3.13319993019104, -3.149600028991699, -3.1988000869750977, -3.293100118637085, -3.3652000427246094, -3.37280011177063, -3.406100034713745, -3.4423000812530518, -3.6263999938964844, -3.7727999687194824, -4.552000045776367, 1.9523999691009521, 1.4020999670028687, 1.3615000247955322, 1.235700011253357, 0.7664999961853027, 0.49219998717308044, 0.19269999861717224, 0.1518000066280365, -0.2443999946117401, -2.7785000801086426, -3.006999969482422, -3.0411999225616455, -3.2098000049591064, -3.2112998962402344, -3.212899923324585, -3.259000062942505, -3.3032000064849854, -3.310499906539917, -3.3120999336242676, -3.403599977493286, -3.5046000480651855, -3.5592000484466553, -3.618000030517578, -3.952699899673462, -4.0879998207092285, -4.184700012207031, -4.25, -4.5019001960754395, 2.988800048828125, 2.2014000415802, 0.38760000467300415, -1.3695000410079956, -1.5332000255584717, -1.6553000211715698, -1.7263000011444092, -1.7512999773025513, -1.7574000358581543, -1.7848999500274658, -1.7933000326156616, -1.794700026512146, -1.836400032043457, -1.8767000436782837, -1.8776999711990356, -1.9383000135421753, -1.964900016784668, -2.1247000694274902, -2.151099920272827, -2.2044999599456787, -2.2128000259399414, -2.4581000804901123, -2.5071001052856445, -2.563699960708618, -2.7219998836517334, -2.7578001022338867, -3.027899980545044, -3.3410000801086426, 1.5098999738693237, 1.3063000440597534, 1.2527999877929688, 1.0325000286102295, 0.5512999892234802, 0.5009999871253967, 0.4941999912261963, 0.2402999997138977, 0.044599998742341995, -0.23690000176429749, -1.455399990081787, -2.937700033187866, -3.424299955368042, -3.4658000469207764, -3.466099977493286, -3.474900007247925, -3.5002999305725098, -3.5385000705718994, -3.592900037765503, -3.6040000915527344, -3.614500045776367, -3.640399932861328, -3.694499969482422, -3.8505001068115234, -3.9514999389648438, -4.032700061798096, -4.042799949645996, -4.287899971008301, 1.9586000442504883, 1.8760000467300415, 1.7800999879837036, 1.7740000486373901, 1.404099941253662, 0.5853000283241272, -0.056299999356269836, -1.302299976348877, -2.1542999744415283, -2.8691000938415527, -2.9189999103546143, -3.0648000240325928, -3.1177000999450684, -3.121500015258789, -3.178999900817871, -3.214900016784668, -3.222100019454956, -3.223299980163574, -3.234800100326538, -3.58270001411438, -3.5901999473571777, -3.6333000659942627, -3.8032000064849854, -3.9128000736236572, -4.071000099182129, -4.356500148773193, -4.4268999099731445, -4.7692999839782715, 2.64520001411438, 2.424799919128418, 1.6928000450134277, 1.317199945449829, 1.3016999959945679, 0.6718999743461609, -0.38519999384880066, -1.75600004196167, -1.8583999872207642, -2.1814000606536865, -2.3271000385284424, -2.3838999271392822, -2.4052000045776367, -2.433000087738037, -2.477400064468384, -2.48580002784729, -2.525700092315674, -2.6129000186920166, -2.7262001037597656, -2.808500051498413, -2.8524999618530273, -3.0118000507354736, -3.0876998901367188, -3.166100025177002, -3.351599931716919, -3.673799991607666, -3.6760001182556152, -4.006100177764893, 1.8319000005722046, 1.677299976348877, 0.5978999733924866, 0.5950000286102295, 0.3305000066757202, 0.23510000109672546, 0.11020000278949738, -1.000100016593933, -1.295199990272522, -1.354599952697754, -2.4228999614715576, -2.6219000816345215, -2.8375000953674316, -2.8940999507904053, -2.9154000282287598, -2.9372000694274902, -3.0013999938964844, -3.276700019836426, -3.2808001041412354, -3.289799928665161, -3.3780999183654785, -3.4328999519348145, -3.4618000984191895, -3.5185000896453857, -3.5309998989105225, -3.8239998817443848, -3.8601999282836914, -4.201700210571289, 1.9244999885559082, 1.8509999513626099, 1.4528000354766846, 1.292799949645996, 0.8968999981880188, 0.6431999802589417, 0.42579999566078186, -0.37049999833106995, -0.8817999958992004, -1.1978000402450562, -2.0643999576568604, -2.3485000133514404, -2.3803000450134277, -3.032599925994873, -3.084199905395508, -3.115799903869629, -3.1466000080108643, -3.1673998832702637, -3.1731998920440674, -3.237299919128418, -3.3610999584198, -3.484100103378296, -3.5736000537872314, -3.584399938583374, -3.5889999866485596, -3.943700075149536, -4.137499809265137, -4.716899871826172], \"logprob\": [28.0, 27.0, 26.0, 25.0, 24.0, 23.0, 22.0, 21.0, 20.0, 19.0, 18.0, 17.0, 16.0, 15.0, 14.0, 13.0, 12.0, 11.0, 10.0, 9.0, 8.0, 7.0, 6.0, 5.0, 4.0, 3.0, 2.0, 1.0, -1.368899941444397, -1.6404000520706177, -2.4421000480651855, -1.7108999490737915, -3.268199920654297, -3.1119000911712646, -3.7618000507354736, -3.115299940109253, -3.6103999614715576, -3.328200101852417, -3.68149995803833, -5.942500114440918, -5.912600040435791, -6.130899906158447, -6.14300012588501, -6.14300012588501, -6.139599800109863, -4.740099906921387, -6.081900119781494, -6.161399841308594, -6.161300182342529, -6.083499908447266, -6.161300182342529, -6.083899974822998, -5.832099914550781, -6.077899932861328, -6.137800216674805, -5.988100051879883, -0.8305000066757202, -0.906000018119812, -2.4727001190185547, -5.5507001876831055, -5.4857001304626465, -5.9054999351501465, -5.8871002197265625, -5.9054999351501465, -5.9054999351501465, -5.9054999351501465, -5.905399799346924, -5.8871002197265625, -5.883399963378906, -5.9054999351501465, -5.9054999351501465, -5.905300140380859, -5.9054999351501465, -5.905200004577637, -5.9054999351501465, -5.9054999351501465, -5.9054999351501465, -5.573299884796143, -5.103799819946289, -5.9054999351501465, -5.842199802398682, -5.82859992980957, -5.905399799346924, -5.905300140380859, -1.2752000093460083, -1.4326000213623047, -2.4514000415802, -2.4200000762939453, -2.3080999851226807, -3.363600015640259, -3.956899881362915, -2.5769999027252197, -2.9163999557495117, -5.717899799346924, -6.807600021362305, -6.807400226593018, -6.6894001960754395, -6.807600021362305, -6.807600021362305, -6.745500087738037, -6.807600021362305, -6.807600021362305, -6.807600021362305, -6.807400226593018, -6.807600021362305, -6.807300090789795, -6.807600021362305, -6.807600021362305, -6.807600021362305, -6.807600021362305, -6.689899921417236, -6.807499885559082, -1.4128999710083008, -1.0422999858856201, -2.484499931335449, -2.6521999835968018, -2.3090999126434326, -3.182300090789795, -3.249500036239624, -3.6096999645233154, -3.67930006980896, -6.73859977722168, -7.1128997802734375, -6.222300052642822, -7.1132001876831055, -7.037600040435791, -7.094799995422363, -7.1132001876831055, -7.1132001876831055, -7.1132001876831055, -7.0746002197265625, -7.061600208282471, -7.113100051879883, -7.073699951171875, -7.019599914550781, -7.055300235748291, -7.005099773406982, -7.066100120544434, -6.505499839782715, -7.1132001876831055, -0.41280001401901245, -1.6086000204086304, -3.5725998878479004, -3.8138999938964844, -5.639200210571289, -5.263899803161621, -5.629700183868408, -5.639200210571289, -5.6392998695373535, -5.639100074768066, -5.6392998695373535, -5.6209001541137695, -5.639100074768066, -5.639200210571289, -5.6392998695373535, -5.59630012512207, -5.6392998695373535, -5.639200210571289, -5.593299865722656, -5.6392998695373535, -5.578100204467773, -5.639200210571289, -5.609799861907959, -5.639200210571289, -5.639100074768066, -5.639200210571289, -5.639200210571289, -5.596499919891357, -1.9249000549316406, -2.7995998859405518, -2.1893999576568604, -1.5787999629974365, -1.8932000398635864, -2.416100025177002, -3.1638998985290527, -2.6410999298095703, -3.8096001148223877, -2.4923999309539795, -5.343299865722656, -6.7403998374938965, -7.384500026702881, -7.140200138092041, -7.292300224304199, -7.378300189971924, -7.382199764251709, -7.384500026702881, -7.4028000831604, -7.118500232696533, -7.376100063323975, -7.402900218963623, -7.303100109100342, -7.215799808502197, -7.353099822998047, -7.213900089263916, -7.145500183105469, -7.363500118255615, -1.92330002784729, -1.9781999588012695, -1.4011000394821167, -1.9883999824523926, -1.5130000114440918, -2.92930006980896, -3.457900047302246, -5.128600120544434, -5.762899875640869, -6.527100086212158, -7.024899959564209, -7.025000095367432, -7.0055999755859375, -7.024899959564209, -7.025000095367432, -7.024899959564209, -7.024799823760986, -6.984799861907959, -6.909200191497803, -7.024799823760986, -7.025000095367432, -6.998600006103516, -6.905799865722656, -6.98829984664917, -6.952400207519531, -6.967800140380859, -6.871300220489502, -7.024799823760986, -1.180999994277954, -1.3779000043869019, -1.9157999753952026, -2.4453001022338867, -2.356300115585327, -3.2160000801086426, -3.750499963760376, -5.6020002365112305, -4.934000015258789, -6.287300109863281, -6.287300109863281, -6.287300109863281, -6.287099838256836, -6.287199974060059, -6.287300109863281, -6.00029993057251, -6.287199974060059, -6.287300109863281, -6.127699851989746, -6.250699996948242, -6.287300109863281, -5.893199920654297, -6.268899917602539, -6.268799781799316, -6.268700122833252, -6.118299961090088, -6.287300109863281, -6.26170015335083, -2.1282999515533447, -0.5781999826431274, -3.2899999618530273, -3.5109000205993652, -2.5510001182556152, -2.6821000576019287, -3.3320000171661377, -3.444499969482422, -4.47629976272583, -5.157299995422363, -6.232800006866455, -6.384399890899658, -6.272299766540527, -6.740099906921387, -6.429900169372559, -6.012700080871582, -6.104000091552734, -7.158599853515625, -7.184199810028076, -7.144000053405762, -7.2042999267578125, -7.194499969482422, -7.070300102233887, -7.19290018081665, -7.1890997886657715, -7.225500106811523, -7.225500106811523, -6.813000202178955, -1.8371000289916992, -1.8234000205993652, -2.1558001041412354, -1.3184000253677368, -2.205699920654297, -2.5380001068115234, -3.3768999576568604, -4.258399963378906, -3.7988998889923096, -5.007800102233887, -4.508800029754639, -5.790599822998047, -6.486299991607666, -6.992700099945068, -6.966100215911865, -7.019199848175049, -7.000800132751465, -6.993599891662598, -7.019199848175049, -6.999800205230713, -7.019199848175049, -6.998700141906738, -6.938899993896484, -7.019199848175049, -6.990600109100342, -7.019199848175049, -7.018899917602539, -6.972400188446045]}, \"token.table\": {\"Topic\": [1, 6, 8, 1, 6, 9, 5, 9, 1, 3, 5, 10, 1, 3, 10, 4, 10, 3, 7, 1, 4, 6, 9, 2, 4, 6, 1, 3, 6, 10, 7, 8, 6, 7, 1, 2, 3, 6, 9, 7, 8, 4, 6, 8, 9, 10, 6, 7, 9, 10, 1, 3, 4, 4, 8, 1, 3, 8, 9, 10, 3, 4, 2, 7, 3, 4, 5, 6, 9, 10, 1, 6, 9, 4, 10, 1, 8, 10, 7, 9, 10, 5, 7], \"Freq\": [0.4422577917575836, 0.2653546929359436, 0.2211288958787918, 0.06921176612377167, 0.6229058504104614, 0.27684706449508667, 0.059824343770742416, 0.897365152835846, 0.1029592752456665, 0.411837100982666, 0.411837100982666, 0.05147963762283325, 0.1268884688615799, 0.5583092570304871, 0.27915462851524353, 0.14714673161506653, 0.7847825288772583, 0.11064289510250092, 0.8298217058181763, 0.07127736508846283, 0.14255473017692566, 0.5702189207077026, 0.14255473017692566, 0.14150843024253845, 0.10613132268190384, 0.7429192662239075, 0.03105250373482704, 0.07763125747442245, 0.45026132464408875, 0.4192087948322296, 0.6873146295547485, 0.24546949565410614, 0.16143065690994263, 0.8071533441543579, 0.02034180238842964, 0.36615246534347534, 0.18307623267173767, 0.20341803133487701, 0.20341803133487701, 0.052325084805488586, 0.9418515563011169, 0.4452376067638397, 0.055654700845479965, 0.11130940169095993, 0.2782735228538513, 0.055654700845479965, 0.2740485966205597, 0.4848552346229553, 0.18972596526145935, 0.04216132313013077, 0.024699391797184944, 0.6421841979026794, 0.27169328927993774, 0.9240429401397705, 0.03300153464078903, 0.7913273572921753, 0.16957014799118042, 0.7155157327651978, 0.051108263432979584, 0.20443305373191833, 0.4269525706768036, 0.5336907505989075, 0.7279272079467773, 0.2298717498779297, 0.09198050200939178, 0.5387428998947144, 0.01314007118344307, 0.27594149112701416, 0.05256028473377228, 0.01314007118344307, 0.10878324508666992, 0.1305398941040039, 0.7614827156066895, 0.22477732598781586, 0.764242947101593, 0.08418179303407669, 0.33672717213630676, 0.5050907731056213, 0.7137212753295898, 0.027450818568468094, 0.21960654854774475, 0.8554826974868774, 0.10265792161226273], \"Term\": [\"additional\", \"additional\", \"additional\", \"based\", \"based\", \"based\", \"bioequivalence\", \"bioequivalence\", \"chmp\", \"chmp\", \"chmp\", \"chmp\", \"clinical\", \"clinical\", \"clinical\", \"combination\", \"combination\", \"compared\", \"compared\", \"considered\", \"considered\", \"considered\", \"considered\", \"ctp10\", \"ctp10\", \"ctp10\", \"data\", \"data\", \"data\", \"data\", \"difference\", \"difference\", \"effect\", \"effect\", \"efficacy\", \"efficacy\", \"efficacy\", \"efficacy\", \"efficacy\", \"observed\", \"observed\", \"overall\", \"overall\", \"overall\", \"overall\", \"overall\", \"patient\", \"patient\", \"patient\", \"patient\", \"product\", \"product\", \"product\", \"profile\", \"profile\", \"provided\", \"provided\", \"rate\", \"rate\", \"rate\", \"reference\", \"reference\", \"result\", \"result\", \"safety\", \"safety\", \"safety\", \"safety\", \"safety\", \"safety\", \"study\", \"study\", \"study\", \"subject\", \"subject\", \"support\", \"support\", \"support\", \"treatment\", \"treatment\", \"treatment\", \"week\", \"week\"]}, \"R\": 28, \"lambda.step\": 0.01, \"plot.opts\": {\"xlab\": \"PC1\", \"ylab\": \"PC2\"}, \"topic.order\": [1, 2, 3, 4, 5, 6, 7, 8, 9, 10]};\n",
       "\n",
       "function LDAvis_load_lib(url, callback){\n",
       "  var s = document.createElement('script');\n",
       "  s.src = url;\n",
       "  s.async = true;\n",
       "  s.onreadystatechange = s.onload = callback;\n",
       "  s.onerror = function(){console.warn(\"failed to load library \" + url);};\n",
       "  document.getElementsByTagName(\"head\")[0].appendChild(s);\n",
       "}\n",
       "\n",
       "if(typeof(LDAvis) !== \"undefined\"){\n",
       "   // already loaded: just create the visualization\n",
       "   !function(LDAvis){\n",
       "       new LDAvis(\"#\" + \"ldavis_el565450094304729223841615\", ldavis_el565450094304729223841615_data);\n",
       "   }(LDAvis);\n",
       "}else if(typeof define === \"function\" && define.amd){\n",
       "   // require.js is available: use it to load d3/LDAvis\n",
       "   require.config({paths: {d3: \"https://cdnjs.cloudflare.com/ajax/libs/d3/3.5.5/d3.min\"}});\n",
       "   require([\"d3\"], function(d3){\n",
       "      window.d3 = d3;\n",
       "      LDAvis_load_lib(\"https://cdn.rawgit.com/bmabey/pyLDAvis/files/ldavis.v1.0.0.js\", function(){\n",
       "        new LDAvis(\"#\" + \"ldavis_el565450094304729223841615\", ldavis_el565450094304729223841615_data);\n",
       "      });\n",
       "    });\n",
       "}else{\n",
       "    // require.js not available: dynamically load d3 & LDAvis\n",
       "    LDAvis_load_lib(\"https://cdnjs.cloudflare.com/ajax/libs/d3/3.5.5/d3.min.js\", function(){\n",
       "         LDAvis_load_lib(\"https://cdn.rawgit.com/bmabey/pyLDAvis/files/ldavis.v1.0.0.js\", function(){\n",
       "                 new LDAvis(\"#\" + \"ldavis_el565450094304729223841615\", ldavis_el565450094304729223841615_data);\n",
       "            })\n",
       "         });\n",
       "}\n",
       "</script>"
      ],
      "text/plain": [
       "<IPython.core.display.HTML object>"
      ]
     },
     "execution_count": 18,
     "metadata": {},
     "output_type": "execute_result"
    }
   ],
   "source": [
    "dictionary = gensim.corpora.Dictionary.load('dictionary.gensim')\n",
    "corpus_yes = pickle.load(open('corpus.pkl', 'rb'))\n",
    "lda = gensim.models.ldamodel.LdaModel.load('model5.gensim')\n",
    "lda_display = pyLDAvis.gensim.prepare(lda, corpus_yes, dictionary, sort_topics=False)\n",
    "pyLDAvis.display(lda_display)"
   ]
  },
  {
   "cell_type": "markdown",
   "metadata": {},
   "source": [
    "## Model training"
   ]
  },
  {
   "cell_type": "markdown",
   "metadata": {},
   "source": [
    "We will train different models (later some NN architectures):\n",
    "    Logistic Regression, Multinomial Naive Bayes, Linear SVC, AdaBoost Classifier and Extreme Gradien Boosting Classifier (the two last ones with hypermarameter tuning).\n",
    " We use 5 fold cross validation."
   ]
  },
  {
   "cell_type": "code",
   "execution_count": 19,
   "metadata": {},
   "outputs": [],
   "source": [
    "lr = LogisticRegression()\n",
    "nb = naive_bayes.MultinomialNB()\n",
    "svc = LinearSVC()\n",
    "\n",
    "from sklearn.model_selection import StratifiedKFold\n",
    "from sklearn.metrics import precision_score, recall_score, f1_score\n",
    "\n",
    "def lr_cv(splits, X, Y, pipeline, average_method):\n",
    "    \n",
    "    kfold = StratifiedKFold(n_splits=splits, shuffle=True, random_state=777)\n",
    "    accuracy = []\n",
    "    precision = []\n",
    "    recall = []\n",
    "    f1 = []\n",
    "    for train, test in kfold.split(X, Y):\n",
    "        classifier_fit = pipeline.fit(X[train], Y[train])\n",
    "        prediction = classifier_fit.predict(X[test])\n",
    "        scores = classifier_fit.score(X[test],Y[test])\n",
    "        \n",
    "        accuracy.append(scores * 100)\n",
    "        precision.append(precision_score(Y[test], prediction, average=average_method)*100)\n",
    "        recall.append(recall_score(Y[test], prediction, average=average_method)*100)\n",
    "        f1.append(f1_score(Y[test], prediction, average=average_method)*100)\n",
    "\n",
    "    print('              negative    neutral     positive')\n",
    "    print('precision:',precision_score(Y[test], prediction, average=None))\n",
    "    print('recall:   ',recall_score(Y[test], prediction, average=None))\n",
    "    print('f1 score: ',f1_score(Y[test], prediction, average=None))\n",
    "    print('-'*50)\n",
    "\n",
    "    print(\"accuracy: %.2f%%\" % (np.mean(accuracy)))\n",
    "    print(\"precision: %.2f%%\" % (np.mean(precision)))\n",
    "    print(\"recall: %.2f%%\" % (np.mean(recall)))\n",
    "    print(\"f1 score: %.2f%%\" % (np.mean(f1)))"
   ]
  },
  {
   "cell_type": "markdown",
   "metadata": {},
   "source": [
    "### Logistic Regression"
   ]
  },
  {
   "cell_type": "code",
   "execution_count": 20,
   "metadata": {},
   "outputs": [
    {
     "name": "stdout",
     "output_type": "stream",
     "text": [
      "              negative    neutral     positive\n",
      "precision: [0.75       0.75       0.75609756]\n",
      "recall:    [0.42857143 0.42857143 0.96875   ]\n",
      "f1 score:  [0.54545455 0.54545455 0.84931507]\n",
      "--------------------------------------------------\n",
      "accuracy: 72.54%\n",
      "precision: 76.11%\n",
      "recall: 58.87%\n",
      "f1 score: 62.62%\n",
      "None\n"
     ]
    }
   ],
   "source": [
    "pipeline1 = Pipeline([\n",
    "    ('feats', FeatureUnion([\n",
    "        ('vectorizer1', tfidf_vect), \n",
    "        ('counter', count_vect),\n",
    "        ('vectorizer2', tfidf_vect_ngram)\n",
    "    ])), \n",
    "    ('classifier', lr)])\n",
    "\n",
    "print(lr_cv(5, df.Sentence, df.Sentiment, pipeline1, 'macro'))\n"
   ]
  },
  {
   "cell_type": "markdown",
   "metadata": {},
   "source": [
    "### Naive Bayes Classifier"
   ]
  },
  {
   "cell_type": "code",
   "execution_count": 21,
   "metadata": {},
   "outputs": [
    {
     "name": "stdout",
     "output_type": "stream",
     "text": [
      "              negative    neutral     positive\n",
      "precision: [0.8        0.75       0.70454545]\n",
      "recall:    [0.57142857 0.21428571 0.96875   ]\n",
      "f1 score:  [0.66666667 0.33333333 0.81578947]\n",
      "--------------------------------------------------\n",
      "accuracy: 71.79%\n",
      "precision: 77.57%\n",
      "recall: 57.53%\n",
      "f1 score: 60.87%\n",
      "None\n"
     ]
    }
   ],
   "source": [
    "pipeline2 = Pipeline([\n",
    "    ('feats', FeatureUnion([\n",
    "        ('vectorizer1', tfidf_vect), \n",
    "        ('counter', count_vect),\n",
    "        ('vectorizer2', tfidf_vect_ngram)\n",
    "    ])), \n",
    "    ('classifier', nb)])\n",
    "\n",
    "print(lr_cv(5, df.Sentence, df.Sentiment, pipeline2, 'macro'))"
   ]
  },
  {
   "cell_type": "markdown",
   "metadata": {},
   "source": [
    "### Support Vector Classifier"
   ]
  },
  {
   "cell_type": "code",
   "execution_count": 22,
   "metadata": {},
   "outputs": [
    {
     "name": "stdout",
     "output_type": "stream",
     "text": [
      "              negative    neutral     positive\n",
      "precision: [0.6        0.63636364 0.75675676]\n",
      "recall:    [0.42857143 0.5        0.875     ]\n",
      "f1 score:  [0.5       0.56      0.8115942]\n",
      "--------------------------------------------------\n",
      "accuracy: 72.91%\n",
      "precision: 72.42%\n",
      "recall: 61.58%\n",
      "f1 score: 64.37%\n",
      "None\n"
     ]
    }
   ],
   "source": [
    "pipeline3 = Pipeline([\n",
    "    ('feats', FeatureUnion([\n",
    "        ('vectorizer1', tfidf_vect), \n",
    "        ('counter', count_vect),\n",
    "        ('vectorizer2', tfidf_vect_ngram)\n",
    "    ])), \n",
    "    ('classifier', svc)])\n",
    "\n",
    "print(lr_cv(5, df.Sentence, df.Sentiment, pipeline3, 'macro'))"
   ]
  },
  {
   "cell_type": "markdown",
   "metadata": {},
   "source": [
    "### AdaBoost Classifier"
   ]
  },
  {
   "cell_type": "code",
   "execution_count": 23,
   "metadata": {},
   "outputs": [
    {
     "data": {
      "text/plain": [
       "{'n_estimators': 360}"
      ]
     },
     "execution_count": 23,
     "metadata": {},
     "output_type": "execute_result"
    }
   ],
   "source": [
    "ada_clf = AdaBoostClassifier(\n",
    "    DecisionTreeClassifier(max_depth = 1), n_estimators = 1000, algorithm = 'SAMME.R', learning_rate = 0.5)\n",
    "\n",
    "adaHyperParams =  {'n_estimators': randint(10, 1000)}\n",
    "\n",
    "gridSearchAda = RandomizedSearchCV(estimator=ada_clf, param_distributions=adaHyperParams, n_iter=5,\n",
    "                                 fit_params=None, cv=5, verbose=0).fit(sentence_tfidf.tocsc(), df.Sentiment)\n",
    "gridSearchAda.best_params_"
   ]
  },
  {
   "cell_type": "code",
   "execution_count": 24,
   "metadata": {},
   "outputs": [
    {
     "name": "stdout",
     "output_type": "stream",
     "text": [
      "              negative    neutral     positive\n",
      "precision: [0.44444444 0.75       0.725     ]\n",
      "recall:    [0.57142857 0.21428571 0.90625   ]\n",
      "f1 score:  [0.5        0.33333333 0.80555556]\n",
      "--------------------------------------------------\n",
      "accuracy: 65.06%\n",
      "precision: 67.41%\n",
      "recall: 51.46%\n",
      "f1 score: 53.31%\n",
      "None\n"
     ]
    }
   ],
   "source": [
    "pipeline2 = Pipeline([\n",
    "    ('feats', FeatureUnion([\n",
    "        ('vectorizer1', tfidf_vect), \n",
    "        ('counter', count_vect),\n",
    "        ('vectorizer2', tfidf_vect_ngram)\n",
    "    ])), \n",
    "    ('classifier', gridSearchAda.best_estimator_)])\n",
    "\n",
    "print(lr_cv(5, df.Sentence, df.Sentiment, pipeline2, 'macro'))"
   ]
  },
  {
   "cell_type": "markdown",
   "metadata": {},
   "source": [
    "### Extreme Gradient Boosting"
   ]
  },
  {
   "cell_type": "code",
   "execution_count": 25,
   "metadata": {},
   "outputs": [
    {
     "data": {
      "text/plain": [
       "{'max_depth': 2, 'n_estimators': 550}"
      ]
     },
     "execution_count": 25,
     "metadata": {},
     "output_type": "execute_result"
    }
   ],
   "source": [
    "gbHyperParams = {'n_estimators': randint(10, 1000),\n",
    "                 'max_depth': randint(1,10)}\n",
    "\n",
    "gridSearchGB = RandomizedSearchCV(estimator=xgboost.XGBClassifier(), param_distributions=gbHyperParams, n_iter=10,\n",
    "                                  fit_params=None, cv=None, verbose=0\n",
    "                                 ).fit(sentence_tfidf_ngram.tocsc(), df.Sentiment)\n",
    "gridSearchGB.best_params_"
   ]
  },
  {
   "cell_type": "code",
   "execution_count": 26,
   "metadata": {},
   "outputs": [
    {
     "name": "stdout",
     "output_type": "stream",
     "text": [
      "              negative    neutral     positive\n",
      "precision: [0.375      0.38461538 0.71875   ]\n",
      "recall:    [0.42857143 0.35714286 0.71875   ]\n",
      "f1 score:  [0.4        0.37037037 0.71875   ]\n",
      "--------------------------------------------------\n",
      "accuracy: 63.54%\n",
      "precision: 59.80%\n",
      "recall: 51.70%\n",
      "f1 score: 53.81%\n",
      "None\n"
     ]
    }
   ],
   "source": [
    "pipeline2 = Pipeline([\n",
    "    ('feats', FeatureUnion([\n",
    "        ('vectorizer1', tfidf_vect), \n",
    "        ('counter', count_vect),\n",
    "        ('vectorizer2', tfidf_vect_ngram)\n",
    "    ])), \n",
    "    ('classifier', gridSearchGB.best_estimator_)])\n",
    "\n",
    "print(lr_cv(5, df.Sentence, df.Sentiment, pipeline2, 'macro'))"
   ]
  },
  {
   "cell_type": "markdown",
   "metadata": {},
   "source": [
    "Given that the classes are imbalanced, we do not want to get good average performance metrics, we need to look more closely at how each class (in particular the neutral and negative) are performing. With this in mind, SVC and Logistic Regression perform the best, still results are not optimal, Negative and Neutral classes get f1 score of 0.50-0.55 and 0.56-0.55 repectively. "
   ]
  },
  {
   "cell_type": "markdown",
   "metadata": {},
   "source": [
    "## Data Augmentation"
   ]
  },
  {
   "cell_type": "markdown",
   "metadata": {},
   "source": [
    "Now we check if data augmentation techniques can help. We will try two techniques, SMOTE and Randon Oversampling. "
   ]
  },
  {
   "cell_type": "code",
   "execution_count": 27,
   "metadata": {},
   "outputs": [],
   "source": [
    "smt = SMOTE(random_state=777, k_neighbors=1)\n",
    "X_SMOTE, y_SMOTE = smt.fit_sample(sentence_count, df.Sentiment)\n",
    "\n",
    "ros = RandomOverSampler(random_state=777)\n",
    "X_ROS, y_ROS = ros.fit_sample(sentence_count, df.Sentiment)"
   ]
  },
  {
   "cell_type": "code",
   "execution_count": 28,
   "metadata": {},
   "outputs": [],
   "source": [
    "SMOTE_pipeline1 = make_pipeline(count_vect, SMOTE(random_state=777), nb)\n",
    "SMOTE_pipeline2 = make_pipeline(count_vect, SMOTE(random_state=777),lr)\n",
    "SMOTE_pipeline3 = make_pipeline(count_vect, SMOTE(random_state=777),gridSearchGB.best_estimator_)\n",
    "\n",
    "ROS_pipeline1 = make_pipeline(count_vect, RandomOverSampler(random_state=777),nb)\n",
    "ROS_pipeline2 = make_pipeline(count_vect, RandomOverSampler(random_state=777),lr)\n",
    "ROS_pipeline3 = make_pipeline(count_vect, RandomOverSampler(random_state=777),gridSearchGB.best_estimator_)\n"
   ]
  },
  {
   "cell_type": "code",
   "execution_count": 29,
   "metadata": {},
   "outputs": [],
   "source": [
    "SMOTE_pipeline1 = Pipeline([\n",
    "    ('feats', FeatureUnion([\n",
    "        ('vectorizer1', tfidf_vect), \n",
    "        ('counter', count_vect),\n",
    "        ('vectorizer2', tfidf_vect_ngram)\n",
    "    ])), \n",
    "    ('smt', SMOTE(random_state=777)),\n",
    "    ('classifier', nb)])\n",
    "\n",
    "SMOTE_pipeline2 = Pipeline([\n",
    "    ('feats', FeatureUnion([\n",
    "        ('vectorizer1', tfidf_vect), \n",
    "        ('counter', count_vect),\n",
    "        ('vectorizer2', tfidf_vect_ngram)\n",
    "    ])), \n",
    "    ('smt', SMOTE(random_state=777)),\n",
    "    ('classifier', lr)])\n",
    "\n",
    "SMOTE_pipeline3 = Pipeline([\n",
    "    ('feats', FeatureUnion([\n",
    "        ('vectorizer1', tfidf_vect), \n",
    "        ('counter', count_vect),\n",
    "        ('vectorizer2', tfidf_vect_ngram)\n",
    "    ])), \n",
    "    ('smt', SMOTE(random_state=777)),\n",
    "    ('classifier', svc)])\n",
    "\n",
    "ROS_pipeline1 = Pipeline([\n",
    "    ('feats', FeatureUnion([\n",
    "        ('vectorizer1', tfidf_vect), \n",
    "        ('counter', count_vect),\n",
    "        ('vectorizer2', tfidf_vect_ngram)\n",
    "    ])), \n",
    "    ('smt', SMOTE(random_state=777)),\n",
    "    ('classifier', nb)])\n",
    "\n",
    "SMOTE_pipeline2 = Pipeline([\n",
    "    ('feats', FeatureUnion([\n",
    "        ('vectorizer1', tfidf_vect), \n",
    "        ('counter', count_vect),\n",
    "        ('vectorizer2', tfidf_vect_ngram)\n",
    "    ])), \n",
    "    ('smt', SMOTE(random_state=777)),\n",
    "    ('classifier', lr)])\n",
    "\n",
    "ROS_pipeline1 = Pipeline([\n",
    "    ('feats', FeatureUnion([\n",
    "        ('vectorizer1', tfidf_vect), \n",
    "        ('counter', count_vect),\n",
    "        ('vectorizer2', tfidf_vect_ngram)\n",
    "    ])), \n",
    "    ('ros', RandomOverSampler(random_state=777)),\n",
    "    ('classifier', svc)])\n",
    "\n",
    "ROS_pipeline2 = Pipeline([\n",
    "    ('feats', FeatureUnion([\n",
    "        ('vectorizer1', tfidf_vect), \n",
    "        ('counter', count_vect),\n",
    "        ('vectorizer2', tfidf_vect_ngram)\n",
    "    ])), \n",
    "    ('ros', RandomOverSampler(random_state=777)),\n",
    "    ('classifier', lr)])\n",
    "\n",
    "ROS_pipeline3 = Pipeline([\n",
    "    ('feats', FeatureUnion([\n",
    "        ('vectorizer1', tfidf_vect), \n",
    "        ('counter', count_vect),\n",
    "        ('vectorizer2', tfidf_vect_ngram)\n",
    "    ])), \n",
    "    ('ros', RandomOverSampler(random_state=777)),\n",
    "    ('classifier', svc)])\n"
   ]
  },
  {
   "cell_type": "code",
   "execution_count": 30,
   "metadata": {},
   "outputs": [
    {
     "name": "stdout",
     "output_type": "stream",
     "text": [
      "Data augmentation, NB Classifier\n",
      "              negative    neutral     positive\n",
      "precision: [0.45454545 0.7        0.8125    ]\n",
      "recall:    [0.71428571 0.5        0.8125    ]\n",
      "f1 score:  [0.55555556 0.58333333 0.8125    ]\n",
      "--------------------------------------------------\n",
      "accuracy: 71.04%\n",
      "precision: 63.22%\n",
      "recall: 61.90%\n",
      "f1 score: 61.21%\n",
      "None\n",
      "              negative    neutral     positive\n",
      "precision: [0.6        0.63636364 0.75675676]\n",
      "recall:    [0.42857143 0.5        0.875     ]\n",
      "f1 score:  [0.5       0.56      0.8115942]\n",
      "--------------------------------------------------\n",
      "accuracy: 72.53%\n",
      "precision: 71.89%\n",
      "recall: 61.64%\n",
      "f1 score: 64.40%\n",
      "None\n"
     ]
    }
   ],
   "source": [
    "print('Data augmentation, NB Classifier')\n",
    "print(lr_cv(5, df.Sentence, df.Sentiment, SMOTE_pipeline1, 'macro'))\n",
    "print(lr_cv(5, df.Sentence, df.Sentiment, ROS_pipeline1, 'macro'))\n"
   ]
  },
  {
   "cell_type": "code",
   "execution_count": 31,
   "metadata": {},
   "outputs": [
    {
     "name": "stdout",
     "output_type": "stream",
     "text": [
      "Data augmentation, Logistic Regression Classifier\n",
      "              negative    neutral     positive\n",
      "precision: [0.6        0.66666667 0.77777778]\n",
      "recall:    [0.42857143 0.57142857 0.875     ]\n",
      "f1 score:  [0.5        0.61538462 0.82352941]\n",
      "--------------------------------------------------\n",
      "accuracy: 70.65%\n",
      "precision: 66.26%\n",
      "recall: 60.06%\n",
      "f1 score: 62.18%\n",
      "None\n",
      "              negative    neutral     positive\n",
      "precision: [0.6        0.66666667 0.77777778]\n",
      "recall:    [0.42857143 0.57142857 0.875     ]\n",
      "f1 score:  [0.5        0.61538462 0.82352941]\n",
      "--------------------------------------------------\n",
      "accuracy: 72.16%\n",
      "precision: 68.08%\n",
      "recall: 61.64%\n",
      "f1 score: 63.75%\n",
      "None\n"
     ]
    }
   ],
   "source": [
    "print('Data augmentation, Logistic Regression Classifier')\n",
    "print(lr_cv(5, df.Sentence, df.Sentiment, SMOTE_pipeline2, 'macro'))\n",
    "print(lr_cv(5, df.Sentence, df.Sentiment, ROS_pipeline2, 'macro'))\n",
    "\n"
   ]
  },
  {
   "cell_type": "code",
   "execution_count": 32,
   "metadata": {},
   "outputs": [
    {
     "name": "stdout",
     "output_type": "stream",
     "text": [
      "Data augmentation, Support Vector Classifier\n",
      "              negative    neutral     positive\n",
      "precision: [0.6        0.63636364 0.75675676]\n",
      "recall:    [0.42857143 0.5        0.875     ]\n",
      "f1 score:  [0.5       0.56      0.8115942]\n",
      "--------------------------------------------------\n",
      "accuracy: 72.53%\n",
      "precision: 71.89%\n",
      "recall: 61.64%\n",
      "f1 score: 64.40%\n",
      "None\n",
      "              negative    neutral     positive\n",
      "precision: [0.6        0.63636364 0.75675676]\n",
      "recall:    [0.42857143 0.5        0.875     ]\n",
      "f1 score:  [0.5       0.56      0.8115942]\n",
      "--------------------------------------------------\n",
      "accuracy: 72.53%\n",
      "precision: 71.89%\n",
      "recall: 61.64%\n",
      "f1 score: 64.40%\n",
      "None\n"
     ]
    }
   ],
   "source": [
    "print('Data augmentation, Support Vector Classifier')\n",
    "print(lr_cv(5, df.Sentence, df.Sentiment, SMOTE_pipeline3, 'macro'))\n",
    "print(lr_cv(5, df.Sentence, df.Sentiment, ROS_pipeline3, 'macro'))\n",
    "\n"
   ]
  },
  {
   "cell_type": "markdown",
   "metadata": {},
   "source": [
    "Data augmentation improves some performance metrics but others are worse than before. So it is not really helpful."
   ]
  },
  {
   "cell_type": "markdown",
   "metadata": {},
   "source": [
    "## Neural Net Architectures"
   ]
  },
  {
   "cell_type": "markdown",
   "metadata": {},
   "source": [
    "We will try different architectures. Shallow networks, mlp with three hidden layer, convulational neural networs and lstm."
   ]
  },
  {
   "cell_type": "code",
   "execution_count": 33,
   "metadata": {},
   "outputs": [],
   "source": [
    "split = StratifiedShuffleSplit(n_splits = 1, test_size = 0.2, random_state = 42)\n",
    "for train_index, test_index in split.split(sentence_tfidf_ngram, df['Sentiment']):\n",
    "    X_train = sentence_tfidf_ngram[train_index]\n",
    "    X_train_ = df.Sentence.loc[train_index]\n",
    "    y_train = df.Sentiment.loc[train_index]\n",
    "    X_test = sentence_tfidf_ngram[test_index]\n",
    "    X_test_ = df.Sentence.loc[test_index]\n",
    "    y_test = df.Sentiment.loc[test_index]\n"
   ]
  },
  {
   "cell_type": "code",
   "execution_count": 34,
   "metadata": {},
   "outputs": [],
   "source": [
    "y_binary = to_categorical(y_train)\n",
    "y_binary_test = to_categorical(y_test)"
   ]
  },
  {
   "cell_type": "markdown",
   "metadata": {},
   "source": [
    "### Shallow Network "
   ]
  },
  {
   "cell_type": "code",
   "execution_count": 52,
   "metadata": {},
   "outputs": [
    {
     "name": "stdout",
     "output_type": "stream",
     "text": [
      "Train on 212 samples, validate on 54 samples\n",
      "Epoch 1/200\n",
      "212/212 [==============================] - 1s 4ms/step - loss: 2.5682 - val_loss: 1.0899\n",
      "Epoch 2/200\n",
      "212/212 [==============================] - 0s 202us/step - loss: 2.4526 - val_loss: 1.0813\n",
      "Epoch 3/200\n",
      "212/212 [==============================] - 0s 174us/step - loss: 2.3561 - val_loss: 1.0718\n",
      "Epoch 4/200\n",
      "212/212 [==============================] - 0s 170us/step - loss: 2.2506 - val_loss: 1.0593\n",
      "Epoch 5/200\n",
      "212/212 [==============================] - 0s 160us/step - loss: 2.1263 - val_loss: 1.0426\n",
      "Epoch 6/200\n",
      "212/212 [==============================] - 0s 166us/step - loss: 1.9896 - val_loss: 1.0242\n",
      "Epoch 7/200\n",
      "212/212 [==============================] - 0s 188us/step - loss: 1.8358 - val_loss: 1.0039\n",
      "Epoch 8/200\n",
      "212/212 [==============================] - 0s 154us/step - loss: 1.6619 - val_loss: 0.9828\n",
      "Epoch 9/200\n",
      "212/212 [==============================] - 0s 154us/step - loss: 1.4854 - val_loss: 0.9598\n",
      "Epoch 10/200\n",
      "212/212 [==============================] - 0s 155us/step - loss: 1.3036 - val_loss: 0.9344\n",
      "Epoch 11/200\n",
      "212/212 [==============================] - 0s 190us/step - loss: 1.1361 - val_loss: 0.9116\n",
      "Epoch 12/200\n",
      "212/212 [==============================] - 0s 156us/step - loss: 0.9670 - val_loss: 0.8873\n",
      "Epoch 13/200\n",
      "212/212 [==============================] - 0s 177us/step - loss: 0.8211 - val_loss: 0.8651\n",
      "Epoch 14/200\n",
      "212/212 [==============================] - 0s 178us/step - loss: 0.6875 - val_loss: 0.8464\n",
      "Epoch 15/200\n",
      "212/212 [==============================] - 0s 195us/step - loss: 0.5737 - val_loss: 0.8303\n",
      "Epoch 16/200\n",
      "212/212 [==============================] - 0s 200us/step - loss: 0.4804 - val_loss: 0.8165\n",
      "Epoch 17/200\n",
      "212/212 [==============================] - 0s 207us/step - loss: 0.4039 - val_loss: 0.8046\n",
      "Epoch 18/200\n",
      "212/212 [==============================] - 0s 184us/step - loss: 0.3415 - val_loss: 0.7953\n",
      "Epoch 19/200\n",
      "212/212 [==============================] - 0s 188us/step - loss: 0.2920 - val_loss: 0.7878\n",
      "Epoch 20/200\n",
      "212/212 [==============================] - 0s 190us/step - loss: 0.2503 - val_loss: 0.7805\n",
      "Epoch 21/200\n",
      "212/212 [==============================] - 0s 220us/step - loss: 0.2171 - val_loss: 0.7755\n",
      "Epoch 22/200\n",
      "212/212 [==============================] - 0s 191us/step - loss: 0.1895 - val_loss: 0.7716\n",
      "Epoch 23/200\n",
      "212/212 [==============================] - 0s 204us/step - loss: 0.1665 - val_loss: 0.7677\n",
      "Epoch 24/200\n",
      "212/212 [==============================] - 0s 192us/step - loss: 0.1481 - val_loss: 0.7646\n",
      "Epoch 25/200\n",
      "212/212 [==============================] - 0s 194us/step - loss: 0.1316 - val_loss: 0.7616\n",
      "Epoch 26/200\n",
      "212/212 [==============================] - 0s 201us/step - loss: 0.1183 - val_loss: 0.7585\n",
      "Epoch 27/200\n",
      "212/212 [==============================] - 0s 190us/step - loss: 0.1076 - val_loss: 0.7558\n",
      "Epoch 28/200\n",
      "212/212 [==============================] - 0s 192us/step - loss: 0.0977 - val_loss: 0.7533\n",
      "Epoch 29/200\n",
      "212/212 [==============================] - 0s 201us/step - loss: 0.0896 - val_loss: 0.7514\n",
      "Epoch 30/200\n",
      "212/212 [==============================] - 0s 157us/step - loss: 0.0823 - val_loss: 0.7491\n",
      "Epoch 31/200\n",
      "212/212 [==============================] - 0s 151us/step - loss: 0.0760 - val_loss: 0.7472\n",
      "Epoch 32/200\n",
      "212/212 [==============================] - 0s 181us/step - loss: 0.0704 - val_loss: 0.7450\n",
      "Epoch 33/200\n",
      "212/212 [==============================] - 0s 162us/step - loss: 0.0654 - val_loss: 0.7429\n",
      "Epoch 34/200\n",
      "212/212 [==============================] - 0s 160us/step - loss: 0.0611 - val_loss: 0.7408\n",
      "Epoch 35/200\n",
      "212/212 [==============================] - 0s 161us/step - loss: 0.0572 - val_loss: 0.7387\n",
      "Epoch 36/200\n",
      "212/212 [==============================] - 0s 163us/step - loss: 0.0535 - val_loss: 0.7367\n",
      "Epoch 37/200\n",
      "212/212 [==============================] - 0s 161us/step - loss: 0.0503 - val_loss: 0.7352\n",
      "Epoch 38/200\n",
      "212/212 [==============================] - 0s 163us/step - loss: 0.0475 - val_loss: 0.7335\n",
      "Epoch 39/200\n",
      "212/212 [==============================] - 0s 163us/step - loss: 0.0448 - val_loss: 0.7319\n",
      "Epoch 40/200\n",
      "212/212 [==============================] - 0s 157us/step - loss: 0.0424 - val_loss: 0.7307\n",
      "Epoch 41/200\n",
      "212/212 [==============================] - 0s 157us/step - loss: 0.0402 - val_loss: 0.7294\n",
      "Epoch 42/200\n",
      "212/212 [==============================] - 0s 156us/step - loss: 0.0381 - val_loss: 0.7282\n",
      "Epoch 43/200\n",
      "212/212 [==============================] - 0s 154us/step - loss: 0.0363 - val_loss: 0.7272\n",
      "Epoch 44/200\n",
      "212/212 [==============================] - 0s 160us/step - loss: 0.0346 - val_loss: 0.7263\n",
      "Epoch 45/200\n",
      "212/212 [==============================] - 0s 167us/step - loss: 0.0330 - val_loss: 0.7251\n",
      "Epoch 46/200\n",
      "212/212 [==============================] - 0s 173us/step - loss: 0.0314 - val_loss: 0.7238\n",
      "Epoch 47/200\n",
      "212/212 [==============================] - 0s 175us/step - loss: 0.0301 - val_loss: 0.7230\n",
      "Epoch 48/200\n",
      "212/212 [==============================] - 0s 177us/step - loss: 0.0288 - val_loss: 0.7223\n",
      "Epoch 49/200\n",
      "212/212 [==============================] - 0s 185us/step - loss: 0.0275 - val_loss: 0.7217\n",
      "Epoch 50/200\n",
      "212/212 [==============================] - 0s 195us/step - loss: 0.0264 - val_loss: 0.7207\n",
      "Epoch 51/200\n",
      "212/212 [==============================] - 0s 207us/step - loss: 0.0254 - val_loss: 0.7197\n",
      "Epoch 52/200\n",
      "212/212 [==============================] - 0s 201us/step - loss: 0.0244 - val_loss: 0.7189\n",
      "Epoch 53/200\n",
      "212/212 [==============================] - 0s 212us/step - loss: 0.0234 - val_loss: 0.7184\n",
      "Epoch 54/200\n",
      "212/212 [==============================] - 0s 230us/step - loss: 0.0225 - val_loss: 0.7177\n",
      "Epoch 55/200\n",
      "212/212 [==============================] - 0s 197us/step - loss: 0.0217 - val_loss: 0.7171\n",
      "Epoch 56/200\n",
      "212/212 [==============================] - 0s 195us/step - loss: 0.0209 - val_loss: 0.7166\n",
      "Epoch 57/200\n",
      "212/212 [==============================] - 0s 213us/step - loss: 0.0202 - val_loss: 0.7163\n",
      "Epoch 58/200\n",
      "212/212 [==============================] - 0s 231us/step - loss: 0.0195 - val_loss: 0.7159\n",
      "Epoch 59/200\n",
      "212/212 [==============================] - 0s 178us/step - loss: 0.0188 - val_loss: 0.7156\n",
      "Epoch 60/200\n",
      "212/212 [==============================] - 0s 201us/step - loss: 0.0181 - val_loss: 0.7150\n",
      "Epoch 61/200\n",
      "212/212 [==============================] - 0s 212us/step - loss: 0.0176 - val_loss: 0.7146\n",
      "Epoch 62/200\n",
      "212/212 [==============================] - 0s 199us/step - loss: 0.0170 - val_loss: 0.7140\n",
      "Epoch 63/200\n",
      "212/212 [==============================] - 0s 237us/step - loss: 0.0165 - val_loss: 0.7134\n",
      "Epoch 64/200\n",
      "212/212 [==============================] - 0s 215us/step - loss: 0.0159 - val_loss: 0.7129\n",
      "Epoch 65/200\n",
      "212/212 [==============================] - 0s 247us/step - loss: 0.0155 - val_loss: 0.7125\n",
      "Epoch 66/200\n",
      "212/212 [==============================] - 0s 226us/step - loss: 0.0150 - val_loss: 0.7119\n",
      "Epoch 67/200\n",
      "212/212 [==============================] - 0s 204us/step - loss: 0.0145 - val_loss: 0.7113\n",
      "Epoch 68/200\n",
      "212/212 [==============================] - 0s 201us/step - loss: 0.0141 - val_loss: 0.7107\n",
      "Epoch 69/200\n",
      "212/212 [==============================] - 0s 226us/step - loss: 0.0137 - val_loss: 0.7103\n",
      "Epoch 70/200\n",
      "212/212 [==============================] - 0s 187us/step - loss: 0.0133 - val_loss: 0.7100\n",
      "Epoch 71/200\n",
      "212/212 [==============================] - 0s 205us/step - loss: 0.0129 - val_loss: 0.7096\n",
      "Epoch 72/200\n",
      "212/212 [==============================] - 0s 227us/step - loss: 0.0126 - val_loss: 0.7094\n",
      "Epoch 73/200\n",
      "212/212 [==============================] - 0s 188us/step - loss: 0.0123 - val_loss: 0.7093\n",
      "Epoch 74/200\n",
      "212/212 [==============================] - 0s 206us/step - loss: 0.0119 - val_loss: 0.7090\n",
      "Epoch 75/200\n",
      "212/212 [==============================] - 0s 202us/step - loss: 0.0116 - val_loss: 0.7087\n",
      "Epoch 76/200\n",
      "212/212 [==============================] - 0s 203us/step - loss: 0.0113 - val_loss: 0.7085\n",
      "Epoch 77/200\n",
      "212/212 [==============================] - 0s 188us/step - loss: 0.0110 - val_loss: 0.7086\n",
      "_________________________________________________________________\n",
      "Layer (type)                 Output Shape              Param #   \n",
      "=================================================================\n",
      "input_17 (InputLayer)        (None, 5000)              0         \n",
      "_________________________________________________________________\n",
      "dense_35 (Dense)             (None, 100)               500100    \n",
      "_________________________________________________________________\n",
      "dense_36 (Dense)             (None, 3)                 303       \n",
      "=================================================================\n",
      "Total params: 500,403\n",
      "Trainable params: 500,403\n",
      "Non-trainable params: 0\n",
      "_________________________________________________________________\n",
      "None\n",
      "NN, Ngram Level TF IDF Vectors, Accuracy: 0.7037037037037037\n",
      "             precision    recall  f1-score   support\n",
      "\n",
      "          0       0.43      0.75      0.55         4\n",
      "          1       0.50      0.58      0.54        12\n",
      "          2       0.85      0.74      0.79        38\n",
      "\n",
      "avg / total       0.74      0.70      0.72        54\n",
      "\n"
     ]
    }
   ],
   "source": [
    "def create_model_architecture(input_size):\n",
    "    \n",
    "    class_weight = {0: 5., 1: 2., 2: 1.}\n",
    "    seed(1)\n",
    "    # create input layer \n",
    "    input_layer = layers.Input((input_size, ), sparse=True)\n",
    "    \n",
    "    # create hidden layer\n",
    "    hidden_layer = layers.Dense(100, activation=\"relu\")(input_layer)\n",
    "    \n",
    "    # create output layer\n",
    "    output_layer = layers.Dense(3, activation=\"softmax\")(hidden_layer)\n",
    "\n",
    "    classifier = models.Model(inputs = input_layer, outputs = output_layer)\n",
    "    classifier.compile(optimizer=optimizers.Adam(), loss='categorical_crossentropy')\n",
    "    return classifier \n",
    "\n",
    "classifier = create_model_architecture(X_train.shape[1])\n",
    "earlyStopping=EarlyStopping(monitor='val_loss', patience=0, verbose=0, mode='auto')\n",
    "history = classifier.fit(X_train, y_binary, class_weight = {0: 5., 1: 4, 2: 1.},\n",
    "                    batch_size=50,\n",
    "                    epochs=200,\n",
    "                    verbose=1,\n",
    "                    callbacks=[earlyStopping],\n",
    "                    validation_data=( X_test, y_binary_test))\n",
    "y_pred = classifier.predict(X_test)\n",
    "y_pred = np.argmax(y_pred, axis=1)\n",
    "print(classifier.summary())\n",
    "print(\"NN, Ngram Level TF IDF Vectors, Accuracy:\",  accuracy_score(y_pred, np.argmax(y_binary_test, axis=1)))\n",
    "print(classification_report(y_pred, np.argmax(y_binary_test, axis=1)))\n"
   ]
  },
  {
   "cell_type": "markdown",
   "metadata": {},
   "source": [
    "### Deeper Network "
   ]
  },
  {
   "cell_type": "code",
   "execution_count": 71,
   "metadata": {},
   "outputs": [
    {
     "name": "stdout",
     "output_type": "stream",
     "text": [
      "Train on 212 samples, validate on 54 samples\n",
      "Epoch 1/200\n",
      "212/212 [==============================] - 1s 6ms/step - loss: 1.8390 - val_loss: 1.0845\n",
      "Epoch 2/200\n",
      "212/212 [==============================] - 0s 186us/step - loss: 1.8341 - val_loss: 1.0782\n",
      "Epoch 3/200\n",
      "212/212 [==============================] - 0s 142us/step - loss: 1.8159 - val_loss: 1.0681\n",
      "Epoch 4/200\n",
      "212/212 [==============================] - 0s 142us/step - loss: 1.8080 - val_loss: 1.0646\n",
      "Epoch 5/200\n",
      "212/212 [==============================] - 0s 142us/step - loss: 1.7865 - val_loss: 1.0487\n",
      "Epoch 6/200\n",
      "212/212 [==============================] - 0s 142us/step - loss: 1.7455 - val_loss: 1.0274\n",
      "Epoch 7/200\n",
      "212/212 [==============================] - 0s 146us/step - loss: 1.7143 - val_loss: 1.0074\n",
      "Epoch 8/200\n",
      "212/212 [==============================] - 0s 147us/step - loss: 1.6645 - val_loss: 0.9851\n",
      "Epoch 9/200\n",
      "212/212 [==============================] - 0s 149us/step - loss: 1.5980 - val_loss: 0.9551\n",
      "Epoch 10/200\n",
      "212/212 [==============================] - 0s 139us/step - loss: 1.5511 - val_loss: 0.9182\n",
      "Epoch 11/200\n",
      "212/212 [==============================] - 0s 148us/step - loss: 1.4271 - val_loss: 0.8880\n",
      "Epoch 12/200\n",
      "212/212 [==============================] - 0s 140us/step - loss: 1.3421 - val_loss: 0.8463\n",
      "Epoch 13/200\n",
      "212/212 [==============================] - 0s 144us/step - loss: 1.2290 - val_loss: 0.8221\n",
      "Epoch 14/200\n",
      "212/212 [==============================] - 0s 143us/step - loss: 1.1021 - val_loss: 0.8072\n",
      "Epoch 15/200\n",
      "212/212 [==============================] - 0s 141us/step - loss: 1.0541 - val_loss: 0.7872\n",
      "Epoch 16/200\n",
      "212/212 [==============================] - 0s 141us/step - loss: 0.9719 - val_loss: 0.7694\n",
      "Epoch 17/200\n",
      "212/212 [==============================] - 0s 138us/step - loss: 0.8104 - val_loss: 0.7865\n",
      "_________________________________________________________________\n",
      "Layer (type)                 Output Shape              Param #   \n",
      "=================================================================\n",
      "input_36 (InputLayer)        (None, 5000)              0         \n",
      "_________________________________________________________________\n",
      "dense_109 (Dense)            (None, 100)               500100    \n",
      "_________________________________________________________________\n",
      "dropout_60 (Dropout)         (None, 100)               0         \n",
      "_________________________________________________________________\n",
      "dense_110 (Dense)            (None, 100)               10100     \n",
      "_________________________________________________________________\n",
      "dropout_61 (Dropout)         (None, 100)               0         \n",
      "_________________________________________________________________\n",
      "dense_111 (Dense)            (None, 100)               10100     \n",
      "_________________________________________________________________\n",
      "dropout_62 (Dropout)         (None, 100)               0         \n",
      "_________________________________________________________________\n",
      "dense_112 (Dense)            (None, 3)                 303       \n",
      "=================================================================\n",
      "Total params: 520,603\n",
      "Trainable params: 520,603\n",
      "Non-trainable params: 0\n",
      "_________________________________________________________________\n",
      "None\n",
      "NN, Ngram Level TF IDF Vectors, Accuracy: 0.6666666666666666\n",
      "             precision    recall  f1-score   support\n",
      "\n",
      "          0       0.29      1.00      0.44         2\n",
      "          1       0.50      0.44      0.47        16\n",
      "          2       0.82      0.75      0.78        36\n",
      "\n",
      "avg / total       0.70      0.67      0.68        54\n",
      "\n"
     ]
    }
   ],
   "source": [
    "def create_model_architecture2(input_size):\n",
    "    seed(1)\n",
    "    # create input layer \n",
    "    input_layer = layers.Input((input_size, ), sparse=True)\n",
    "    \n",
    "    # create hidden layers\n",
    "    hidden_layer = layers.Dense(100, activation=\"relu\")(input_layer)\n",
    "    dropout1 = layers.Dropout(0.5)(hidden_layer)\n",
    "    \n",
    "    hidden_layer2 = layers.Dense(100, activation=\"relu\")(dropout1)\n",
    "    dropout2 = layers.Dropout(0.5)(hidden_layer2)\n",
    "    \n",
    "    hidden_layer3 = layers.Dense(100, activation=\"relu\")(dropout2)\n",
    "    dropout3 = layers.Dropout(0.5)(hidden_layer3)\n",
    "\n",
    "    # create output layer\n",
    "    output_layer = layers.Dense(3, activation=\"softmax\")(dropout3)\n",
    "\n",
    "    classifier = models.Model(inputs = input_layer, outputs = output_layer)\n",
    "    classifier.compile(optimizer=optimizers.rmsprop(), loss='categorical_crossentropy')\n",
    "    return classifier \n",
    "\n",
    "classifier = create_model_architecture2(X_train.shape[1])\n",
    "earlyStopping=EarlyStopping(monitor='val_loss', patience=0, verbose=0, mode='auto')\n",
    "history = classifier.fit(X_train, y_binary, class_weight={0: 4., 1: 2, 2: 1.},\n",
    "                    batch_size=68,\n",
    "                    epochs=200,\n",
    "                    verbose=1,\n",
    "                    callbacks=[earlyStopping],\n",
    "                    validation_data=( X_test, y_binary_test))\n",
    "y_pred = classifier.predict(X_test)\n",
    "y_pred = np.argmax(y_pred, axis=1)\n",
    "print(classifier.summary())\n",
    "print(\"NN, Ngram Level TF IDF Vectors, Accuracy:\",  accuracy_score(y_pred, np.argmax(y_binary_test, axis=1)))\n",
    "print(classification_report(y_pred, np.argmax(y_binary_test, axis=1)))"
   ]
  },
  {
   "cell_type": "markdown",
   "metadata": {},
   "source": [
    "A deeper net with the original data is seriously overfitting to the majority class."
   ]
  },
  {
   "cell_type": "markdown",
   "metadata": {},
   "source": [
    "### Word Embeddings"
   ]
  },
  {
   "cell_type": "code",
   "execution_count": 37,
   "metadata": {},
   "outputs": [],
   "source": [
    "# use pre-trained word-embedding vectors \n",
    "embeddings_index = {}\n",
    "for i, line in enumerate(open('/Users/itziar/Downloads/wiki-news-300d-1M.vec')):\n",
    "    values = line.split()\n",
    "    embeddings_index[values[0]] = np.asarray(values[1:], dtype='float32')\n",
    "\n",
    "# create a tokenizer \n",
    "token = text.Tokenizer()\n",
    "token.fit_on_texts(df['Sentence'])\n",
    "word_index = token.word_index\n",
    "\n",
    "# convert text to sequence of tokens and pad them to ensure equal length vectors \n",
    "train_seq_x = sequence.pad_sequences(token.texts_to_sequences(X_train_), maxlen=70)\n",
    "valid_seq_x = sequence.pad_sequences(token.texts_to_sequences(X_test_), maxlen=70)\n",
    "\n",
    "\n",
    "\n",
    "# create token-embedding mapping\n",
    "embedding_matrix = np.zeros((len(word_index) + 1, 300))\n",
    "for word, i in word_index.items():\n",
    "    embedding_vector = embeddings_index.get(word)\n",
    "    if embedding_vector is not None:\n",
    "        embedding_matrix[i] = embedding_vector"
   ]
  },
  {
   "cell_type": "markdown",
   "metadata": {},
   "source": [
    "### CNN"
   ]
  },
  {
   "cell_type": "code",
   "execution_count": 98,
   "metadata": {},
   "outputs": [
    {
     "name": "stdout",
     "output_type": "stream",
     "text": [
      "Train on 212 samples, validate on 54 samples\n",
      "Epoch 1/200\n",
      "212/212 [==============================] - 2s 10ms/step - loss: 1.9956 - val_loss: 1.0798\n",
      "Epoch 2/200\n",
      "212/212 [==============================] - 0s 876us/step - loss: 1.9801 - val_loss: 1.0108\n",
      "Epoch 3/200\n",
      "212/212 [==============================] - 0s 916us/step - loss: 1.9047 - val_loss: 1.0170\n",
      "_________________________________________________________________\n",
      "Layer (type)                 Output Shape              Param #   \n",
      "=================================================================\n",
      "input_55 (InputLayer)        (None, 70)                0         \n",
      "_________________________________________________________________\n",
      "embedding_21 (Embedding)     (None, 70, 300)           368700    \n",
      "_________________________________________________________________\n",
      "spatial_dropout1d_21 (Spatia (None, 70, 300)           0         \n",
      "_________________________________________________________________\n",
      "conv1d_20 (Conv1D)           (None, 68, 100)           90100     \n",
      "_________________________________________________________________\n",
      "global_max_pooling1d_20 (Glo (None, 100)               0         \n",
      "_________________________________________________________________\n",
      "dense_149 (Dense)            (None, 50)                5050      \n",
      "_________________________________________________________________\n",
      "dropout_81 (Dropout)         (None, 50)                0         \n",
      "_________________________________________________________________\n",
      "dense_150 (Dense)            (None, 3)                 153       \n",
      "=================================================================\n",
      "Total params: 464,003\n",
      "Trainable params: 95,303\n",
      "Non-trainable params: 368,700\n",
      "_________________________________________________________________\n",
      "None\n",
      "CNN, Word Embeddings, Accuracy 0.7037037037037037\n",
      "             precision    recall  f1-score   support\n",
      "\n",
      "          0       0.71      0.71      0.71         7\n",
      "          1       0.43      0.55      0.48        11\n",
      "          2       0.82      0.75      0.78        36\n",
      "\n",
      "avg / total       0.73      0.70      0.71        54\n",
      "\n"
     ]
    }
   ],
   "source": [
    "def create_cnn(input_size):\n",
    "    seed(1)\n",
    "    # Add an Input Layer\n",
    "    input_layer = layers.Input((input_size, ))\n",
    "\n",
    "    # Add the word embedding Layer\n",
    "    embedding_layer = layers.Embedding(len(word_index) + 1, 300, weights=[embedding_matrix], trainable=False)(input_layer)\n",
    "    embedding_layer = layers.SpatialDropout1D(0.3)(embedding_layer)\n",
    "\n",
    "    # Add the convolutional Layer\n",
    "    conv_layer = layers.Convolution1D(100, 3, activation=\"relu\")(embedding_layer)\n",
    "\n",
    "    # Add the pooling Layer\n",
    "    pooling_layer = layers.GlobalMaxPool1D()(conv_layer)\n",
    "\n",
    "    # Add the output Layers\n",
    "    output_layer1 = layers.Dense(50, activation=\"relu\")(pooling_layer)\n",
    "    output_layer1 = layers.Dropout(0.5)(output_layer1)\n",
    "    output_layer2 = layers.Dense(3, activation=\"softmax\")(output_layer1)\n",
    "\n",
    "    # Compile the model\n",
    "    model = models.Model(inputs=input_layer, outputs=output_layer2)\n",
    "    model.compile(optimizer=optimizers.Adam(), loss='categorical_crossentropy')\n",
    "    \n",
    "    return model\n",
    "\n",
    "classifier = create_cnn(train_seq_x.shape[1])\n",
    "earlyStopping=EarlyStopping(monitor='val_loss', patience=0, verbose=0, mode='auto')\n",
    "history = classifier.fit(train_seq_x, y_binary, class_weight={0: 4.2, 1: 2.5, 2: 1.},\n",
    "                    batch_size=50,\n",
    "                    epochs=200, \n",
    "                    verbose = 1,\n",
    "                    callbacks=[earlyStopping],\n",
    "                    validation_data = (valid_seq_x, y_binary_test))\n",
    "y_pred = classifier.predict(valid_seq_x)\n",
    "y_pred = np.argmax(y_pred, axis=1)\n",
    "print(classifier.summary())\n",
    "print(\"CNN, Word Embeddings, Accuracy\",  accuracy_score(y_pred, np.argmax(y_binary_test, axis=1)))\n",
    "print(classification_report(y_pred, np.argmax(y_binary_test, axis=1)))"
   ]
  },
  {
   "cell_type": "markdown",
   "metadata": {},
   "source": [
    "CNN using word embeddings is also overfitting to majority class. We do not have enough data for CNN."
   ]
  },
  {
   "cell_type": "markdown",
   "metadata": {},
   "source": [
    "### LSTM"
   ]
  },
  {
   "cell_type": "code",
   "execution_count": 108,
   "metadata": {},
   "outputs": [
    {
     "name": "stdout",
     "output_type": "stream",
     "text": [
      "Train on 212 samples, validate on 54 samples\n",
      "Epoch 1/200\n",
      "212/212 [==============================] - 4s 17ms/step - loss: 1.8431 - val_loss: 1.1003\n",
      "Epoch 2/200\n",
      "212/212 [==============================] - 0s 2ms/step - loss: 1.8302 - val_loss: 1.0953\n",
      "Epoch 3/200\n",
      "212/212 [==============================] - 1s 2ms/step - loss: 1.8171 - val_loss: 1.0857\n",
      "Epoch 4/200\n",
      "212/212 [==============================] - 0s 2ms/step - loss: 1.8073 - val_loss: 1.0792\n",
      "Epoch 5/200\n",
      "212/212 [==============================] - 0s 2ms/step - loss: 1.7969 - val_loss: 1.0661\n",
      "Epoch 6/200\n",
      "212/212 [==============================] - 0s 2ms/step - loss: 1.7697 - val_loss: 1.0672\n",
      "_________________________________________________________________\n",
      "Layer (type)                 Output Shape              Param #   \n",
      "=================================================================\n",
      "input_65 (InputLayer)        (None, 70)                0         \n",
      "_________________________________________________________________\n",
      "embedding_31 (Embedding)     (None, 70, 300)           368700    \n",
      "_________________________________________________________________\n",
      "spatial_dropout1d_31 (Spatia (None, 70, 300)           0         \n",
      "_________________________________________________________________\n",
      "lstm_11 (LSTM)               (None, 100)               160400    \n",
      "_________________________________________________________________\n",
      "dense_169 (Dense)            (None, 50)                5050      \n",
      "_________________________________________________________________\n",
      "dropout_91 (Dropout)         (None, 50)                0         \n",
      "_________________________________________________________________\n",
      "dense_170 (Dense)            (None, 3)                 153       \n",
      "=================================================================\n",
      "Total params: 534,303\n",
      "Trainable params: 165,603\n",
      "Non-trainable params: 368,700\n",
      "_________________________________________________________________\n",
      "None\n",
      "RNN-LSTM, Word Embeddings, Accuracy: 0.5740740740740741\n",
      "             precision    recall  f1-score   support\n",
      "\n",
      "          0       0.86      0.60      0.71        10\n",
      "          1       0.64      0.39      0.49        23\n",
      "          2       0.48      0.76      0.59        21\n",
      "\n",
      "avg / total       0.62      0.57      0.57        54\n",
      "\n"
     ]
    }
   ],
   "source": [
    "def create_rnn_lstm():\n",
    "    # Add an Input Layer\n",
    "    input_layer = layers.Input((70, ))\n",
    "\n",
    "    # Add the word embedding Layer\n",
    "    embedding_layer = layers.Embedding(len(word_index) + 1, 300, weights=[embedding_matrix], trainable=False)(input_layer)\n",
    "    embedding_layer = layers.SpatialDropout1D(0.3)(embedding_layer)\n",
    "\n",
    "    # Add the LSTM Layer\n",
    "    lstm_layer = layers.LSTM(100)(embedding_layer)\n",
    "\n",
    "    # Add the output Layers\n",
    "    output_layer1 = layers.Dense(50, activation=\"relu\")(lstm_layer)\n",
    "    output_layer1 = layers.Dropout(0.55)(output_layer1)\n",
    "    output_layer2 = layers.Dense(3, activation=\"sigmoid\")(output_layer1)\n",
    "\n",
    "    # Compile the model\n",
    "    model = models.Model(inputs=input_layer, outputs=output_layer2)\n",
    "    model.compile(optimizer=optimizers.Adam(), loss='categorical_crossentropy')\n",
    "    \n",
    "    return model\n",
    "\n",
    "classifier = create_rnn_lstm()\n",
    "earlyStopping=EarlyStopping(monitor='val_loss', patience=0, verbose=0, mode='auto')\n",
    "history = classifier.fit(train_seq_x, y_binary, class_weight={0: 4, 1: 2, 2: 1.},\n",
    "                    batch_size=50,\n",
    "                    epochs=200,\n",
    "                    verbose=1,\n",
    "                    callbacks = [earlyStopping],\n",
    "                    validation_data=(valid_seq_x, y_binary_test))\n",
    "y_pred = classifier.predict(valid_seq_x)\n",
    "y_pred = np.argmax(y_pred, axis=1)\n",
    "print(classifier.summary())\n",
    "print(\"RNN-LSTM, Word Embeddings, Accuracy:\",  accuracy_score(y_pred, np.argmax(y_binary_test, axis=1)))\n",
    "print(classification_report(y_pred, np.argmax(y_binary_test, axis=1)))"
   ]
  },
  {
   "cell_type": "code",
   "execution_count": null,
   "metadata": {},
   "outputs": [],
   "source": []
  }
 ],
 "metadata": {
  "kernelspec": {
   "display_name": "Python 3",
   "language": "python",
   "name": "python3"
  },
  "language_info": {
   "codemirror_mode": {
    "name": "ipython",
    "version": 3
   },
   "file_extension": ".py",
   "mimetype": "text/x-python",
   "name": "python",
   "nbconvert_exporter": "python",
   "pygments_lexer": "ipython3",
   "version": "3.6.5"
  }
 },
 "nbformat": 4,
 "nbformat_minor": 2
}
