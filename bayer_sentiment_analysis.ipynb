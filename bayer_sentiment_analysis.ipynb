{
 "cells": [
  {
   "cell_type": "code",
   "execution_count": 202,
   "metadata": {},
   "outputs": [
    {
     "name": "stdout",
     "output_type": "stream",
     "text": [
      "[nltk_data] Downloading package wordnet to /Users/itziar/nltk_data...\n",
      "[nltk_data]   Package wordnet is already up-to-date!\n"
     ]
    }
   ],
   "source": [
    "import pandas as pd\n",
    "import xlrd\n",
    "import matplotlib.pyplot as plt\n",
    "import numpy as np\n",
    "import seaborn as sns\n",
    "from sklearn.cross_validation import StratifiedKFold\n",
    "from sklearn import metrics, preprocessing\n",
    "from sklearn.model_selection import train_test_split, StratifiedShuffleSplit, RandomizedSearchCV, GridSearchCV\n",
    "from sklearn.naive_bayes import MultinomialNB\n",
    "from wordcloud import WordCloud, STOPWORDS\n",
    "from sklearn.metrics import f1_score, precision_score, recall_score, accuracy_score, classification_report\n",
    "from numpy.random import seed\n",
    "from nltk.corpus import stopwords\n",
    "stop = stopwords.words('english')\n",
    "from textblob import Word\n",
    "import nltk\n",
    "nltk.download('wordnet')\n",
    "from sklearn.pipeline import Pipeline, FeatureUnion\n",
    "import sys\n",
    "from sklearn.preprocessing import LabelBinarizer, LabelEncoder\n",
    "from sklearn.ensemble import  RandomForestClassifier, AdaBoostClassifier\n",
    "from sklearn.tree import DecisionTreeClassifier\n",
    "import xgboost, textblob, string\n",
    "from keras.preprocessing import text, sequence\n",
    "from keras import layers, models, optimizers\n",
    "from sklearn.svm import LinearSVC\n",
    "from sklearn.linear_model import LogisticRegression, SGDClassifier\n",
    "from sklearn import decomposition, ensemble\n",
    "from keras.callbacks import EarlyStopping\n",
    "from keras.layers import Dense, Input, Flatten, Activation\n",
    "from keras.layers import Conv1D, MaxPooling1D, Embedding, Dropout\n",
    "from keras.models import Model, Sequential\n",
    "from keras.callbacks import ModelCheckpoint\n",
    "import warnings\n",
    "warnings.filterwarnings(\"ignore\")\n",
    "from keras.utils import to_categorical\n",
    "from scipy.stats import randint\n",
    "from imblearn.pipeline import make_pipeline\n",
    "from imblearn.over_sampling import ADASYN, SMOTE, RandomOverSampler\n",
    "from sklearn import model_selection, preprocessing, linear_model, naive_bayes, metrics, svm\n",
    "from sklearn.feature_extraction.text import TfidfVectorizer, CountVectorizer\n",
    "from sklearn import decomposition, ensemble\n",
    "from keras.preprocessing import text, sequence\n",
    "from keras.wrappers.scikit_learn import KerasClassifier\n",
    "from sklearn.model_selection import cross_val_score\n",
    "from textblob import TextBlob\n",
    "from gensim import corpora\n",
    "import gensim\n",
    "import pickle\n",
    "from nltk.tokenize import word_tokenize\n",
    "import pyLDAvis.gensim\n",
    "from imblearn.pipeline import Pipeline \n",
    "from sklearn.preprocessing import FunctionTransformer\n",
    "warnings.filterwarnings(\"ignore\", category=DeprecationWarning) \n"
   ]
  },
  {
   "cell_type": "code",
   "execution_count": 203,
   "metadata": {},
   "outputs": [
    {
     "data": {
      "text/html": [
       "<div>\n",
       "<style scoped>\n",
       "    .dataframe tbody tr th:only-of-type {\n",
       "        vertical-align: middle;\n",
       "    }\n",
       "\n",
       "    .dataframe tbody tr th {\n",
       "        vertical-align: top;\n",
       "    }\n",
       "\n",
       "    .dataframe thead th {\n",
       "        text-align: right;\n",
       "    }\n",
       "</style>\n",
       "<table border=\"1\" class=\"dataframe\">\n",
       "  <thead>\n",
       "    <tr style=\"text-align: right;\">\n",
       "      <th></th>\n",
       "      <th>ID</th>\n",
       "      <th>Sentence</th>\n",
       "      <th>Positive</th>\n",
       "      <th>Negative</th>\n",
       "      <th>Neutral</th>\n",
       "    </tr>\n",
       "  </thead>\n",
       "  <tbody>\n",
       "    <tr>\n",
       "      <th>0</th>\n",
       "      <td>1</td>\n",
       "      <td>The results in 2nd line treatment show an ORR ...</td>\n",
       "      <td>1</td>\n",
       "      <td>0</td>\n",
       "      <td>0</td>\n",
       "    </tr>\n",
       "    <tr>\n",
       "      <th>1</th>\n",
       "      <td>2</td>\n",
       "      <td>The long duration of response and high durable...</td>\n",
       "      <td>1</td>\n",
       "      <td>0</td>\n",
       "      <td>0</td>\n",
       "    </tr>\n",
       "    <tr>\n",
       "      <th>2</th>\n",
       "      <td>3</td>\n",
       "      <td>The median OS time in the updated results exce...</td>\n",
       "      <td>0</td>\n",
       "      <td>0</td>\n",
       "      <td>1</td>\n",
       "    </tr>\n",
       "    <tr>\n",
       "      <th>3</th>\n",
       "      <td>4</td>\n",
       "      <td>Therefore, the clinical benefit in 2nd line tr...</td>\n",
       "      <td>1</td>\n",
       "      <td>0</td>\n",
       "      <td>0</td>\n",
       "    </tr>\n",
       "    <tr>\n",
       "      <th>4</th>\n",
       "      <td>5</td>\n",
       "      <td>The data provided in 1st line, although prelim...</td>\n",
       "      <td>1</td>\n",
       "      <td>0</td>\n",
       "      <td>0</td>\n",
       "    </tr>\n",
       "  </tbody>\n",
       "</table>\n",
       "</div>"
      ],
      "text/plain": [
       "   ID                                           Sentence  Positive  Negative  \\\n",
       "0   1  The results in 2nd line treatment show an ORR ...         1         0   \n",
       "1   2  The long duration of response and high durable...         1         0   \n",
       "2   3  The median OS time in the updated results exce...         0         0   \n",
       "3   4  Therefore, the clinical benefit in 2nd line tr...         1         0   \n",
       "4   5  The data provided in 1st line, although prelim...         1         0   \n",
       "\n",
       "   Neutral  \n",
       "0        0  \n",
       "1        0  \n",
       "2        1  \n",
       "3        0  \n",
       "4        0  "
      ]
     },
     "execution_count": 203,
     "metadata": {},
     "output_type": "execute_result"
    }
   ],
   "source": [
    "df = pd.read_excel('/Users/itziar/Downloads/DS_NLP_Assignment_final/sentences_with_sentiment.xlsx', names=['ID', 'Sentence', 'Positive', 'Negative', 'Neutral'])\n",
    "df.head()"
   ]
  },
  {
   "cell_type": "code",
   "execution_count": 204,
   "metadata": {},
   "outputs": [
    {
     "data": {
      "text/plain": [
       "(0.6015037593984962, 0.2631578947368421, 0.13533834586466165)"
      ]
     },
     "execution_count": 204,
     "metadata": {},
     "output_type": "execute_result"
    }
   ],
   "source": [
    "df[df.Positive == 1].shape[0]/df.shape[0], df[df.Neutral == 1].shape[0]/df.shape[0], df[df.Negative == 1].shape[0]/df.shape[0]"
   ]
  },
  {
   "cell_type": "markdown",
   "metadata": {},
   "source": [
    "Data is inbalanced. There are 60% positive sentiments, 26% neutral sentiments and 14% negative sentiments. We will try some data balancing techniques later."
   ]
  },
  {
   "cell_type": "code",
   "execution_count": 205,
   "metadata": {},
   "outputs": [],
   "source": [
    "df['Positive'][df.Positive == 1] = \"Positive\"\n",
    "df['Positive'][df.Positive == 0] = \"\"\n",
    "\n",
    "df['Negative'][df.Negative == 1] = \"Negative\"\n",
    "df['Negative'][df.Negative == 0] = \"\"\n",
    "\n",
    "df['Neutral'][df.Neutral == 1] = \"Neutral\"\n",
    "df['Neutral'][df.Neutral == 0] = \"\"\n",
    "\n",
    "\n",
    "df['Sentiment'] = df.Positive + df.Negative + df.Neutral"
   ]
  },
  {
   "cell_type": "code",
   "execution_count": 206,
   "metadata": {},
   "outputs": [],
   "source": [
    "df.Sentiment = LabelEncoder().fit_transform(df.Sentiment)\n"
   ]
  },
  {
   "cell_type": "code",
   "execution_count": 207,
   "metadata": {},
   "outputs": [
    {
     "data": {
      "text/plain": [
       "'The data provided in 1st line, although preliminary, showed activity of avelumab in mMCC in terms of response rate, and evidence of a similar durable response from the small subset of patients with a longer follow-up compared to 2nd line treatment'"
      ]
     },
     "execution_count": 207,
     "metadata": {},
     "output_type": "execute_result"
    }
   ],
   "source": [
    "df.Sentence.iloc[4]"
   ]
  },
  {
   "cell_type": "markdown",
   "metadata": {},
   "source": [
    "### Feature engineering"
   ]
  },
  {
   "cell_type": "code",
   "execution_count": 208,
   "metadata": {},
   "outputs": [],
   "source": [
    "def avg_word(sentence):\n",
    "    words = sentence.split()\n",
    "    return (sum(len(word) for word in words)/len(words))\n",
    "\n"
   ]
  },
  {
   "cell_type": "code",
   "execution_count": 209,
   "metadata": {},
   "outputs": [],
   "source": [
    "df['char_count'] = df['Sentence'].apply(len)\n",
    "df['word_count'] = df['Sentence'].apply(lambda x: len(x.split()))\n",
    "df['word_density'] = df['char_count'] / (df['word_count']+1)\n",
    "df['upper_case_word_count'] = df['Sentence'].apply(lambda x: len([wrd for wrd in x.split() if wrd.isupper()]))\n",
    "df['numerics'] = df['Sentence'].apply(lambda x: len([x for x in x.split() if x.isdigit()]))\n",
    "df['stopwords'] = df['Sentence'].apply(lambda x: len([x for x in x.split() if x in stop]))\n",
    "df['avg_word'] = df['Sentence'].apply(lambda x: avg_word(x))\n"
   ]
  },
  {
   "cell_type": "markdown",
   "metadata": {},
   "source": [
    "remove stopwords, convert to lowercase, remove punctuation and lemmatize. "
   ]
  },
  {
   "cell_type": "code",
   "execution_count": 211,
   "metadata": {},
   "outputs": [],
   "source": [
    "df['Sentence'] = df['Sentence'].apply(lambda x: \" \".join(x.lower() for x in x.split()))\n",
    "df['Sentence'] = df['Sentence'].str.replace('[^\\w\\s]','')\n",
    "df['Sentence'] = df['Sentence'].apply(lambda x: \" \".join(x for x in x.split() if x not in stop))\n",
    "df['Sentence'] = df['Sentence'].apply(lambda x: \" \".join([Word(word).lemmatize() for word in x.split()]))"
   ]
  },
  {
   "cell_type": "code",
   "execution_count": 212,
   "metadata": {},
   "outputs": [],
   "source": [
    "df['polarity'] = df['Sentence'].apply(lambda x: TextBlob(x).sentiment[0] )\n",
    "df['subjectivity'] = df['Sentence'].apply(lambda x: TextBlob(x).sentiment[1] )\n"
   ]
  },
  {
   "cell_type": "code",
   "execution_count": 214,
   "metadata": {},
   "outputs": [
    {
     "data": {
      "text/html": [
       "<div>\n",
       "<style scoped>\n",
       "    .dataframe tbody tr th:only-of-type {\n",
       "        vertical-align: middle;\n",
       "    }\n",
       "\n",
       "    .dataframe tbody tr th {\n",
       "        vertical-align: top;\n",
       "    }\n",
       "\n",
       "    .dataframe thead th {\n",
       "        text-align: right;\n",
       "    }\n",
       "</style>\n",
       "<table border=\"1\" class=\"dataframe\">\n",
       "  <thead>\n",
       "    <tr style=\"text-align: right;\">\n",
       "      <th></th>\n",
       "      <th>ID</th>\n",
       "      <th>Sentence</th>\n",
       "      <th>Sentiment</th>\n",
       "      <th>char_count</th>\n",
       "      <th>word_count</th>\n",
       "      <th>word_density</th>\n",
       "      <th>upper_case_word_count</th>\n",
       "      <th>numerics</th>\n",
       "      <th>stopwords</th>\n",
       "      <th>avg_word</th>\n",
       "      <th>polarity</th>\n",
       "      <th>subjectivity</th>\n",
       "    </tr>\n",
       "  </thead>\n",
       "  <tbody>\n",
       "    <tr>\n",
       "      <th>0</th>\n",
       "      <td>1</td>\n",
       "      <td>result 2nd line treatment show orr 33 patient ...</td>\n",
       "      <td>2</td>\n",
       "      <td>133</td>\n",
       "      <td>23</td>\n",
       "      <td>5.541667</td>\n",
       "      <td>2</td>\n",
       "      <td>0</td>\n",
       "      <td>8</td>\n",
       "      <td>4.826087</td>\n",
       "      <td>0.025000</td>\n",
       "      <td>0.175000</td>\n",
       "    </tr>\n",
       "    <tr>\n",
       "      <th>1</th>\n",
       "      <td>2</td>\n",
       "      <td>long duration response high durable response r...</td>\n",
       "      <td>2</td>\n",
       "      <td>170</td>\n",
       "      <td>24</td>\n",
       "      <td>6.800000</td>\n",
       "      <td>0</td>\n",
       "      <td>0</td>\n",
       "      <td>7</td>\n",
       "      <td>6.125000</td>\n",
       "      <td>0.055000</td>\n",
       "      <td>0.470000</td>\n",
       "    </tr>\n",
       "    <tr>\n",
       "      <th>2</th>\n",
       "      <td>3</td>\n",
       "      <td>median o time updated result exceeded 1 year</td>\n",
       "      <td>1</td>\n",
       "      <td>57</td>\n",
       "      <td>11</td>\n",
       "      <td>4.750000</td>\n",
       "      <td>1</td>\n",
       "      <td>1</td>\n",
       "      <td>2</td>\n",
       "      <td>4.272727</td>\n",
       "      <td>0.000000</td>\n",
       "      <td>0.000000</td>\n",
       "    </tr>\n",
       "    <tr>\n",
       "      <th>3</th>\n",
       "      <td>4</td>\n",
       "      <td>therefore clinical benefit 2nd line treatment ...</td>\n",
       "      <td>2</td>\n",
       "      <td>161</td>\n",
       "      <td>23</td>\n",
       "      <td>6.708333</td>\n",
       "      <td>0</td>\n",
       "      <td>0</td>\n",
       "      <td>9</td>\n",
       "      <td>6.043478</td>\n",
       "      <td>0.291667</td>\n",
       "      <td>0.458333</td>\n",
       "    </tr>\n",
       "    <tr>\n",
       "      <th>4</th>\n",
       "      <td>5</td>\n",
       "      <td>data provided 1st line although preliminary sh...</td>\n",
       "      <td>2</td>\n",
       "      <td>247</td>\n",
       "      <td>41</td>\n",
       "      <td>5.880952</td>\n",
       "      <td>0</td>\n",
       "      <td>0</td>\n",
       "      <td>14</td>\n",
       "      <td>5.048780</td>\n",
       "      <td>-0.083333</td>\n",
       "      <td>0.266667</td>\n",
       "    </tr>\n",
       "  </tbody>\n",
       "</table>\n",
       "</div>"
      ],
      "text/plain": [
       "   ID                                           Sentence  Sentiment  \\\n",
       "0   1  result 2nd line treatment show orr 33 patient ...          2   \n",
       "1   2  long duration response high durable response r...          2   \n",
       "2   3       median o time updated result exceeded 1 year          1   \n",
       "3   4  therefore clinical benefit 2nd line treatment ...          2   \n",
       "4   5  data provided 1st line although preliminary sh...          2   \n",
       "\n",
       "   char_count  word_count  word_density  upper_case_word_count  numerics  \\\n",
       "0         133          23      5.541667                      2         0   \n",
       "1         170          24      6.800000                      0         0   \n",
       "2          57          11      4.750000                      1         1   \n",
       "3         161          23      6.708333                      0         0   \n",
       "4         247          41      5.880952                      0         0   \n",
       "\n",
       "   stopwords  avg_word  polarity  subjectivity  \n",
       "0          8  4.826087  0.025000      0.175000  \n",
       "1          7  6.125000  0.055000      0.470000  \n",
       "2          2  4.272727  0.000000      0.000000  \n",
       "3          9  6.043478  0.291667      0.458333  \n",
       "4         14  5.048780 -0.083333      0.266667  "
      ]
     },
     "execution_count": 214,
     "metadata": {},
     "output_type": "execute_result"
    }
   ],
   "source": [
    "df.drop(['Positive', 'Negative', 'Neutral'], axis = 1).head()"
   ]
  },
  {
   "cell_type": "markdown",
   "metadata": {},
   "source": [
    "The sentiment polarity predicted using TextBlob does not match with the labels provided in this dataset for many cases."
   ]
  },
  {
   "cell_type": "code",
   "execution_count": 215,
   "metadata": {},
   "outputs": [
    {
     "name": "stdout",
     "output_type": "stream",
     "text": [
      "<wordcloud.wordcloud.WordCloud object at 0x1fbf6aac8>\n"
     ]
    },
    {
     "data": {
      "text/plain": [
       "<Figure size 432x288 with 0 Axes>"
      ]
     },
     "metadata": {},
     "output_type": "display_data"
    },
    {
     "data": {
      "image/png": "[encoded data removed]",
      "text/plain": [
       "<Figure size 1080x720 with 1 Axes>"
      ]
     },
     "metadata": {},
     "output_type": "display_data"
    }
   ],
   "source": [
    "stopwords = set(STOPWORDS)\n",
    "\n",
    "wordcloud = WordCloud(\n",
    "                          background_color='white',\n",
    "                          stopwords=stopwords,\n",
    "                          max_words=100,\n",
    "                          max_font_size=40, \n",
    "                          random_state=42\n",
    "                         ).generate(str(df['Sentence']))\n",
    "\n",
    "print(wordcloud)\n",
    "fig = plt.figure(1)\n",
    "plt.figure( figsize=(15,10) )\n",
    "plt.imshow(wordcloud)\n",
    "plt.axis('off')\n",
    "plt.savefig('/Users/itziar/Documents/wordcloud2.png')\n",
    "plt.show()\n",
    "\n"
   ]
  },
  {
   "cell_type": "code",
   "execution_count": 216,
   "metadata": {},
   "outputs": [],
   "source": [
    "df_num = df.drop(['Sentence', 'Positive', 'Neutral', 'Negative', 'ID'], axis=1)"
   ]
  },
  {
   "cell_type": "code",
   "execution_count": 217,
   "metadata": {},
   "outputs": [
    {
     "data": {
      "image/png": "[encoded data removed]",
      "text/plain": [
       "<Figure size 648x504 with 2 Axes>"
      ]
     },
     "metadata": {},
     "output_type": "display_data"
    }
   ],
   "source": [
    "corr = df_num.corr()\n",
    "plt.subplots(figsize=(9,7))\n",
    "sns.heatmap(corr, cmap=\"Blues\", annot = True, annot_kws={\"size\": 10}, fmt='.1f')\n",
    "plt.tight_layout()\n",
    "plt.savefig('/Users/itziar/Documents/correlation2.png')"
   ]
  },
  {
   "cell_type": "markdown",
   "metadata": {},
   "source": [
    "There is no correlation between the features engineered and the Sentiment label"
   ]
  },
  {
   "cell_type": "markdown",
   "metadata": {},
   "source": [
    "### Count vectors and TF-IDF as features"
   ]
  },
  {
   "cell_type": "code",
   "execution_count": 218,
   "metadata": {},
   "outputs": [],
   "source": [
    "# create a count vectorizer object \n",
    "count_vect = CountVectorizer(analyzer='word', token_pattern=r'\\w{1,}')\n",
    "\n",
    "# word level tf-idf\n",
    "tfidf_vect = TfidfVectorizer(analyzer='word', token_pattern=r'\\w{1,}', max_features=5000)\n",
    "\n",
    "# ngram level tf-idf \n",
    "tfidf_vect_ngram = TfidfVectorizer(analyzer='word', token_pattern=r'\\w{1,}', ngram_range=(2,3), max_features=5000)\n",
    "\n",
    "# characters level tf-idf\n",
    "tfidf_vect_ngram_chars = TfidfVectorizer(analyzer='char', token_pattern=r'\\w{1,}', ngram_range=(2,3), max_features=5000)\n",
    "\n",
    "series_text = pd.Series(df.Sentence)\n",
    "\n",
    "sentence_count = count_vect.fit_transform(series_text)\n",
    "sentence_tfidf = tfidf_vect.fit_transform(series_text)\n",
    "sentence_tfidf_ngram = tfidf_vect_ngram.fit_transform(series_text)\n",
    "sentence_tfidf_ngram_chars = tfidf_vect_ngram_chars.fit_transform(series_text)\n"
   ]
  },
  {
   "cell_type": "markdown",
   "metadata": {},
   "source": [
    "### Topics with LDA"
   ]
  },
  {
   "cell_type": "code",
   "execution_count": 219,
   "metadata": {},
   "outputs": [
    {
     "name": "stdout",
     "output_type": "stream",
     "text": [
      "['application incruse rolufta assessed identical procedure dossier authorised since spc', 'conclusion use discussed concerning section br recommended data safety profile', 'week sofvel sofvelvox patient however 12 course number 8 daanaïve', 'requested lenvima application information also relevant provide study support submitted', 'reaction subject without effect injection site increase known consistent observed', 'immune risk related safety additional patient activity form handle educational', 'analysis 2 provide robustness power sample furthermore observed bioequivalence year', 'maintained dos sma across motor inconsistent function multiple walk achieved', 'aes related including potentially appetite muscle decreased rash spasm vomiting', 'product clinical bioequivalence regard safety insulin provided reference study two', 'profile humira concern reported line nature frequency sb5 product study', 'data considered clinical efficacy safety treatment based study chmp mabthera', 'safety product medicinal information biosimilar profile appropriate sufficient database general', 'study pps data pk response safety collected demonstrated pooled four', 'study rate safety due reported sofvelvox patient phase subject difference', 'reported infusion event common related reaction infection lenvatinib safety profile', 'study data period safety followup aes result rate dose maintenance', 'function motor study infant analysis improvement strength across proportion comparability', 'study insulin dose additional mg clinical efficacy higher dos frc', 'objective ctp10 study efficacy patient fl coadministered advanced primary context']\n"
     ]
    }
   ],
   "source": [
    "# train a LDA Model\n",
    "lda_model = decomposition.LatentDirichletAllocation(n_components=20, learning_method='online', max_iter=20)\n",
    "\n",
    "X_topics = lda_model.fit_transform(count_vect.fit_transform(df.Sentence))\n",
    "topic_word = lda_model.components_ \n",
    "vocab = count_vect.get_feature_names()\n",
    "\n",
    "# view the topic models\n",
    "n_top_words = 10\n",
    "topic_summaries = []\n",
    "for i, topic_dist in enumerate(topic_word):\n",
    "    topic_words = np.array(vocab)[np.argsort(topic_dist)][:-(n_top_words+1):-1]\n",
    "    topic_summaries.append(' '.join(topic_words))\n",
    "print (topic_summaries)"
   ]
  },
  {
   "cell_type": "markdown",
   "metadata": {},
   "source": [
    "### Topic visualizaion"
   ]
  },
  {
   "cell_type": "code",
   "execution_count": 220,
   "metadata": {},
   "outputs": [
    {
     "name": "stdout",
     "output_type": "stream",
     "text": [
      "(0, '0.172*\"provided\" + 0.162*\"chmp\" + 0.128*\"additional\" + 0.099*\"product\" + 0.096*\"clinical\"')\n",
      "(1, '0.488*\"safety\" + 0.300*\"profile\" + 0.046*\"considered\" + 0.038*\"additional\" + 0.037*\"overall\"')\n",
      "(2, '0.281*\"data\" + 0.193*\"observed\" + 0.147*\"rate\" + 0.130*\"support\" + 0.105*\"clinical\"')\n",
      "(3, '0.236*\"product\" + 0.138*\"study\" + 0.129*\"reference\" + 0.113*\"bioequivalence\" + 0.101*\"considered\"')\n",
      "(4, '0.433*\"combination\" + 0.176*\"treatment\" + 0.144*\"difference\" + 0.066*\"compared\" + 0.064*\"patient\"')\n",
      "(5, '0.266*\"treatment\" + 0.181*\"patient\" + 0.154*\"data\" + 0.104*\"based\" + 0.091*\"considered\"')\n",
      "(6, '0.245*\"efficacy\" + 0.224*\"study\" + 0.133*\"patient\" + 0.087*\"safety\" + 0.073*\"support\"')\n",
      "(7, '0.269*\"ctp10\" + 0.202*\"data\" + 0.143*\"safety\" + 0.115*\"study\" + 0.081*\"efficacy\"')\n",
      "(8, '0.307*\"subject\" + 0.260*\"study\" + 0.202*\"compared\" + 0.071*\"rate\" + 0.057*\"patient\"')\n",
      "(9, '0.242*\"week\" + 0.237*\"study\" + 0.145*\"result\" + 0.125*\"effect\" + 0.090*\"difference\"')\n"
     ]
    }
   ],
   "source": [
    "\n",
    "tokenized_sents = [word_tokenize(i) for i in df.Sentence]\n",
    "dictionary = corpora.Dictionary(tokenized_sents)\n",
    "dictionary.filter_extremes(no_below=15, no_above=0.5, keep_n=100000)\n",
    "corpus_yes = [dictionary.doc2bow(text) for text in tokenized_sents]\n",
    "pickle.dump(corpus_yes, open('corpus.pkl', 'wb'))\n",
    "dictionary.save('dictionary.gensim')\n",
    "\n",
    "NUM_TOPICS = 10\n",
    "ldamodel_yes = gensim.models.ldamodel.LdaModel(corpus_yes, num_topics = NUM_TOPICS, id2word=dictionary, passes=15)\n",
    "ldamodel_yes.save('model5.gensim')\n",
    "topics = ldamodel_yes.print_topics(num_words=5)\n",
    "for topic in topics:\n",
    "    print (topic)"
   ]
  },
  {
   "cell_type": "code",
   "execution_count": 221,
   "metadata": {},
   "outputs": [
    {
     "data": {
      "text/html": [
       "\n",
       "<link rel=\"stylesheet\" type=\"text/css\" href=\"https://cdn.rawgit.com/bmabey/pyLDAvis/files/ldavis.v1.0.0.css\">\n",
       "\n",
       "\n",
       "<div id=\"ldavis_el565484236564483834751900\"></div>\n",
       "<script type=\"text/javascript\">\n",
       "\n",
       "var ldavis_el565484236564483834751900_data = {\"mdsDat\": {\"x\": [0.1969274127150359, 0.25943956302812926, 0.018617492367639425, 0.05085477492172334, -0.25274950842029625, 0.03605088547934355, 0.01923337409509684, 0.16411545488359913, -0.2361948362574845, -0.25629461281278654], \"y\": [0.027964702190338062, 0.052049761804304956, -0.2631210491340309, 0.14948395140172352, -0.10809646367053749, -0.22053695523923914, 0.11753359000785824, 0.04285376757094761, 0.0676349784239525, 0.13423371664468234], \"topics\": [1, 2, 3, 4, 5, 6, 7, 8, 9, 10], \"cluster\": [1, 1, 1, 1, 1, 1, 1, 1, 1, 1], \"Freq\": [8.278725624084473, 11.146763801574707, 9.857093811035156, 12.154862403869629, 5.771527290344238, 12.484233856201172, 12.199997901916504, 10.874506950378418, 8.240463256835938, 8.991827011108398]}, \"tinfo\": {\"Category\": [\"Default\", \"Default\", \"Default\", \"Default\", \"Default\", \"Default\", \"Default\", \"Default\", \"Default\", \"Default\", \"Default\", \"Default\", \"Default\", \"Default\", \"Default\", \"Default\", \"Default\", \"Default\", \"Default\", \"Default\", \"Default\", \"Default\", \"Default\", \"Default\", \"Default\", \"Default\", \"Default\", \"Default\", \"Topic1\", \"Topic1\", \"Topic1\", \"Topic1\", \"Topic1\", \"Topic1\", \"Topic1\", \"Topic1\", \"Topic1\", \"Topic1\", \"Topic1\", \"Topic1\", \"Topic1\", \"Topic1\", \"Topic1\", \"Topic1\", \"Topic1\", \"Topic1\", \"Topic1\", \"Topic1\", \"Topic1\", \"Topic1\", \"Topic1\", \"Topic1\", \"Topic1\", \"Topic1\", \"Topic1\", \"Topic1\", \"Topic2\", \"Topic2\", \"Topic2\", \"Topic2\", \"Topic2\", \"Topic2\", \"Topic2\", \"Topic2\", \"Topic2\", \"Topic2\", \"Topic2\", \"Topic2\", \"Topic2\", \"Topic2\", \"Topic2\", \"Topic2\", \"Topic2\", \"Topic2\", \"Topic2\", \"Topic2\", \"Topic2\", \"Topic2\", \"Topic2\", \"Topic2\", \"Topic2\", \"Topic2\", \"Topic2\", \"Topic2\", \"Topic3\", \"Topic3\", \"Topic3\", \"Topic3\", \"Topic3\", \"Topic3\", \"Topic3\", \"Topic3\", \"Topic3\", \"Topic3\", \"Topic3\", \"Topic3\", \"Topic3\", \"Topic3\", \"Topic3\", \"Topic3\", \"Topic3\", \"Topic3\", \"Topic3\", \"Topic3\", \"Topic3\", \"Topic3\", \"Topic3\", \"Topic3\", \"Topic3\", \"Topic3\", \"Topic3\", \"Topic3\", \"Topic4\", \"Topic4\", \"Topic4\", \"Topic4\", \"Topic4\", \"Topic4\", \"Topic4\", \"Topic4\", \"Topic4\", \"Topic4\", \"Topic4\", \"Topic4\", \"Topic4\", \"Topic4\", \"Topic4\", \"Topic4\", \"Topic4\", \"Topic4\", \"Topic4\", \"Topic4\", \"Topic4\", \"Topic4\", \"Topic4\", \"Topic4\", \"Topic4\", \"Topic4\", \"Topic4\", \"Topic4\", \"Topic5\", \"Topic5\", \"Topic5\", \"Topic5\", \"Topic5\", \"Topic5\", \"Topic5\", \"Topic5\", \"Topic5\", \"Topic5\", \"Topic5\", \"Topic5\", \"Topic5\", \"Topic5\", \"Topic5\", \"Topic5\", \"Topic5\", \"Topic5\", \"Topic5\", \"Topic5\", \"Topic5\", \"Topic5\", \"Topic5\", \"Topic5\", \"Topic5\", \"Topic5\", \"Topic5\", \"Topic5\", \"Topic6\", \"Topic6\", \"Topic6\", \"Topic6\", \"Topic6\", \"Topic6\", \"Topic6\", \"Topic6\", \"Topic6\", \"Topic6\", \"Topic6\", \"Topic6\", \"Topic6\", \"Topic6\", \"Topic6\", \"Topic6\", \"Topic6\", \"Topic6\", \"Topic6\", \"Topic6\", \"Topic6\", \"Topic6\", \"Topic6\", \"Topic6\", \"Topic6\", \"Topic6\", \"Topic6\", \"Topic6\", \"Topic7\", \"Topic7\", \"Topic7\", \"Topic7\", \"Topic7\", \"Topic7\", \"Topic7\", \"Topic7\", \"Topic7\", \"Topic7\", \"Topic7\", \"Topic7\", \"Topic7\", \"Topic7\", \"Topic7\", \"Topic7\", \"Topic7\", \"Topic7\", \"Topic7\", \"Topic7\", \"Topic7\", \"Topic7\", \"Topic7\", \"Topic7\", \"Topic7\", \"Topic7\", \"Topic7\", \"Topic7\", \"Topic8\", \"Topic8\", \"Topic8\", \"Topic8\", \"Topic8\", \"Topic8\", \"Topic8\", \"Topic8\", \"Topic8\", \"Topic8\", \"Topic8\", \"Topic8\", \"Topic8\", \"Topic8\", \"Topic8\", \"Topic8\", \"Topic8\", \"Topic8\", \"Topic8\", \"Topic8\", \"Topic8\", \"Topic8\", \"Topic8\", \"Topic8\", \"Topic8\", \"Topic8\", \"Topic8\", \"Topic8\", \"Topic9\", \"Topic9\", \"Topic9\", \"Topic9\", \"Topic9\", \"Topic9\", \"Topic9\", \"Topic9\", \"Topic9\", \"Topic9\", \"Topic9\", \"Topic9\", \"Topic9\", \"Topic9\", \"Topic9\", \"Topic9\", \"Topic9\", \"Topic9\", \"Topic9\", \"Topic9\", \"Topic9\", \"Topic9\", \"Topic9\", \"Topic9\", \"Topic9\", \"Topic9\", \"Topic9\", \"Topic9\", \"Topic10\", \"Topic10\", \"Topic10\", \"Topic10\", \"Topic10\", \"Topic10\", \"Topic10\", \"Topic10\", \"Topic10\", \"Topic10\", \"Topic10\", \"Topic10\", \"Topic10\", \"Topic10\", \"Topic10\", \"Topic10\", \"Topic10\", \"Topic10\", \"Topic10\", \"Topic10\", \"Topic10\", \"Topic10\", \"Topic10\", \"Topic10\", \"Topic10\", \"Topic10\", \"Topic10\", \"Topic10\"], \"Freq\": [79.0, 39.0, 23.0, 31.0, 69.0, 23.0, 29.0, 94.0, 39.0, 20.0, 45.0, 17.0, 18.0, 49.0, 16.0, 17.0, 18.0, 20.0, 20.0, 18.0, 23.0, 18.0, 17.0, 21.0, 30.0, 15.0, 38.0, 18.0, 12.50488567352295, 11.742534637451172, 9.287672996520996, 7.180360794067383, 6.954861640930176, 2.8202719688415527, 5.584085941314697, 4.9689435958862305, 5.672064781188965, 3.2574589252471924, 0.31624218821525574, 0.20629703998565674, 0.2252211719751358, 0.25045245885849, 0.1723499745130539, 0.107327900826931, 0.1073361337184906, 0.10732124745845795, 0.10732333362102509, 0.10732196271419525, 0.10991495847702026, 0.1073213517665863, 0.1073211133480072, 0.10733765363693237, 0.1093115285038948, 0.10733375698328018, 0.16624577343463898, 0.10931689292192459, 29.284610748291016, 47.70940399169922, 3.5799880027770996, 3.7385475635528564, 4.535189151763916, 1.5514819622039795, 2.086872100830078, 2.462301254272461, 0.14695999026298523, 0.11121805757284164, 0.42012882232666016, 0.09722649306058884, 0.10222550481557846, 0.09722643345594406, 0.09902963787317276, 0.09723111242055893, 0.20470543205738068, 0.09722785651683807, 0.09723367542028427, 0.10429471731185913, 0.09722746163606644, 0.09923065453767776, 0.09723471850156784, 0.34333136677742004, 0.16633975505828857, 0.09723367542028427, 0.12916535139083862, 0.10428227484226227, 16.656414031982422, 12.697029113769531, 11.237272262573242, 6.84241247177124, 24.298965454101562, 9.073057174682617, 3.0579946041107178, 0.23771391808986664, 0.25531473755836487, 0.21509481966495514, 0.10048011690378189, 0.09865040332078934, 0.09865795820951462, 0.09865367412567139, 0.09865786135196686, 0.09865443408489227, 0.09865029156208038, 0.09865482896566391, 0.09865827858448029, 0.17409898340702057, 0.10469447076320648, 0.10048005729913712, 0.10189902037382126, 0.10227782279253006, 0.10118408501148224, 0.09867092221975327, 0.10066797584295273, 0.10175847262144089, 13.785929679870605, 11.99638557434082, 25.121252059936523, 9.637377738952637, 10.783550262451172, 6.8654584884643555, 14.661297798156738, 2.0658066272735596, 3.048198699951172, 1.0054911375045776, 2.341256856918335, 0.8952141404151917, 1.8072476387023926, 1.16801917552948, 0.10016016662120819, 0.1088423803448677, 0.10111868381500244, 0.09833503514528275, 0.10043474286794662, 0.10041336715221405, 0.10015769302845001, 0.09833677858114243, 0.098343126475811, 0.10039704293012619, 0.09833388775587082, 0.09834308922290802, 0.11045960336923599, 0.10200797766447067, 21.918216705322266, 7.274129390716553, 8.912538528442383, 3.320826292037964, 3.2512104511260986, 3.1874945163726807, 0.13545182347297668, 0.1377304494380951, 0.10525703430175781, 0.10525713860988617, 0.10789349675178528, 0.10525701195001602, 0.10634902119636536, 0.10726701468229294, 0.10527117550373077, 0.1052568256855011, 0.43198278546333313, 0.10525711625814438, 0.1052570715546608, 0.10756959021091461, 0.1052575632929802, 0.12255152314901352, 0.10525699704885483, 0.10729856789112091, 0.10993879288434982, 0.11111436039209366, 0.1072794497013092, 0.11213166266679764, 29.168500900268555, 11.40929126739502, 19.824974060058594, 9.923030853271484, 4.974272727966309, 16.90993309020996, 3.6696081161499023, 5.374105453491211, 4.256643295288086, 1.3929119110107422, 0.4039536118507385, 0.4473375082015991, 0.13683079183101654, 0.1156037449836731, 0.10049433261156082, 0.10242830216884613, 0.10353853553533554, 0.10415418446063995, 0.10463766008615494, 0.10469093173742294, 0.1004996970295906, 0.10634112358093262, 0.09866464138031006, 0.10288083553314209, 0.10235931724309921, 0.10774823278188705, 0.1376766562461853, 0.10364282131195068, 26.16790199279785, 7.769834995269775, 14.22181224822998, 5.594837188720703, 23.959291458129883, 6.456378936767578, 6.409153461456299, 9.283909797668457, 2.1888062953948975, 1.5093135833740234, 1.5072344541549683, 0.2683210074901581, 0.1889502853155136, 0.13678105175495148, 0.09698463976383209, 0.09398649632930756, 0.09545449167490005, 0.09555495530366898, 0.09204505383968353, 0.0920422226190567, 0.09204229712486267, 0.0920405462384224, 0.09390123933553696, 0.09204123169183731, 0.10544658452272415, 0.09853003174066544, 0.09374748170375824, 0.09764601290225983, 25.65203094482422, 19.31121826171875, 5.845174789428711, 2.9621622562408447, 13.600146293640137, 7.678905963897705, 4.441965103149414, 2.937025785446167, 10.99490737915039, 0.14884181320667267, 0.09476001560688019, 0.10177765041589737, 0.10657913237810135, 0.0947486013174057, 0.09474880248308182, 0.09650590270757675, 0.09650576859712601, 0.09474854916334152, 0.09474840760231018, 0.09826334565877914, 0.09475114941596985, 0.10030768811702728, 0.09474854916334152, 0.10002050548791885, 0.12461010366678238, 0.10383843630552292, 0.09474879503250122, 0.11065366119146347, 22.17647933959961, 14.5995454788208, 5.123518466949463, 18.790775299072266, 2.1735873222351074, 4.130223751068115, 1.0695953369140625, 2.1032874584198, 0.09904693812131882, 0.0991295725107193, 0.10511834174394608, 0.09724656492471695, 0.1141488179564476, 0.09724704176187515, 0.10115281492471695, 0.09724915772676468, 0.09904711693525314, 0.09724345058202744, 0.10178837925195694, 0.09724347293376923, 0.18921270966529846, 0.10357622802257538, 0.09724338352680206, 0.1000419333577156, 0.10958254337310791, 0.09725908935070038, 0.09921357035636902, 0.10007179528474808, 19.092586517333984, 11.412579536437988, 9.873536109924316, 7.099282264709473, 4.313568592071533, 18.711702346801758, 6.438436985015869, 0.0887918695807457, 0.08999264240264893, 0.0933610126376152, 0.08714824914932251, 0.08715005964040756, 0.08985596895217896, 0.08714625984430313, 0.08714905381202698, 0.08714623749256134, 0.087147057056427, 0.0871553048491478, 0.08714646100997925, 0.14093834161758423, 0.09037888050079346, 0.08882278949022293, 0.08923041075468063, 0.08890575915575027, 0.08986765146255493, 0.0914137214422226, 0.08884225785732269, 0.0890585258603096], \"Term\": [\"safety\", \"treatment\", \"combination\", \"profile\", \"data\", \"subject\", \"ctp10\", \"study\", \"product\", \"week\", \"efficacy\", \"observed\", \"compared\", \"patient\", \"provided\", \"chmp\", \"rate\", \"difference\", \"result\", \"effect\", \"support\", \"reference\", \"bioequivalence\", \"additional\", \"considered\", \"based\", \"clinical\", \"overall\", \"provided\", \"chmp\", \"additional\", \"product\", \"clinical\", \"reference\", \"efficacy\", \"data\", \"safety\", \"study\", \"observed\", \"overall\", \"subject\", \"profile\", \"combination\", \"based\", \"bioequivalence\", \"effect\", \"rate\", \"compared\", \"week\", \"difference\", \"result\", \"support\", \"ctp10\", \"considered\", \"patient\", \"treatment\", \"profile\", \"safety\", \"overall\", \"additional\", \"considered\", \"based\", \"support\", \"clinical\", \"combination\", \"chmp\", \"data\", \"provided\", \"observed\", \"bioequivalence\", \"compared\", \"effect\", \"treatment\", \"rate\", \"reference\", \"week\", \"difference\", \"result\", \"subject\", \"study\", \"patient\", \"ctp10\", \"efficacy\", \"product\", \"observed\", \"rate\", \"support\", \"effect\", \"data\", \"clinical\", \"difference\", \"week\", \"combination\", \"subject\", \"based\", \"provided\", \"bioequivalence\", \"chmp\", \"overall\", \"compared\", \"reference\", \"result\", \"additional\", \"efficacy\", \"considered\", \"ctp10\", \"profile\", \"treatment\", \"product\", \"patient\", \"safety\", \"study\", \"reference\", \"bioequivalence\", \"product\", \"overall\", \"considered\", \"clinical\", \"study\", \"based\", \"ctp10\", \"effect\", \"safety\", \"profile\", \"data\", \"patient\", \"provided\", \"compared\", \"chmp\", \"observed\", \"rate\", \"difference\", \"week\", \"result\", \"additional\", \"support\", \"combination\", \"subject\", \"treatment\", \"efficacy\", \"combination\", \"difference\", \"treatment\", \"compared\", \"patient\", \"study\", \"based\", \"week\", \"provided\", \"bioequivalence\", \"observed\", \"chmp\", \"effect\", \"overall\", \"rate\", \"reference\", \"safety\", \"result\", \"additional\", \"support\", \"subject\", \"profile\", \"ctp10\", \"considered\", \"clinical\", \"product\", \"efficacy\", \"data\", \"treatment\", \"based\", \"patient\", \"considered\", \"chmp\", \"data\", \"overall\", \"efficacy\", \"clinical\", \"support\", \"provided\", \"additional\", \"rate\", \"compared\", \"bioequivalence\", \"observed\", \"effect\", \"reference\", \"week\", \"result\", \"difference\", \"subject\", \"combination\", \"ctp10\", \"profile\", \"product\", \"study\", \"safety\", \"efficacy\", \"support\", \"patient\", \"result\", \"study\", \"clinical\", \"product\", \"safety\", \"additional\", \"reference\", \"data\", \"chmp\", \"provided\", \"bioequivalence\", \"based\", \"observed\", \"effect\", \"overall\", \"rate\", \"compared\", \"week\", \"difference\", \"subject\", \"combination\", \"ctp10\", \"considered\", \"profile\", \"treatment\", \"ctp10\", \"data\", \"additional\", \"provided\", \"safety\", \"efficacy\", \"considered\", \"result\", \"study\", \"subject\", \"based\", \"observed\", \"rate\", \"bioequivalence\", \"chmp\", \"effect\", \"compared\", \"overall\", \"reference\", \"difference\", \"week\", \"combination\", \"support\", \"profile\", \"treatment\", \"clinical\", \"product\", \"patient\", \"subject\", \"compared\", \"rate\", \"study\", \"difference\", \"patient\", \"overall\", \"clinical\", \"based\", \"provided\", \"chmp\", \"bioequivalence\", \"result\", \"observed\", \"reference\", \"effect\", \"week\", \"additional\", \"support\", \"combination\", \"efficacy\", \"considered\", \"ctp10\", \"profile\", \"product\", \"treatment\", \"data\", \"safety\", \"week\", \"result\", \"effect\", \"difference\", \"bioequivalence\", \"study\", \"patient\", \"based\", \"provided\", \"rate\", \"chmp\", \"observed\", \"reference\", \"overall\", \"compared\", \"additional\", \"combination\", \"support\", \"subject\", \"product\", \"ctp10\", \"considered\", \"profile\", \"clinical\", \"treatment\", \"efficacy\", \"data\", \"safety\"], \"Total\": [79.0, 39.0, 23.0, 31.0, 69.0, 23.0, 29.0, 94.0, 39.0, 20.0, 45.0, 17.0, 18.0, 49.0, 16.0, 17.0, 18.0, 20.0, 20.0, 18.0, 23.0, 18.0, 17.0, 21.0, 30.0, 15.0, 38.0, 18.0, 16.650367736816406, 17.688392639160156, 21.99418830871582, 39.48036575317383, 38.474674224853516, 18.80656623840332, 45.59817886352539, 69.52385711669922, 79.43220520019531, 94.14569091796875, 17.763700485229492, 18.646242141723633, 23.35386085510254, 31.140127182006836, 23.066579818725586, 15.749423027038574, 17.147701263427734, 18.42508888244629, 18.659618377685547, 18.725521087646484, 20.172876358032227, 20.200759887695312, 20.672082901000977, 23.085887908935547, 29.50846290588379, 30.293991088867188, 49.57658767700195, 39.017181396484375, 31.140127182006836, 79.43220520019531, 18.646242141723633, 21.99418830871582, 30.293991088867188, 15.749423027038574, 23.085887908935547, 38.474674224853516, 23.066579818725586, 17.688392639160156, 69.52385711669922, 16.650367736816406, 17.763700485229492, 17.147701263427734, 18.725521087646484, 18.42508888244629, 39.017181396484375, 18.659618377685547, 18.80656623840332, 20.172876358032227, 20.200759887695312, 20.672082901000977, 23.35386085510254, 94.14569091796875, 49.57658767700195, 29.50846290588379, 45.59817886352539, 39.48036575317383, 17.763700485229492, 18.659618377685547, 23.085887908935547, 18.42508888244629, 69.52385711669922, 38.474674224853516, 20.200759887695312, 20.172876358032227, 23.066579818725586, 23.35386085510254, 15.749423027038574, 16.650367736816406, 17.147701263427734, 17.688392639160156, 18.646242141723633, 18.725521087646484, 18.80656623840332, 20.672082901000977, 21.99418830871582, 45.59817886352539, 30.293991088867188, 29.50846290588379, 31.140127182006836, 39.017181396484375, 39.48036575317383, 49.57658767700195, 79.43220520019531, 94.14569091796875, 18.80656623840332, 17.147701263427734, 39.48036575317383, 18.646242141723633, 30.293991088867188, 38.474674224853516, 94.14569091796875, 15.749423027038574, 29.50846290588379, 18.42508888244629, 79.43220520019531, 31.140127182006836, 69.52385711669922, 49.57658767700195, 16.650367736816406, 18.725521087646484, 17.688392639160156, 17.763700485229492, 18.659618377685547, 20.200759887695312, 20.172876358032227, 20.672082901000977, 21.99418830871582, 23.085887908935547, 23.066579818725586, 23.35386085510254, 39.017181396484375, 45.59817886352539, 23.066579818725586, 20.200759887695312, 39.017181396484375, 18.725521087646484, 49.57658767700195, 94.14569091796875, 15.749423027038574, 20.172876358032227, 16.650367736816406, 17.147701263427734, 17.763700485229492, 17.688392639160156, 18.42508888244629, 18.646242141723633, 18.659618377685547, 18.80656623840332, 79.43220520019531, 20.672082901000977, 21.99418830871582, 23.085887908935547, 23.35386085510254, 31.140127182006836, 29.50846290588379, 30.293991088867188, 38.474674224853516, 39.48036575317383, 45.59817886352539, 69.52385711669922, 39.017181396484375, 15.749423027038574, 49.57658767700195, 30.293991088867188, 17.688392639160156, 69.52385711669922, 18.646242141723633, 45.59817886352539, 38.474674224853516, 23.085887908935547, 16.650367736816406, 21.99418830871582, 18.659618377685547, 18.725521087646484, 17.147701263427734, 17.763700485229492, 18.42508888244629, 18.80656623840332, 20.172876358032227, 20.672082901000977, 20.200759887695312, 23.35386085510254, 23.066579818725586, 29.50846290588379, 31.140127182006836, 39.48036575317383, 94.14569091796875, 79.43220520019531, 45.59817886352539, 23.085887908935547, 49.57658767700195, 20.672082901000977, 94.14569091796875, 38.474674224853516, 39.48036575317383, 79.43220520019531, 21.99418830871582, 18.80656623840332, 69.52385711669922, 17.688392639160156, 16.650367736816406, 17.147701263427734, 15.749423027038574, 17.763700485229492, 18.42508888244629, 18.646242141723633, 18.659618377685547, 18.725521087646484, 20.172876358032227, 20.200759887695312, 23.35386085510254, 23.066579818725586, 29.50846290588379, 30.293991088867188, 31.140127182006836, 39.017181396484375, 29.50846290588379, 69.52385711669922, 21.99418830871582, 16.650367736816406, 79.43220520019531, 45.59817886352539, 30.293991088867188, 20.672082901000977, 94.14569091796875, 23.35386085510254, 15.749423027038574, 17.763700485229492, 18.659618377685547, 17.147701263427734, 17.688392639160156, 18.42508888244629, 18.725521087646484, 18.646242141723633, 18.80656623840332, 20.200759887695312, 20.172876358032227, 23.066579818725586, 23.085887908935547, 31.140127182006836, 39.017181396484375, 38.474674224853516, 39.48036575317383, 49.57658767700195, 23.35386085510254, 18.725521087646484, 18.659618377685547, 94.14569091796875, 20.200759887695312, 49.57658767700195, 18.646242141723633, 38.474674224853516, 15.749423027038574, 16.650367736816406, 17.688392639160156, 17.147701263427734, 20.672082901000977, 17.763700485229492, 18.80656623840332, 18.42508888244629, 20.172876358032227, 21.99418830871582, 23.085887908935547, 23.066579818725586, 45.59817886352539, 30.293991088867188, 29.50846290588379, 31.140127182006836, 39.48036575317383, 39.017181396484375, 69.52385711669922, 79.43220520019531, 20.172876358032227, 20.672082901000977, 18.42508888244629, 20.200759887695312, 17.147701263427734, 94.14569091796875, 49.57658767700195, 15.749423027038574, 16.650367736816406, 18.659618377685547, 17.688392639160156, 17.763700485229492, 18.80656623840332, 18.646242141723633, 18.725521087646484, 21.99418830871582, 23.066579818725586, 23.085887908935547, 23.35386085510254, 39.48036575317383, 29.50846290588379, 30.293991088867188, 31.140127182006836, 38.474674224853516, 39.017181396484375, 45.59817886352539, 69.52385711669922, 79.43220520019531], \"loglift\": [28.0, 27.0, 26.0, 25.0, 24.0, 23.0, 22.0, 21.0, 20.0, 19.0, 18.0, 17.0, 16.0, 15.0, 14.0, 13.0, 12.0, 11.0, 10.0, 9.0, 8.0, 7.0, 6.0, 5.0, 4.0, 3.0, 2.0, 1.0, 2.205199956893921, 2.0817999839782715, 1.6294000148773193, 0.7870000004768372, 0.7809000015258789, 0.5940999984741211, 0.39149999618530273, -0.1469999998807907, -0.14790000021457672, -0.8723999857902527, -1.5369000434875488, -2.0125999450683594, -2.1500000953674316, -2.3315000534057617, -2.405100107192993, -2.4972000122070312, -2.582200050354004, -2.6542000770568848, -2.666800022125244, -2.670300006866455, -2.720900058746338, -2.7462000846862793, -2.769200086593628, -2.879499912261963, -3.1066999435424805, -3.1512999534606934, -3.2063000202178955, -3.385999917984009, 2.1326000690460205, 1.6842000484466553, 0.5436999797821045, 0.4219000041484833, 0.29490000009536743, -0.12359999865293503, -0.2094999998807907, -0.5548999905586243, -2.861999988555908, -2.875200033187866, -2.914799928665161, -2.9491000175476074, -2.96370005607605, -2.978600025177002, -3.0481998920440674, -3.0504000186920166, -3.0562000274658203, -3.062999963760376, -3.0708000659942627, -3.0708999633789062, -3.142400026321411, -3.1451001167297363, -3.287400007247925, -3.4198999404907227, -3.503200054168701, -3.5213000774383545, -3.672499895095825, -3.7423999309539795, 2.2525999546051025, 1.9320000410079956, 1.597000002861023, 1.3264000415802002, 1.2656999826431274, 0.8723000288009644, 0.42899999022483826, -2.124000072479248, -2.1867001056671143, -2.370500087738037, -2.737600088119507, -2.8115999698638916, -2.8410000801086426, -2.8721001148223877, -2.924799919128418, -2.928999900817871, -2.9333999156951904, -3.027899980545044, -3.089900016784668, -3.250999927520752, -3.3506999015808105, -3.365499973297119, -3.4052999019622803, -3.6270999908447266, -3.649600028991699, -3.9024999141693115, -4.353899955749512, -4.513000011444092, 1.7969000339508057, 1.7502000331878662, 1.655400037765503, 1.4473999738693237, 1.0744999647140503, 0.383899986743927, 0.24779999256134033, 0.07620000094175339, -0.16269999742507935, -0.8008000254631042, -1.4168000221252441, -1.4416999816894531, -1.5424000024795532, -1.6407999992370605, -3.00600004196167, -3.040299892425537, -3.0569000244140625, -3.089099884033203, -3.1171998977661133, -3.196700096130371, -3.1979000568389893, -3.2407000064849854, -3.3025999069213867, -3.330399990081787, -3.3503000736236572, -3.362600088119507, -3.759700059890747, -3.9951000213623047, 2.8011999130249023, 1.8308000564575195, 1.3756999969482422, 1.1225999593734741, 0.12770000100135803, -0.5333999991416931, -1.9036999940872192, -2.1345999240875244, -2.2114999294281006, -2.240999937057495, -2.251499891281128, -2.2720000743865967, -2.302500009536743, -2.305799961090088, -2.3252999782562256, -2.3333001136779785, -2.361999988555908, -2.4279000759124756, -2.4899001121520996, -2.5165998935699463, -2.5499000549316406, -2.685499906539917, -2.783799886703491, -2.7908999919891357, -3.0055999755859375, -3.0208001136779785, -3.200000047683716, -3.577500104904175, 1.7898000478744507, 1.7582999467849731, 1.1641000509262085, 0.9646000266075134, 0.8120999932289124, 0.6668999791145325, 0.45509999990463257, -0.0575999990105629, -0.12080000340938568, -0.7271000146865845, -1.638200044631958, -1.8144999742507935, -2.834700107574463, -3.0067999362945557, -3.058799982070923, -3.075000047683716, -3.100800037384033, -3.1154000759124756, -3.1809000968933105, -3.2047998905181885, -3.222599983215332, -3.311199903488159, -3.373699903488159, -3.578200101852417, -3.6370999813079834, -3.8231000900268555, -4.447000026702881, -4.560999870300293, 1.5484000444412231, 1.014799952507019, 0.8550000190734863, 0.7968000173568726, 0.7351999878883362, 0.3188000023365021, 0.2856999933719635, -0.042899999767541885, -0.2037000060081482, -0.4187999963760376, -1.7276999950408936, -2.084700107574463, -2.375, -2.7274999618530273, -2.986299991607666, -3.138000011444092, -3.15910005569458, -3.1700000762939453, -3.2081000804901123, -3.211699962615967, -3.286099910736084, -3.2874999046325684, -3.4124999046325684, -3.4202001094818115, -3.5304999351501465, -3.6245999336242676, -3.701900005340576, -3.886699914932251, 2.078700065612793, 0.9377999901771545, 0.8935999870300293, 0.49219998717308044, 0.453900009393692, 0.4374000132083893, 0.2989000082015991, 0.26739999651908875, 0.07129999995231628, -2.836899995803833, -2.8945000171661377, -2.9433999061584473, -2.946500062942505, -2.979599952697754, -3.010699987411499, -3.033099889755249, -3.049299955368042, -3.0634000301361084, -3.072000026702881, -3.107100009918213, -3.1421000957489014, -3.219099998474121, -3.2769999504089355, -3.5220999717712402, -3.5278000831604004, -3.696199893951416, -3.8136000633239746, -3.8861000537872314, 2.4444000720977783, 2.2472000122070312, 1.2036000490188599, 0.8845999836921692, 0.2667999863624573, 0.010900000110268593, -0.36230000853538513, -0.41040000319480896, -2.5729000568389893, -2.6275999546051025, -2.629499912261963, -2.676300048828125, -2.702899932861328, -2.7114999294281006, -2.7291998863220215, -2.7481000423431396, -2.8203999996185303, -2.9251999855041504, -2.927999973297119, -2.9728000164031982, -2.988600015640259, -3.182300090789795, -3.219099998474121, -3.244499921798706, -3.3907999992370605, -3.498300075531006, -4.056000232696533, -4.180699825286865, 2.353800058364868, 1.8148000240325928, 1.784999966621399, 1.3631000518798828, 1.0288000106811523, 0.7932000160217285, 0.3675999939441681, -2.769399881362915, -2.8115999698638916, -2.8887999057769775, -2.9042000770568848, -2.908400058746338, -2.9349000453948975, -2.9570000171661377, -2.961199998855591, -3.1221001148223877, -3.1696999073028564, -3.1703999042510986, -3.1821000576019287, -3.2263998985290527, -3.3796000480651855, -3.4231998920440674, -3.446199893951416, -3.66129994392395, -3.664599895477295, -3.8034000396728516, -4.253699779510498, -4.384500026702881], \"logprob\": [28.0, 27.0, 26.0, 25.0, 24.0, 23.0, 22.0, 21.0, 20.0, 19.0, 18.0, 17.0, 16.0, 15.0, 14.0, 13.0, 12.0, 11.0, 10.0, 9.0, 8.0, 7.0, 6.0, 5.0, 4.0, 3.0, 2.0, 1.0, -1.7589000463485718, -1.8217999935150146, -2.056299924850464, -2.313699960708618, -2.345599889755249, -3.248199939727783, -2.5650999546051025, -2.68179988861084, -2.549499988555908, -3.104099988937378, -5.436299800872803, -5.863500118255615, -5.775700092315674, -5.66949987411499, -6.043300151824951, -6.516900062561035, -6.5167999267578125, -6.517000198364258, -6.516900062561035, -6.516900062561035, -6.493100166320801, -6.517000198364258, -6.517000198364258, -6.5167999267578125, -6.498600006103516, -6.5167999267578125, -6.0792999267578125, -6.498499870300293, -1.205399990081787, -0.7174000144004822, -3.3071000576019287, -3.2637999057769775, -3.0706000328063965, -4.1433000564575195, -3.8468000888824463, -3.6814000606536865, -6.500100135803223, -6.77869987487793, -5.449699878692627, -6.9131999015808105, -6.863100051879883, -6.9131999015808105, -6.894800186157227, -6.9131999015808105, -6.168700218200684, -6.9131999015808105, -6.913099765777588, -6.8429999351501465, -6.9131999015808105, -6.8927998542785645, -6.913099765777588, -5.651500225067139, -6.376200199127197, -6.913099765777588, -6.6290998458862305, -6.843100070953369, -1.6467000246047974, -1.9182000160217285, -2.040299892425537, -2.536400079727173, -1.2690999507904053, -2.254199981689453, -3.3417999744415283, -5.896200180053711, -5.82480001449585, -5.996200084686279, -6.757299900054932, -6.775700092315674, -6.775599956512451, -6.775700092315674, -6.775599956512451, -6.775700092315674, -6.775700092315674, -6.775700092315674, -6.775599956512451, -6.207699775695801, -6.71619987487793, -6.757299900054932, -6.743299961090088, -6.73960018157959, -6.75029993057251, -6.7754998207092285, -6.755499839782715, -6.744699954986572, -2.0453999042510986, -2.184499979019165, -1.4453999996185303, -2.40339994430542, -2.2909998893737793, -2.7425999641418457, -1.9838999509811401, -3.94350004196167, -3.554500102996826, -4.663599967956543, -3.8183999061584473, -4.779799938201904, -4.077300071716309, -4.513800144195557, -6.970099925994873, -6.886899948120117, -6.9604997634887695, -6.988399982452393, -6.967299938201904, -6.96750020980835, -6.970099925994873, -6.988399982452393, -6.988399982452393, -6.967700004577637, -6.988500118255615, -6.988399982452393, -6.872200012207031, -6.9517998695373535, -0.8370000123977661, -1.9399000406265259, -1.736799955368042, -2.724100112915039, -2.7451999187469482, -2.765000104904175, -5.923399925231934, -5.906700134277344, -6.175600051879883, -6.175600051879883, -6.150899887084961, -6.175600051879883, -6.165299892425537, -6.156700134277344, -6.17549991607666, -6.175600051879883, -4.763599872589111, -6.175600051879883, -6.175600051879883, -6.153900146484375, -6.175600051879883, -6.023499965667725, -6.175600051879883, -6.156400203704834, -6.1321001052856445, -6.121500015258789, -6.156599998474121, -6.112400054931641, -1.322700023651123, -2.261399984359741, -1.708899974822998, -2.400899887084961, -3.0915000438690186, -1.867900013923645, -3.395699977874756, -3.01419997215271, -3.247299909591675, -4.3643999099731445, -5.60230016708374, -5.500199794769287, -6.684800148010254, -6.853400230407715, -6.993500232696533, -6.974400043487549, -6.963600158691406, -6.957699775695801, -6.953100204467773, -6.952499866485596, -6.9934000968933105, -6.9369001388549805, -7.0117998123168945, -6.96999979019165, -6.975100040435791, -6.923799991607666, -6.678699970245361, -6.962600231170654, -1.4082000255584717, -2.622499942779541, -2.0179998874664307, -2.950900077819824, -1.496399998664856, -2.8076999187469482, -2.815000057220459, -2.444499969482422, -3.889400005340576, -4.261099815368652, -4.262499809265137, -5.98829984664917, -6.339000225067139, -6.662099838256836, -7.00600004196167, -7.037399768829346, -7.021900177001953, -7.0208001136779785, -7.058199882507324, -7.058300018310547, -7.058300018310547, -7.058300018310547, -7.038300037384033, -7.058300018310547, -6.922299861907959, -6.990200042724609, -7.039899826049805, -6.999199867248535, -1.313099980354309, -1.597100019454956, -2.792099952697754, -3.4718000888824463, -1.947700023651123, -2.5192999839782715, -3.066699981689453, -3.4804000854492188, -2.1603000164031982, -6.462600231170654, -6.9141998291015625, -6.842700004577637, -6.796599864959717, -6.914299964904785, -6.914299964904785, -6.895899772644043, -6.895899772644043, -6.914299964904785, -6.914299964904785, -6.877900123596191, -6.914299964904785, -6.8572998046875, -6.914299964904785, -6.860099792480469, -6.6402997970581055, -6.822700023651123, -6.914299964904785, -6.759099960327148, -1.181399941444397, -1.5994000434875488, -2.6466000080108643, -1.347000002861023, -3.503999948501587, -2.8620998859405518, -4.213099956512451, -3.536900043487549, -6.592599868774414, -6.591700077056885, -6.533100128173828, -6.610899925231934, -6.4506001472473145, -6.610899925231934, -6.571499824523926, -6.610899925231934, -6.592599868774414, -6.610899925231934, -6.565299987792969, -6.610899925231934, -5.945300102233887, -6.547800064086914, -6.610899925231934, -6.582600116729736, -6.491499900817871, -6.610799789428711, -6.59089994430542, -6.582300186157227, -1.4184000492095947, -1.9328999519348145, -2.0778000354766846, -2.4077000617980957, -2.905900001525879, -1.4385000467300415, -2.5053999423980713, -6.789100170135498, -6.775700092315674, -6.738900184631348, -6.807799816131592, -6.807799816131592, -6.777200222015381, -6.807799816131592, -6.807799816131592, -6.807799816131592, -6.807799816131592, -6.807700157165527, -6.807799816131592, -6.327099800109863, -6.771399974822998, -6.78879976272583, -6.784200191497803, -6.787799835205078, -6.777100086212158, -6.760000228881836, -6.78849983215332, -6.786099910736084]}, \"token.table\": {\"Topic\": [1, 2, 7, 8, 2, 4, 6, 4, 10, 1, 6, 1, 2, 3, 4, 6, 7, 9, 5, 5, 9, 2, 4, 6, 8, 4, 8, 1, 3, 4, 6, 7, 8, 3, 5, 9, 10, 3, 4, 10, 1, 6, 7, 8, 3, 2, 4, 6, 9, 4, 5, 6, 7, 9, 10, 1, 4, 7, 2, 4, 1, 8, 3, 9, 1, 4, 7, 7, 8, 10, 1, 2, 4, 7, 8, 1, 4, 5, 7, 8, 9, 10, 9, 2, 3, 6, 7, 5, 6, 10], \"Freq\": [0.4091989994049072, 0.18186622858047485, 0.09093311429023743, 0.2727993428707123, 0.12698878347873688, 0.12698878347873688, 0.698438286781311, 0.6998022794723511, 0.2332674115896225, 0.6784110069274902, 0.2826712429523468, 0.18193785846233368, 0.051982246339321136, 0.2339201122522354, 0.18193785846233368, 0.10396449267864227, 0.155946746468544, 0.051982246339321136, 0.9537608027458191, 0.16020916402339935, 0.8010457754135132, 0.1650492399930954, 0.3631083071231842, 0.3300984799861908, 0.1320393830537796, 0.10166575014591217, 0.8811031579971313, 0.07191775739192963, 0.34520524740219116, 0.02876710332930088, 0.2445203810930252, 0.02876710332930088, 0.27328747510910034, 0.14850926399230957, 0.34652161598205566, 0.09900617599487305, 0.34652161598205566, 0.3799167573451996, 0.054273821413517, 0.5427381992340088, 0.13158419728279114, 0.10965350270271301, 0.5701982378959656, 0.17544560134410858, 0.9570078253746033, 0.2145204395055771, 0.5363010764122009, 0.2145204395055771, 0.05363010987639427, 0.02017081156373024, 0.06051243469119072, 0.4034162163734436, 0.28239136934280396, 0.08068324625492096, 0.12102486938238144, 0.17730332911014557, 0.6332261562347412, 0.15197427570819855, 0.9312742948532104, 0.032112907618284225, 0.7807635068893433, 0.18017619848251343, 0.696691632270813, 0.26795831322669983, 0.1595187485218048, 0.7444208264350891, 0.10634583234786987, 0.29024651646614075, 0.14512325823307037, 0.5321186184883118, 0.07553610950708389, 0.6042888760566711, 0.025178704410791397, 0.11330416798591614, 0.17625093460083008, 0.03186550363898277, 0.15932752192020416, 0.03186550363898277, 0.2549240291118622, 0.1168401837348938, 0.20181486010551453, 0.20181486010551453, 0.9420284032821655, 0.08663301169872284, 0.476481556892395, 0.04331650584936142, 0.34653204679489136, 0.2306676059961319, 0.7432622909545898, 0.9418587684631348], \"Term\": [\"additional\", \"additional\", \"additional\", \"additional\", \"based\", \"based\", \"based\", \"bioequivalence\", \"bioequivalence\", \"chmp\", \"chmp\", \"clinical\", \"clinical\", \"clinical\", \"clinical\", \"clinical\", \"clinical\", \"clinical\", \"combination\", \"compared\", \"compared\", \"considered\", \"considered\", \"considered\", \"considered\", \"ctp10\", \"ctp10\", \"data\", \"data\", \"data\", \"data\", \"data\", \"data\", \"difference\", \"difference\", \"difference\", \"difference\", \"effect\", \"effect\", \"effect\", \"efficacy\", \"efficacy\", \"efficacy\", \"efficacy\", \"observed\", \"overall\", \"overall\", \"overall\", \"overall\", \"patient\", \"patient\", \"patient\", \"patient\", \"patient\", \"patient\", \"product\", \"product\", \"product\", \"profile\", \"profile\", \"provided\", \"provided\", \"rate\", \"rate\", \"reference\", \"reference\", \"reference\", \"result\", \"result\", \"result\", \"safety\", \"safety\", \"safety\", \"safety\", \"safety\", \"study\", \"study\", \"study\", \"study\", \"study\", \"study\", \"study\", \"subject\", \"support\", \"support\", \"support\", \"support\", \"treatment\", \"treatment\", \"week\"]}, \"R\": 28, \"lambda.step\": 0.01, \"plot.opts\": {\"xlab\": \"PC1\", \"ylab\": \"PC2\"}, \"topic.order\": [1, 2, 3, 4, 5, 6, 7, 8, 9, 10]};\n",
       "\n",
       "function LDAvis_load_lib(url, callback){\n",
       "  var s = document.createElement('script');\n",
       "  s.src = url;\n",
       "  s.async = true;\n",
       "  s.onreadystatechange = s.onload = callback;\n",
       "  s.onerror = function(){console.warn(\"failed to load library \" + url);};\n",
       "  document.getElementsByTagName(\"head\")[0].appendChild(s);\n",
       "}\n",
       "\n",
       "if(typeof(LDAvis) !== \"undefined\"){\n",
       "   // already loaded: just create the visualization\n",
       "   !function(LDAvis){\n",
       "       new LDAvis(\"#\" + \"ldavis_el565484236564483834751900\", ldavis_el565484236564483834751900_data);\n",
       "   }(LDAvis);\n",
       "}else if(typeof define === \"function\" && define.amd){\n",
       "   // require.js is available: use it to load d3/LDAvis\n",
       "   require.config({paths: {d3: \"https://cdnjs.cloudflare.com/ajax/libs/d3/3.5.5/d3.min\"}});\n",
       "   require([\"d3\"], function(d3){\n",
       "      window.d3 = d3;\n",
       "      LDAvis_load_lib(\"https://cdn.rawgit.com/bmabey/pyLDAvis/files/ldavis.v1.0.0.js\", function(){\n",
       "        new LDAvis(\"#\" + \"ldavis_el565484236564483834751900\", ldavis_el565484236564483834751900_data);\n",
       "      });\n",
       "    });\n",
       "}else{\n",
       "    // require.js not available: dynamically load d3 & LDAvis\n",
       "    LDAvis_load_lib(\"https://cdnjs.cloudflare.com/ajax/libs/d3/3.5.5/d3.min.js\", function(){\n",
       "         LDAvis_load_lib(\"https://cdn.rawgit.com/bmabey/pyLDAvis/files/ldavis.v1.0.0.js\", function(){\n",
       "                 new LDAvis(\"#\" + \"ldavis_el565484236564483834751900\", ldavis_el565484236564483834751900_data);\n",
       "            })\n",
       "         });\n",
       "}\n",
       "</script>"
      ],
      "text/plain": [
       "<IPython.core.display.HTML object>"
      ]
     },
     "execution_count": 221,
     "metadata": {},
     "output_type": "execute_result"
    }
   ],
   "source": [
    "dictionary = gensim.corpora.Dictionary.load('dictionary.gensim')\n",
    "corpus_yes = pickle.load(open('corpus.pkl', 'rb'))\n",
    "lda = gensim.models.ldamodel.LdaModel.load('model5.gensim')\n",
    "lda_display = pyLDAvis.gensim.prepare(lda, corpus_yes, dictionary, sort_topics=False)\n",
    "pyLDAvis.display(lda_display)"
   ]
  },
  {
   "cell_type": "markdown",
   "metadata": {},
   "source": [
    "## Model training"
   ]
  },
  {
   "cell_type": "markdown",
   "metadata": {},
   "source": [
    "We will train different models (later some NN architectures):\n",
    "    Logistic Regression, Multinomial Naive Bayes, Linear SVC, AdaBoost Classifier and Extreme Gradien Boosting Classifier (the two last ones with hypermarameter tuning).\n",
    " We use 5 fold cross validation."
   ]
  },
  {
   "cell_type": "code",
   "execution_count": 227,
   "metadata": {},
   "outputs": [],
   "source": [
    "lr = LogisticRegression(class_weight={0: 6., 1: 3, 2: 1.})\n",
    "nb = naive_bayes.MultinomialNB()\n",
    "svc = LinearSVC(class_weight={0: 5., 1: 2, 2: 1.})\n",
    "\n",
    "from sklearn.model_selection import StratifiedKFold\n",
    "from sklearn.metrics import precision_score, recall_score, f1_score\n",
    "\n",
    "def lr_cv(splits, X, Y, pipeline, average_method):\n",
    "    \n",
    "    kfold = StratifiedKFold(n_splits=splits, shuffle=True, random_state=777)\n",
    "    accuracy = []\n",
    "    precision = []\n",
    "    recall = []\n",
    "    f1 = []\n",
    "    for train, test in kfold.split(X, Y):\n",
    "        classifier_fit = pipeline.fit(X[train], Y[train])\n",
    "        prediction = classifier_fit.predict(X[test])\n",
    "        scores = classifier_fit.score(X[test],Y[test])\n",
    "        \n",
    "        accuracy.append(scores * 100)\n",
    "        precision.append(precision_score(Y[test], prediction, average=average_method)*100)\n",
    "        recall.append(recall_score(Y[test], prediction, average=average_method)*100)\n",
    "        f1.append(f1_score(Y[test], prediction, average=average_method)*100)\n",
    "\n",
    "    print('              negative    neutral     positive')\n",
    "    print('precision:',precision_score(Y[test], prediction, average=None))\n",
    "    print('recall:   ',recall_score(Y[test], prediction, average=None))\n",
    "    print('f1 score: ',f1_score(Y[test], prediction, average=None))\n",
    "    print('-'*50)\n",
    "\n",
    "    print(\"accuracy: %.2f%%\" % (np.mean(accuracy)))\n",
    "    print(\"precision: %.2f%%\" % (np.mean(precision)))\n",
    "    print(\"recall: %.2f%%\" % (np.mean(recall)))\n",
    "    print(\"f1 score: %.2f%%\" % (np.mean(f1)))"
   ]
  },
  {
   "cell_type": "markdown",
   "metadata": {},
   "source": [
    "### Logistic Regression"
   ]
  },
  {
   "cell_type": "code",
   "execution_count": 228,
   "metadata": {},
   "outputs": [
    {
     "name": "stdout",
     "output_type": "stream",
     "text": [
      "              negative    neutral     positive\n",
      "precision: [0.8        0.61538462 0.8       ]\n",
      "recall:    [0.57142857 0.57142857 0.875     ]\n",
      "f1 score:  [0.66666667 0.59259259 0.8358209 ]\n",
      "--------------------------------------------------\n",
      "accuracy: 72.91%\n",
      "precision: 71.43%\n",
      "recall: 62.80%\n",
      "f1 score: 65.40%\n",
      "None\n"
     ]
    }
   ],
   "source": [
    "pipeline1 = Pipeline([\n",
    "    ('feats', FeatureUnion([\n",
    "        ('vectorizer1', tfidf_vect), \n",
    "        ('counter', count_vect),\n",
    "        ('vectorizer2', tfidf_vect_ngram)\n",
    "    ])), \n",
    "    ('classifier', lr)])\n",
    "\n",
    "print(lr_cv(5, df.Sentence, df.Sentiment, pipeline1, 'macro'))\n"
   ]
  },
  {
   "cell_type": "markdown",
   "metadata": {},
   "source": [
    "### Naive Bayes Classifier"
   ]
  },
  {
   "cell_type": "code",
   "execution_count": 229,
   "metadata": {},
   "outputs": [
    {
     "name": "stdout",
     "output_type": "stream",
     "text": [
      "              negative    neutral     positive\n",
      "precision: [0.8        0.75       0.70454545]\n",
      "recall:    [0.57142857 0.21428571 0.96875   ]\n",
      "f1 score:  [0.66666667 0.33333333 0.81578947]\n",
      "--------------------------------------------------\n",
      "accuracy: 71.79%\n",
      "precision: 77.57%\n",
      "recall: 57.53%\n",
      "f1 score: 60.87%\n",
      "None\n"
     ]
    }
   ],
   "source": [
    "pipeline2 = Pipeline([\n",
    "    ('feats', FeatureUnion([\n",
    "        ('vectorizer1', tfidf_vect), \n",
    "        ('counter', count_vect),\n",
    "        ('vectorizer2', tfidf_vect_ngram)\n",
    "    ])), \n",
    "    ('classifier', nb)])\n",
    "\n",
    "print(lr_cv(5, df.Sentence, df.Sentiment, pipeline2, 'macro'))"
   ]
  },
  {
   "cell_type": "markdown",
   "metadata": {},
   "source": [
    "### Support Vector Classifier"
   ]
  },
  {
   "cell_type": "code",
   "execution_count": 230,
   "metadata": {},
   "outputs": [
    {
     "name": "stdout",
     "output_type": "stream",
     "text": [
      "              negative    neutral     positive\n",
      "precision: [0.6        0.63636364 0.75675676]\n",
      "recall:    [0.42857143 0.5        0.875     ]\n",
      "f1 score:  [0.5       0.56      0.8115942]\n",
      "--------------------------------------------------\n",
      "accuracy: 72.53%\n",
      "precision: 71.77%\n",
      "recall: 61.37%\n",
      "f1 score: 64.12%\n",
      "None\n"
     ]
    }
   ],
   "source": [
    "pipeline3 = Pipeline([\n",
    "    ('feats', FeatureUnion([\n",
    "        ('vectorizer1', tfidf_vect), \n",
    "        ('counter', count_vect),\n",
    "        ('vectorizer2', tfidf_vect_ngram)\n",
    "    ])), \n",
    "    ('classifier', svc)])\n",
    "\n",
    "print(lr_cv(5, df.Sentence, df.Sentiment, pipeline3, 'macro'))"
   ]
  },
  {
   "cell_type": "markdown",
   "metadata": {},
   "source": [
    "### AdaBoost Classifier"
   ]
  },
  {
   "cell_type": "code",
   "execution_count": 231,
   "metadata": {},
   "outputs": [
    {
     "data": {
      "text/plain": [
       "{'n_estimators': 182}"
      ]
     },
     "execution_count": 231,
     "metadata": {},
     "output_type": "execute_result"
    }
   ],
   "source": [
    "ada_clf = AdaBoostClassifier(\n",
    "    DecisionTreeClassifier(max_depth = 1), n_estimators = 1000, algorithm = 'SAMME.R', learning_rate = 0.5)\n",
    "\n",
    "adaHyperParams =  {'n_estimators': randint(10, 1000)}\n",
    "\n",
    "gridSearchAda = RandomizedSearchCV(estimator=ada_clf, param_distributions=adaHyperParams, n_iter=5,\n",
    "                                 fit_params=None, cv=5, verbose=0).fit(sentence_tfidf.tocsc(), df.Sentiment)\n",
    "gridSearchAda.best_params_"
   ]
  },
  {
   "cell_type": "code",
   "execution_count": 232,
   "metadata": {},
   "outputs": [
    {
     "name": "stdout",
     "output_type": "stream",
     "text": [
      "              negative    neutral     positive\n",
      "precision: [0.42857143 0.5        0.725     ]\n",
      "recall:    [0.42857143 0.21428571 0.90625   ]\n",
      "f1 score:  [0.42857143 0.3        0.80555556]\n",
      "--------------------------------------------------\n",
      "accuracy: 65.06%\n",
      "precision: 62.60%\n",
      "recall: 50.71%\n",
      "f1 score: 52.45%\n",
      "None\n"
     ]
    }
   ],
   "source": [
    "pipeline2 = Pipeline([\n",
    "    ('feats', FeatureUnion([\n",
    "        ('vectorizer1', tfidf_vect), \n",
    "        ('counter', count_vect),\n",
    "        ('vectorizer2', tfidf_vect_ngram)\n",
    "    ])), \n",
    "    ('classifier', gridSearchAda.best_estimator_)])\n",
    "\n",
    "print(lr_cv(5, df.Sentence, df.Sentiment, pipeline2, 'macro'))"
   ]
  },
  {
   "cell_type": "markdown",
   "metadata": {},
   "source": [
    "### Extreme Gradient Boosting"
   ]
  },
  {
   "cell_type": "code",
   "execution_count": 233,
   "metadata": {},
   "outputs": [
    {
     "data": {
      "text/plain": [
       "{'max_depth': 7, 'n_estimators': 450}"
      ]
     },
     "execution_count": 233,
     "metadata": {},
     "output_type": "execute_result"
    }
   ],
   "source": [
    "gbHyperParams = {'n_estimators': randint(10, 1000),\n",
    "                 'max_depth': randint(1,10)}\n",
    "\n",
    "gridSearchGB = RandomizedSearchCV(estimator=xgboost.XGBClassifier(), param_distributions=gbHyperParams, n_iter=10,\n",
    "                                  fit_params=None, cv=None, verbose=0\n",
    "                                 ).fit(sentence_tfidf_ngram.tocsc(), df.Sentiment)\n",
    "gridSearchGB.best_params_"
   ]
  },
  {
   "cell_type": "code",
   "execution_count": 234,
   "metadata": {},
   "outputs": [
    {
     "name": "stdout",
     "output_type": "stream",
     "text": [
      "              negative    neutral     positive\n",
      "precision: [0.375      0.4        0.76666667]\n",
      "recall:    [0.42857143 0.42857143 0.71875   ]\n",
      "f1 score:  [0.4        0.4137931  0.74193548]\n",
      "--------------------------------------------------\n",
      "accuracy: 63.17%\n",
      "precision: 58.56%\n",
      "recall: 51.46%\n",
      "f1 score: 53.01%\n",
      "None\n"
     ]
    }
   ],
   "source": [
    "pipeline2 = Pipeline([\n",
    "    ('feats', FeatureUnion([\n",
    "        ('vectorizer1', tfidf_vect), \n",
    "        ('counter', count_vect),\n",
    "        ('vectorizer2', tfidf_vect_ngram)\n",
    "    ])), \n",
    "    ('classifier', gridSearchGB.best_estimator_)])\n",
    "\n",
    "print(lr_cv(5, df.Sentence, df.Sentiment, pipeline2, 'macro'))"
   ]
  },
  {
   "cell_type": "markdown",
   "metadata": {},
   "source": [
    "Given that the classes are imbalanced, we do not want to get good average performance metrics, we need to look more closely at how each class (in particular the neutral and negative) are performing. With this in mind, SVC and Logistic Regression perform the best, still results are not optimal, Negative and Neutral classes get f1 score of 0.50-0.55 and 0.56-0.55 repectively. "
   ]
  },
  {
   "cell_type": "markdown",
   "metadata": {},
   "source": [
    "## Data Augmentation"
   ]
  },
  {
   "cell_type": "markdown",
   "metadata": {},
   "source": [
    "Now we check if data augmentation techniques can help. We will try two techniques, SMOTE and Randon Oversampling. "
   ]
  },
  {
   "cell_type": "code",
   "execution_count": 235,
   "metadata": {},
   "outputs": [],
   "source": [
    "smt = SMOTE(random_state=777, k_neighbors=1)\n",
    "X_SMOTE, y_SMOTE = smt.fit_sample(sentence_count, df.Sentiment)\n",
    "\n",
    "ros = RandomOverSampler(random_state=777)\n",
    "X_ROS, y_ROS = ros.fit_sample(sentence_count, df.Sentiment)\n"
   ]
  },
  {
   "cell_type": "code",
   "execution_count": 236,
   "metadata": {},
   "outputs": [],
   "source": [
    "SMOTE_pipeline1 = make_pipeline(count_vect, SMOTE(random_state=777), nb)\n",
    "SMOTE_pipeline2 = make_pipeline(count_vect, SMOTE(random_state=777),lr)\n",
    "SMOTE_pipeline3 = make_pipeline(count_vect, SMOTE(random_state=777),gridSearchGB.best_estimator_)\n",
    "\n",
    "ROS_pipeline1 = make_pipeline(count_vect, RandomOverSampler(random_state=777),nb)\n",
    "ROS_pipeline2 = make_pipeline(count_vect, RandomOverSampler(random_state=777),lr)\n",
    "ROS_pipeline3 = make_pipeline(count_vect, RandomOverSampler(random_state=777),gridSearchGB.best_estimator_)\n"
   ]
  },
  {
   "cell_type": "code",
   "execution_count": 237,
   "metadata": {},
   "outputs": [],
   "source": [
    "SMOTE_pipeline1 = Pipeline([\n",
    "    ('feats', FeatureUnion([\n",
    "        ('vectorizer1', tfidf_vect), \n",
    "        ('counter', count_vect),\n",
    "        ('vectorizer2', tfidf_vect_ngram)\n",
    "    ])), \n",
    "    ('smt', SMOTE(random_state=777)),\n",
    "    ('classifier', nb)])\n",
    "\n",
    "SMOTE_pipeline2 = Pipeline([\n",
    "    ('feats', FeatureUnion([\n",
    "        ('vectorizer1', tfidf_vect), \n",
    "        ('counter', count_vect),\n",
    "        ('vectorizer2', tfidf_vect_ngram)\n",
    "    ])), \n",
    "    ('smt', SMOTE(random_state=777)),\n",
    "    ('classifier', lr)])\n",
    "\n",
    "SMOTE_pipeline3 = Pipeline([\n",
    "    ('feats', FeatureUnion([\n",
    "        ('vectorizer1', tfidf_vect), \n",
    "        ('counter', count_vect),\n",
    "        ('vectorizer2', tfidf_vect_ngram)\n",
    "    ])), \n",
    "    ('smt', SMOTE(random_state=777)),\n",
    "    ('classifier', svc)])\n",
    "\n",
    "ROS_pipeline1 = Pipeline([\n",
    "    ('feats', FeatureUnion([\n",
    "        ('vectorizer1', tfidf_vect), \n",
    "        ('counter', count_vect),\n",
    "        ('vectorizer2', tfidf_vect_ngram)\n",
    "    ])), \n",
    "    ('smt', SMOTE(random_state=777)),\n",
    "    ('classifier', nb)])\n",
    "\n",
    "SMOTE_pipeline2 = Pipeline([\n",
    "    ('feats', FeatureUnion([\n",
    "        ('vectorizer1', tfidf_vect), \n",
    "        ('counter', count_vect),\n",
    "        ('vectorizer2', tfidf_vect_ngram)\n",
    "    ])), \n",
    "    ('smt', SMOTE(random_state=777)),\n",
    "    ('classifier', lr)])\n",
    "\n",
    "ROS_pipeline1 = Pipeline([\n",
    "    ('feats', FeatureUnion([\n",
    "        ('vectorizer1', tfidf_vect), \n",
    "        ('counter', count_vect),\n",
    "        ('vectorizer2', tfidf_vect_ngram)\n",
    "    ])), \n",
    "    ('ros', RandomOverSampler(random_state=777)),\n",
    "    ('classifier', svc)])\n",
    "\n",
    "ROS_pipeline2 = Pipeline([\n",
    "    ('feats', FeatureUnion([\n",
    "        ('vectorizer1', tfidf_vect), \n",
    "        ('counter', count_vect),\n",
    "        ('vectorizer2', tfidf_vect_ngram)\n",
    "    ])), \n",
    "    ('ros', RandomOverSampler(random_state=777)),\n",
    "    ('classifier', lr)])\n",
    "\n",
    "ROS_pipeline3 = Pipeline([\n",
    "    ('feats', FeatureUnion([\n",
    "        ('vectorizer1', tfidf_vect), \n",
    "        ('counter', count_vect),\n",
    "        ('vectorizer2', tfidf_vect_ngram)\n",
    "    ])), \n",
    "    ('ros', RandomOverSampler(random_state=777)),\n",
    "    ('classifier', svc)])\n"
   ]
  },
  {
   "cell_type": "code",
   "execution_count": 238,
   "metadata": {},
   "outputs": [
    {
     "name": "stdout",
     "output_type": "stream",
     "text": [
      "Data augmentation, NB Classifier\n",
      "              negative    neutral     positive\n",
      "precision: [0.45454545 0.7        0.8125    ]\n",
      "recall:    [0.71428571 0.5        0.8125    ]\n",
      "f1 score:  [0.55555556 0.58333333 0.8125    ]\n",
      "--------------------------------------------------\n",
      "accuracy: 71.04%\n",
      "precision: 63.22%\n",
      "recall: 61.90%\n",
      "f1 score: 61.21%\n",
      "None\n",
      "              negative    neutral     positive\n",
      "precision: [0.6        0.63636364 0.75675676]\n",
      "recall:    [0.42857143 0.5        0.875     ]\n",
      "f1 score:  [0.5       0.56      0.8115942]\n",
      "--------------------------------------------------\n",
      "accuracy: 72.53%\n",
      "precision: 71.89%\n",
      "recall: 61.64%\n",
      "f1 score: 64.40%\n",
      "None\n"
     ]
    }
   ],
   "source": [
    "print('Data augmentation, NB Classifier')\n",
    "print(lr_cv(5, df.Sentence, df.Sentiment, SMOTE_pipeline1, 'macro'))\n",
    "print(lr_cv(5, df.Sentence, df.Sentiment, ROS_pipeline1, 'macro'))\n"
   ]
  },
  {
   "cell_type": "code",
   "execution_count": 239,
   "metadata": {},
   "outputs": [
    {
     "name": "stdout",
     "output_type": "stream",
     "text": [
      "Data augmentation, Logistic Regression Classifier\n",
      "              negative    neutral     positive\n",
      "precision: [0.375      0.57142857 0.74193548]\n",
      "recall:    [0.42857143 0.57142857 0.71875   ]\n",
      "f1 score:  [0.4        0.57142857 0.73015873]\n",
      "--------------------------------------------------\n",
      "accuracy: 68.78%\n",
      "precision: 64.21%\n",
      "recall: 60.30%\n",
      "f1 score: 61.68%\n",
      "None\n",
      "              negative    neutral     positive\n",
      "precision: [0.44444444 0.5625     0.78571429]\n",
      "recall:    [0.57142857 0.64285714 0.6875    ]\n",
      "f1 score:  [0.5        0.6        0.73333333]\n",
      "--------------------------------------------------\n",
      "accuracy: 69.90%\n",
      "precision: 63.74%\n",
      "recall: 61.93%\n",
      "f1 score: 62.44%\n",
      "None\n"
     ]
    }
   ],
   "source": [
    "print('Data augmentation, Logistic Regression Classifier')\n",
    "print(lr_cv(5, df.Sentence, df.Sentiment, SMOTE_pipeline2, 'macro'))\n",
    "print(lr_cv(5, df.Sentence, df.Sentiment, ROS_pipeline2, 'macro'))\n",
    "\n"
   ]
  },
  {
   "cell_type": "code",
   "execution_count": 240,
   "metadata": {},
   "outputs": [
    {
     "name": "stdout",
     "output_type": "stream",
     "text": [
      "Data augmentation, Support Vector Classifier\n",
      "              negative    neutral     positive\n",
      "precision: [0.6        0.63636364 0.75675676]\n",
      "recall:    [0.42857143 0.5        0.875     ]\n",
      "f1 score:  [0.5       0.56      0.8115942]\n",
      "--------------------------------------------------\n",
      "accuracy: 72.53%\n",
      "precision: 71.89%\n",
      "recall: 61.64%\n",
      "f1 score: 64.40%\n",
      "None\n",
      "              negative    neutral     positive\n",
      "precision: [0.6        0.63636364 0.75675676]\n",
      "recall:    [0.42857143 0.5        0.875     ]\n",
      "f1 score:  [0.5       0.56      0.8115942]\n",
      "--------------------------------------------------\n",
      "accuracy: 72.53%\n",
      "precision: 71.89%\n",
      "recall: 61.64%\n",
      "f1 score: 64.40%\n",
      "None\n"
     ]
    }
   ],
   "source": [
    "print('Data augmentation, Support Vector Classifier')\n",
    "print(lr_cv(5, df.Sentence, df.Sentiment, SMOTE_pipeline3, 'macro'))\n",
    "print(lr_cv(5, df.Sentence, df.Sentiment, ROS_pipeline3, 'macro'))\n",
    "\n"
   ]
  },
  {
   "cell_type": "markdown",
   "metadata": {},
   "source": [
    "Data augmentation improves some performance metrics but others are worse than before. So it is not really helpful."
   ]
  },
  {
   "cell_type": "markdown",
   "metadata": {},
   "source": [
    "## Neural Net Architectures"
   ]
  },
  {
   "cell_type": "markdown",
   "metadata": {},
   "source": [
    "We will try different architectures. Shallow networks, mlp with three hidden layer, convulational neural networs and lstm."
   ]
  },
  {
   "cell_type": "code",
   "execution_count": 241,
   "metadata": {},
   "outputs": [],
   "source": [
    "split = StratifiedShuffleSplit(n_splits = 1, test_size = 0.2, random_state = 42)\n",
    "for train_index, test_index in split.split(sentence_tfidf_ngram, df['Sentiment']):\n",
    "    X_train = sentence_tfidf_ngram[train_index]\n",
    "    X_train_ = df.Sentence.loc[train_index]\n",
    "    y_train = df.Sentiment.loc[train_index]\n",
    "    X_test = sentence_tfidf_ngram[test_index]\n",
    "    X_test_ = df.Sentence.loc[test_index]\n",
    "    y_test = df.Sentiment.loc[test_index]\n"
   ]
  },
  {
   "cell_type": "code",
   "execution_count": 242,
   "metadata": {},
   "outputs": [],
   "source": [
    "y_binary = to_categorical(y_train)\n",
    "y_binary_test = to_categorical(y_test)"
   ]
  },
  {
   "cell_type": "markdown",
   "metadata": {},
   "source": [
    "### Shallow Network "
   ]
  },
  {
   "cell_type": "code",
   "execution_count": 243,
   "metadata": {},
   "outputs": [
    {
     "name": "stdout",
     "output_type": "stream",
     "text": [
      "Train on 212 samples, validate on 54 samples\n",
      "Epoch 1/200\n",
      "212/212 [==============================] - 4s 21ms/step - loss: 2.5682 - val_loss: 1.0899\n",
      "Epoch 2/200\n",
      "212/212 [==============================] - 0s 214us/step - loss: 2.4538 - val_loss: 1.0813\n",
      "Epoch 3/200\n",
      "212/212 [==============================] - 0s 206us/step - loss: 2.3572 - val_loss: 1.0719\n",
      "Epoch 4/200\n",
      "212/212 [==============================] - 0s 200us/step - loss: 2.2519 - val_loss: 1.0595\n",
      "Epoch 5/200\n",
      "212/212 [==============================] - 0s 206us/step - loss: 2.1275 - val_loss: 1.0428\n",
      "Epoch 6/200\n",
      "212/212 [==============================] - 0s 202us/step - loss: 1.9913 - val_loss: 1.0244\n",
      "Epoch 7/200\n",
      "212/212 [==============================] - 0s 198us/step - loss: 1.8372 - val_loss: 1.0042\n",
      "Epoch 8/200\n",
      "212/212 [==============================] - 0s 199us/step - loss: 1.6639 - val_loss: 0.9832\n",
      "Epoch 9/200\n",
      "212/212 [==============================] - 0s 210us/step - loss: 1.4877 - val_loss: 0.9601\n",
      "Epoch 10/200\n",
      "212/212 [==============================] - 0s 198us/step - loss: 1.3060 - val_loss: 0.9346\n",
      "Epoch 11/200\n",
      "212/212 [==============================] - 0s 218us/step - loss: 1.1387 - val_loss: 0.9118\n",
      "Epoch 12/200\n",
      "212/212 [==============================] - 0s 219us/step - loss: 0.9695 - val_loss: 0.8877\n",
      "Epoch 13/200\n",
      "212/212 [==============================] - 0s 212us/step - loss: 0.8234 - val_loss: 0.8655\n",
      "Epoch 14/200\n",
      "212/212 [==============================] - 0s 223us/step - loss: 0.6896 - val_loss: 0.8468\n",
      "Epoch 15/200\n",
      "212/212 [==============================] - 0s 233us/step - loss: 0.5753 - val_loss: 0.8307\n",
      "Epoch 16/200\n",
      "212/212 [==============================] - 0s 228us/step - loss: 0.4816 - val_loss: 0.8167\n",
      "Epoch 17/200\n",
      "212/212 [==============================] - 0s 255us/step - loss: 0.4048 - val_loss: 0.8048\n",
      "Epoch 18/200\n",
      "212/212 [==============================] - 0s 273us/step - loss: 0.3422 - val_loss: 0.7954\n",
      "Epoch 19/200\n",
      "212/212 [==============================] - 0s 290us/step - loss: 0.2925 - val_loss: 0.7880\n",
      "Epoch 20/200\n",
      "212/212 [==============================] - 0s 284us/step - loss: 0.2507 - val_loss: 0.7806\n",
      "Epoch 21/200\n",
      "212/212 [==============================] - 0s 269us/step - loss: 0.2175 - val_loss: 0.7756\n",
      "Epoch 22/200\n",
      "212/212 [==============================] - 0s 264us/step - loss: 0.1898 - val_loss: 0.7717\n",
      "Epoch 23/200\n",
      "212/212 [==============================] - 0s 259us/step - loss: 0.1667 - val_loss: 0.7678\n",
      "Epoch 24/200\n",
      "212/212 [==============================] - 0s 270us/step - loss: 0.1483 - val_loss: 0.7648\n",
      "Epoch 25/200\n",
      "212/212 [==============================] - 0s 249us/step - loss: 0.1317 - val_loss: 0.7619\n",
      "Epoch 26/200\n",
      "212/212 [==============================] - 0s 246us/step - loss: 0.1184 - val_loss: 0.7588\n",
      "Epoch 27/200\n",
      "212/212 [==============================] - 0s 271us/step - loss: 0.1077 - val_loss: 0.7561\n",
      "Epoch 28/200\n",
      "212/212 [==============================] - 0s 234us/step - loss: 0.0978 - val_loss: 0.7535\n",
      "Epoch 29/200\n",
      "212/212 [==============================] - 0s 281us/step - loss: 0.0897 - val_loss: 0.7515\n",
      "Epoch 30/200\n",
      "212/212 [==============================] - 0s 279us/step - loss: 0.0823 - val_loss: 0.7492\n",
      "Epoch 31/200\n",
      "212/212 [==============================] - 0s 278us/step - loss: 0.0761 - val_loss: 0.7473\n",
      "Epoch 32/200\n",
      "212/212 [==============================] - 0s 265us/step - loss: 0.0704 - val_loss: 0.7451\n",
      "Epoch 33/200\n",
      "212/212 [==============================] - 0s 258us/step - loss: 0.0654 - val_loss: 0.7430\n",
      "Epoch 34/200\n",
      "212/212 [==============================] - 0s 225us/step - loss: 0.0611 - val_loss: 0.7409\n",
      "Epoch 35/200\n",
      "212/212 [==============================] - 0s 252us/step - loss: 0.0572 - val_loss: 0.7388\n",
      "Epoch 36/200\n",
      "212/212 [==============================] - 0s 253us/step - loss: 0.0535 - val_loss: 0.7368\n",
      "Epoch 37/200\n",
      "212/212 [==============================] - 0s 243us/step - loss: 0.0504 - val_loss: 0.7352\n",
      "Epoch 38/200\n",
      "212/212 [==============================] - 0s 265us/step - loss: 0.0475 - val_loss: 0.7336\n",
      "Epoch 39/200\n",
      "212/212 [==============================] - 0s 245us/step - loss: 0.0448 - val_loss: 0.7319\n",
      "Epoch 40/200\n",
      "212/212 [==============================] - 0s 267us/step - loss: 0.0424 - val_loss: 0.7307\n",
      "Epoch 41/200\n",
      "212/212 [==============================] - 0s 307us/step - loss: 0.0402 - val_loss: 0.7295\n",
      "Epoch 42/200\n",
      "212/212 [==============================] - 0s 284us/step - loss: 0.0381 - val_loss: 0.7283\n",
      "Epoch 43/200\n",
      "212/212 [==============================] - 0s 266us/step - loss: 0.0363 - val_loss: 0.7272\n",
      "Epoch 44/200\n",
      "212/212 [==============================] - 0s 266us/step - loss: 0.0346 - val_loss: 0.7264\n",
      "Epoch 45/200\n",
      "212/212 [==============================] - 0s 255us/step - loss: 0.0330 - val_loss: 0.7252\n",
      "Epoch 46/200\n",
      "212/212 [==============================] - 0s 258us/step - loss: 0.0315 - val_loss: 0.7239\n",
      "Epoch 47/200\n",
      "212/212 [==============================] - 0s 255us/step - loss: 0.0301 - val_loss: 0.7231\n",
      "Epoch 48/200\n",
      "212/212 [==============================] - 0s 258us/step - loss: 0.0288 - val_loss: 0.7224\n",
      "Epoch 49/200\n",
      "212/212 [==============================] - 0s 264us/step - loss: 0.0276 - val_loss: 0.7217\n",
      "Epoch 50/200\n",
      "212/212 [==============================] - 0s 251us/step - loss: 0.0264 - val_loss: 0.7208\n",
      "Epoch 51/200\n",
      "212/212 [==============================] - 0s 252us/step - loss: 0.0254 - val_loss: 0.7198\n",
      "Epoch 52/200\n",
      "212/212 [==============================] - 0s 273us/step - loss: 0.0244 - val_loss: 0.7190\n",
      "Epoch 53/200\n",
      "212/212 [==============================] - 0s 243us/step - loss: 0.0234 - val_loss: 0.7184\n",
      "Epoch 54/200\n",
      "212/212 [==============================] - 0s 220us/step - loss: 0.0226 - val_loss: 0.7177\n",
      "Epoch 55/200\n",
      "212/212 [==============================] - 0s 196us/step - loss: 0.0217 - val_loss: 0.7171\n",
      "Epoch 56/200\n",
      "212/212 [==============================] - 0s 244us/step - loss: 0.0209 - val_loss: 0.7167\n",
      "Epoch 57/200\n",
      "212/212 [==============================] - 0s 259us/step - loss: 0.0202 - val_loss: 0.7164\n",
      "Epoch 58/200\n",
      "212/212 [==============================] - 0s 281us/step - loss: 0.0195 - val_loss: 0.7160\n",
      "Epoch 59/200\n",
      "212/212 [==============================] - 0s 257us/step - loss: 0.0188 - val_loss: 0.7157\n",
      "Epoch 60/200\n",
      "212/212 [==============================] - 0s 260us/step - loss: 0.0182 - val_loss: 0.7151\n",
      "Epoch 61/200\n",
      "212/212 [==============================] - 0s 243us/step - loss: 0.0176 - val_loss: 0.7147\n",
      "Epoch 62/200\n",
      "212/212 [==============================] - 0s 255us/step - loss: 0.0170 - val_loss: 0.7140\n",
      "Epoch 63/200\n",
      "212/212 [==============================] - 0s 254us/step - loss: 0.0165 - val_loss: 0.7134\n",
      "Epoch 64/200\n",
      "212/212 [==============================] - 0s 250us/step - loss: 0.0159 - val_loss: 0.7129\n",
      "Epoch 65/200\n",
      "212/212 [==============================] - 0s 250us/step - loss: 0.0155 - val_loss: 0.7124\n",
      "Epoch 66/200\n",
      "212/212 [==============================] - 0s 264us/step - loss: 0.0150 - val_loss: 0.7118\n",
      "Epoch 67/200\n",
      "212/212 [==============================] - 0s 247us/step - loss: 0.0145 - val_loss: 0.7113\n",
      "Epoch 68/200\n",
      "212/212 [==============================] - 0s 210us/step - loss: 0.0141 - val_loss: 0.7107\n",
      "Epoch 69/200\n",
      "212/212 [==============================] - 0s 241us/step - loss: 0.0137 - val_loss: 0.7102\n",
      "Epoch 70/200\n",
      "212/212 [==============================] - 0s 265us/step - loss: 0.0133 - val_loss: 0.7100\n",
      "Epoch 71/200\n",
      "212/212 [==============================] - 0s 279us/step - loss: 0.0130 - val_loss: 0.7096\n",
      "Epoch 72/200\n",
      "212/212 [==============================] - 0s 264us/step - loss: 0.0126 - val_loss: 0.7094\n",
      "Epoch 73/200\n",
      "212/212 [==============================] - 0s 268us/step - loss: 0.0123 - val_loss: 0.7093\n",
      "Epoch 74/200\n",
      "212/212 [==============================] - 0s 281us/step - loss: 0.0119 - val_loss: 0.7090\n",
      "Epoch 75/200\n",
      "212/212 [==============================] - 0s 245us/step - loss: 0.0116 - val_loss: 0.7087\n",
      "Epoch 76/200\n",
      "212/212 [==============================] - 0s 263us/step - loss: 0.0113 - val_loss: 0.7085\n",
      "Epoch 77/200\n",
      "212/212 [==============================] - 0s 266us/step - loss: 0.0110 - val_loss: 0.7086\n",
      "_________________________________________________________________\n",
      "Layer (type)                 Output Shape              Param #   \n",
      "=================================================================\n",
      "input_76 (InputLayer)        (None, 5000)              0         \n",
      "_________________________________________________________________\n",
      "dense_206 (Dense)            (None, 100)               500100    \n",
      "_________________________________________________________________\n",
      "dense_207 (Dense)            (None, 3)                 303       \n",
      "=================================================================\n",
      "Total params: 500,403\n",
      "Trainable params: 500,403\n",
      "Non-trainable params: 0\n",
      "_________________________________________________________________\n",
      "None\n",
      "NN, Ngram Level TF IDF Vectors, Accuracy: 0.7037037037037037\n",
      "             precision    recall  f1-score   support\n",
      "\n",
      "          0       0.43      0.75      0.55         4\n",
      "          1       0.50      0.58      0.54        12\n",
      "          2       0.85      0.74      0.79        38\n",
      "\n",
      "avg / total       0.74      0.70      0.72        54\n",
      "\n"
     ]
    }
   ],
   "source": [
    "def create_model_architecture(input_size):\n",
    "    \n",
    "    class_weight = {0: 5., 1: 2., 2: 1.}\n",
    "    seed(1)\n",
    "    # create input layer \n",
    "    input_layer = layers.Input((input_size, ), sparse=True)\n",
    "    \n",
    "    # create hidden layer\n",
    "    hidden_layer = layers.Dense(100, activation=\"relu\")(input_layer)\n",
    "    \n",
    "    # create output layer\n",
    "    output_layer = layers.Dense(3, activation=\"softmax\")(hidden_layer)\n",
    "\n",
    "    classifier = models.Model(inputs = input_layer, outputs = output_layer)\n",
    "    classifier.compile(optimizer=optimizers.Adam(), loss='categorical_crossentropy')\n",
    "    return classifier \n",
    "\n",
    "classifier = create_model_architecture(X_train.shape[1])\n",
    "earlyStopping=EarlyStopping(monitor='val_loss', patience=0, verbose=0, mode='auto')\n",
    "history = classifier.fit(X_train, y_binary, class_weight = {0: 5., 1: 4, 2: 1.},\n",
    "                    batch_size=50,\n",
    "                    epochs=200,\n",
    "                    verbose=1,\n",
    "                    callbacks=[earlyStopping],\n",
    "                    validation_data=( X_test, y_binary_test))\n",
    "y_pred = classifier.predict(X_test)\n",
    "y_pred = np.argmax(y_pred, axis=1)\n",
    "print(classifier.summary())\n",
    "print(\"NN, Ngram Level TF IDF Vectors, Accuracy:\",  accuracy_score(y_pred, np.argmax(y_binary_test, axis=1)))\n",
    "print(classification_report(y_pred, np.argmax(y_binary_test, axis=1)))\n"
   ]
  },
  {
   "cell_type": "markdown",
   "metadata": {},
   "source": [
    "### Deeper Network "
   ]
  },
  {
   "cell_type": "code",
   "execution_count": 244,
   "metadata": {},
   "outputs": [
    {
     "name": "stdout",
     "output_type": "stream",
     "text": [
      "Train on 212 samples, validate on 54 samples\n",
      "Epoch 1/200\n",
      "212/212 [==============================] - 4s 17ms/step - loss: 1.8396 - val_loss: 1.0926\n",
      "Epoch 2/200\n",
      "212/212 [==============================] - 0s 195us/step - loss: 1.8367 - val_loss: 1.0876\n",
      "Epoch 3/200\n",
      "212/212 [==============================] - 0s 179us/step - loss: 1.8256 - val_loss: 1.0828\n",
      "Epoch 4/200\n",
      "212/212 [==============================] - 0s 178us/step - loss: 1.8247 - val_loss: 1.0779\n",
      "Epoch 5/200\n",
      "212/212 [==============================] - 0s 171us/step - loss: 1.8120 - val_loss: 1.0738\n",
      "Epoch 6/200\n",
      "212/212 [==============================] - 0s 158us/step - loss: 1.7900 - val_loss: 1.0660\n",
      "Epoch 7/200\n",
      "212/212 [==============================] - 0s 169us/step - loss: 1.7794 - val_loss: 1.0559\n",
      "Epoch 8/200\n",
      "212/212 [==============================] - 0s 168us/step - loss: 1.7570 - val_loss: 1.0427\n",
      "Epoch 9/200\n",
      "212/212 [==============================] - 0s 181us/step - loss: 1.7203 - val_loss: 1.0273\n",
      "Epoch 10/200\n",
      "212/212 [==============================] - 0s 168us/step - loss: 1.7036 - val_loss: 1.0077\n",
      "Epoch 11/200\n",
      "212/212 [==============================] - 0s 163us/step - loss: 1.6416 - val_loss: 0.9806\n",
      "Epoch 12/200\n",
      "212/212 [==============================] - 0s 165us/step - loss: 1.5821 - val_loss: 0.9472\n",
      "Epoch 13/200\n",
      "212/212 [==============================] - 0s 170us/step - loss: 1.5052 - val_loss: 0.9069\n",
      "Epoch 14/200\n",
      "212/212 [==============================] - 0s 175us/step - loss: 1.4081 - val_loss: 0.8697\n",
      "Epoch 15/200\n",
      "212/212 [==============================] - 0s 175us/step - loss: 1.3254 - val_loss: 0.8401\n",
      "Epoch 16/200\n",
      "212/212 [==============================] - 0s 212us/step - loss: 1.2413 - val_loss: 0.8167\n",
      "Epoch 17/200\n",
      "212/212 [==============================] - 0s 221us/step - loss: 1.0481 - val_loss: 0.7945\n",
      "Epoch 18/200\n",
      "212/212 [==============================] - 0s 221us/step - loss: 0.9531 - val_loss: 0.7847\n",
      "Epoch 19/200\n",
      "212/212 [==============================] - 0s 214us/step - loss: 0.8381 - val_loss: 0.7748\n",
      "Epoch 20/200\n",
      "212/212 [==============================] - 0s 242us/step - loss: 0.7083 - val_loss: 0.7599\n",
      "Epoch 21/200\n",
      "212/212 [==============================] - 0s 222us/step - loss: 0.5755 - val_loss: 0.7423\n",
      "Epoch 22/200\n",
      "212/212 [==============================] - 0s 202us/step - loss: 0.5536 - val_loss: 0.7304\n",
      "Epoch 23/200\n",
      "212/212 [==============================] - 0s 217us/step - loss: 0.4614 - val_loss: 0.7282\n",
      "Epoch 24/200\n",
      "212/212 [==============================] - 0s 200us/step - loss: 0.3357 - val_loss: 0.7327\n",
      "_________________________________________________________________\n",
      "Layer (type)                 Output Shape              Param #   \n",
      "=================================================================\n",
      "input_77 (InputLayer)        (None, 5000)              0         \n",
      "_________________________________________________________________\n",
      "dense_208 (Dense)            (None, 100)               500100    \n",
      "_________________________________________________________________\n",
      "dropout_118 (Dropout)        (None, 100)               0         \n",
      "_________________________________________________________________\n",
      "dense_209 (Dense)            (None, 100)               10100     \n",
      "_________________________________________________________________\n",
      "dropout_119 (Dropout)        (None, 100)               0         \n",
      "_________________________________________________________________\n",
      "dense_210 (Dense)            (None, 100)               10100     \n",
      "_________________________________________________________________\n",
      "dropout_120 (Dropout)        (None, 100)               0         \n",
      "_________________________________________________________________\n",
      "dense_211 (Dense)            (None, 3)                 303       \n",
      "=================================================================\n",
      "Total params: 520,603\n",
      "Trainable params: 520,603\n",
      "Non-trainable params: 0\n",
      "_________________________________________________________________\n",
      "None\n",
      "NN, Ngram Level TF IDF Vectors, Accuracy: 0.6666666666666666\n",
      "             precision    recall  f1-score   support\n",
      "\n",
      "          0       0.43      1.00      0.60         3\n",
      "          1       0.43      0.46      0.44        13\n",
      "          2       0.82      0.71      0.76        38\n",
      "\n",
      "avg / total       0.70      0.67      0.68        54\n",
      "\n"
     ]
    }
   ],
   "source": [
    "def create_model_architecture2(input_size):\n",
    "    seed(1)\n",
    "    # create input layer \n",
    "    input_layer = layers.Input((input_size, ), sparse=True)\n",
    "    \n",
    "    # create hidden layers\n",
    "    hidden_layer = layers.Dense(100, activation=\"relu\")(input_layer)\n",
    "    dropout1 = layers.Dropout(0.5)(hidden_layer)\n",
    "    \n",
    "    hidden_layer2 = layers.Dense(100, activation=\"relu\")(dropout1)\n",
    "    dropout2 = layers.Dropout(0.5)(hidden_layer2)\n",
    "    \n",
    "    hidden_layer3 = layers.Dense(100, activation=\"relu\")(dropout2)\n",
    "    dropout3 = layers.Dropout(0.5)(hidden_layer3)\n",
    "\n",
    "    # create output layer\n",
    "    output_layer = layers.Dense(3, activation=\"softmax\")(dropout3)\n",
    "\n",
    "    classifier = models.Model(inputs = input_layer, outputs = output_layer)\n",
    "    classifier.compile(optimizer=optimizers.Adam(), loss='categorical_crossentropy')\n",
    "    return classifier \n",
    "\n",
    "classifier = create_model_architecture2(X_train.shape[1])\n",
    "earlyStopping=EarlyStopping(monitor='val_loss', patience=0, verbose=0, mode='auto')\n",
    "history = classifier.fit(X_train, y_binary, class_weight={0: 4., 1: 2, 2: 1.},\n",
    "                    batch_size=68,\n",
    "                    epochs=200,\n",
    "                    verbose=1,\n",
    "                    callbacks=[earlyStopping],\n",
    "                    validation_data=( X_test, y_binary_test))\n",
    "y_pred = classifier.predict(X_test)\n",
    "y_pred = np.argmax(y_pred, axis=1)\n",
    "print(classifier.summary())\n",
    "print(\"NN, Ngram Level TF IDF Vectors, Accuracy:\",  accuracy_score(y_pred, np.argmax(y_binary_test, axis=1)))\n",
    "print(classification_report(y_pred, np.argmax(y_binary_test, axis=1)))"
   ]
  },
  {
   "cell_type": "markdown",
   "metadata": {},
   "source": [
    "A deeper net with the original data is seriously overfitting to the majority class."
   ]
  },
  {
   "cell_type": "markdown",
   "metadata": {},
   "source": [
    "### Word Embeddings"
   ]
  },
  {
   "cell_type": "code",
   "execution_count": 245,
   "metadata": {},
   "outputs": [],
   "source": [
    "# use pre-trained word-embedding vectors \n",
    "embeddings_index = {}\n",
    "for i, line in enumerate(open('/Users/itziar/Downloads/wiki-news-300d-1M.vec')):\n",
    "    values = line.split()\n",
    "    embeddings_index[values[0]] = np.asarray(values[1:], dtype='float32')\n",
    "\n",
    "# create a tokenizer \n",
    "token = text.Tokenizer()\n",
    "token.fit_on_texts(df['Sentence'])\n",
    "word_index = token.word_index\n",
    "\n",
    "# convert text to sequence of tokens and pad them to ensure equal length vectors \n",
    "train_seq_x = sequence.pad_sequences(token.texts_to_sequences(X_train_), maxlen=70)\n",
    "valid_seq_x = sequence.pad_sequences(token.texts_to_sequences(X_test_), maxlen=70)\n",
    "\n",
    "\n",
    "\n",
    "# create token-embedding mapping\n",
    "embedding_matrix = np.zeros((len(word_index) + 1, 300))\n",
    "for word, i in word_index.items():\n",
    "    embedding_vector = embeddings_index.get(word)\n",
    "    if embedding_vector is not None:\n",
    "        embedding_matrix[i] = embedding_vector\n",
    "\n"
   ]
  },
  {
   "cell_type": "markdown",
   "metadata": {},
   "source": [
    "### CNN"
   ]
  },
  {
   "cell_type": "code",
   "execution_count": 246,
   "metadata": {},
   "outputs": [
    {
     "name": "stdout",
     "output_type": "stream",
     "text": [
      "Train on 212 samples, validate on 54 samples\n",
      "Epoch 1/200\n",
      "212/212 [==============================] - 3s 16ms/step - loss: 1.9952 - val_loss: 1.0785\n",
      "Epoch 2/200\n",
      "212/212 [==============================] - 0s 866us/step - loss: 1.9798 - val_loss: 1.0114\n",
      "Epoch 3/200\n",
      "212/212 [==============================] - 0s 854us/step - loss: 1.9036 - val_loss: 1.0172\n",
      "_________________________________________________________________\n",
      "Layer (type)                 Output Shape              Param #   \n",
      "=================================================================\n",
      "input_78 (InputLayer)        (None, 70)                0         \n",
      "_________________________________________________________________\n",
      "embedding_37 (Embedding)     (None, 70, 300)           368700    \n",
      "_________________________________________________________________\n",
      "spatial_dropout1d_37 (Spatia (None, 70, 300)           0         \n",
      "_________________________________________________________________\n",
      "conv1d_27 (Conv1D)           (None, 68, 100)           90100     \n",
      "_________________________________________________________________\n",
      "global_max_pooling1d_26 (Glo (None, 100)               0         \n",
      "_________________________________________________________________\n",
      "dense_212 (Dense)            (None, 50)                5050      \n",
      "_________________________________________________________________\n",
      "dropout_121 (Dropout)        (None, 50)                0         \n",
      "_________________________________________________________________\n",
      "dense_213 (Dense)            (None, 3)                 153       \n",
      "=================================================================\n",
      "Total params: 464,003\n",
      "Trainable params: 95,303\n",
      "Non-trainable params: 368,700\n",
      "_________________________________________________________________\n",
      "None\n",
      "CNN, Word Embeddings, Accuracy 0.7037037037037037\n",
      "             precision    recall  f1-score   support\n",
      "\n",
      "          0       0.71      0.71      0.71         7\n",
      "          1       0.43      0.55      0.48        11\n",
      "          2       0.82      0.75      0.78        36\n",
      "\n",
      "avg / total       0.73      0.70      0.71        54\n",
      "\n"
     ]
    }
   ],
   "source": [
    "def create_cnn(input_size):\n",
    "    seed(1)\n",
    "    # Add an Input Layer\n",
    "    input_layer = layers.Input((input_size, ))\n",
    "\n",
    "    # Add the word embedding Layer\n",
    "    embedding_layer = layers.Embedding(len(word_index) + 1, 300, weights=[embedding_matrix], trainable=False)(input_layer)\n",
    "    embedding_layer = layers.SpatialDropout1D(0.3)(embedding_layer)\n",
    "\n",
    "    # Add the convolutional Layer\n",
    "    conv_layer = layers.Convolution1D(100, 3, activation=\"relu\")(embedding_layer)\n",
    "\n",
    "    # Add the pooling Layer\n",
    "    pooling_layer = layers.GlobalMaxPool1D()(conv_layer)\n",
    "    \n",
    "\n",
    "    # Add the output Layers\n",
    "    output_layer1 = layers.Dense(50, activation=\"relu\")(pooling_layer)\n",
    "    output_layer1 = layers.Dropout(0.5)(output_layer1)\n",
    "    output_layer2 = layers.Dense(3, activation=\"softmax\")(output_layer1)\n",
    "\n",
    "    # Compile the model\n",
    "    model = models.Model(inputs=input_layer, outputs=output_layer2)\n",
    "    model.compile(optimizer=optimizers.Adam(), loss='categorical_crossentropy')\n",
    "    \n",
    "    return model\n",
    "\n",
    "classifier = create_cnn(train_seq_x.shape[1])\n",
    "earlyStopping=EarlyStopping(monitor='val_loss', patience=0, verbose=0, mode='auto')\n",
    "history = classifier.fit(train_seq_x, y_binary, class_weight={0: 4.2, 1: 2.5, 2: 1.},\n",
    "                    batch_size=50,\n",
    "                    epochs=200, \n",
    "                    verbose = 1,\n",
    "                    callbacks=[earlyStopping],\n",
    "                    validation_data = (valid_seq_x, y_binary_test))\n",
    "y_pred = classifier.predict(valid_seq_x)\n",
    "y_pred = np.argmax(y_pred, axis=1)\n",
    "print(classifier.summary())\n",
    "print(\"CNN, Word Embeddings, Accuracy\",  accuracy_score(y_pred, np.argmax(y_binary_test, axis=1)))\n",
    "print(classification_report(y_pred, np.argmax(y_binary_test, axis=1)))"
   ]
  },
  {
   "cell_type": "markdown",
   "metadata": {},
   "source": [
    "CNN using word embeddings is also overfitting to majority class. We do not have enough data for CNN."
   ]
  },
  {
   "cell_type": "markdown",
   "metadata": {},
   "source": [
    "### LSTM"
   ]
  },
  {
   "cell_type": "code",
   "execution_count": 247,
   "metadata": {},
   "outputs": [
    {
     "name": "stdout",
     "output_type": "stream",
     "text": [
      "Train on 212 samples, validate on 54 samples\n",
      "Epoch 1/200\n",
      "212/212 [==============================] - 4s 20ms/step - loss: 1.8324 - val_loss: 1.0908\n",
      "Epoch 2/200\n",
      "212/212 [==============================] - 0s 2ms/step - loss: 1.8277 - val_loss: 1.0879\n",
      "Epoch 3/200\n",
      "212/212 [==============================] - 0s 2ms/step - loss: 1.8254 - val_loss: 1.0797\n",
      "Epoch 4/200\n",
      "212/212 [==============================] - 0s 2ms/step - loss: 1.8042 - val_loss: 1.0691\n",
      "Epoch 5/200\n",
      "212/212 [==============================] - 0s 2ms/step - loss: 1.7876 - val_loss: 1.0635\n",
      "Epoch 6/200\n",
      "212/212 [==============================] - 1s 3ms/step - loss: 1.7918 - val_loss: 1.0646\n",
      "_________________________________________________________________\n",
      "Layer (type)                 Output Shape              Param #   \n",
      "=================================================================\n",
      "input_79 (InputLayer)        (None, 70)                0         \n",
      "_________________________________________________________________\n",
      "embedding_38 (Embedding)     (None, 70, 300)           368700    \n",
      "_________________________________________________________________\n",
      "spatial_dropout1d_38 (Spatia (None, 70, 300)           0         \n",
      "_________________________________________________________________\n",
      "lstm_12 (LSTM)               (None, 100)               160400    \n",
      "_________________________________________________________________\n",
      "dense_214 (Dense)            (None, 50)                5050      \n",
      "_________________________________________________________________\n",
      "dropout_122 (Dropout)        (None, 50)                0         \n",
      "_________________________________________________________________\n",
      "dense_215 (Dense)            (None, 3)                 153       \n",
      "=================================================================\n",
      "Total params: 534,303\n",
      "Trainable params: 165,603\n",
      "Non-trainable params: 368,700\n",
      "_________________________________________________________________\n",
      "None\n",
      "RNN-LSTM, Word Embeddings, Accuracy: 0.6481481481481481\n",
      "             precision    recall  f1-score   support\n",
      "\n",
      "          0       0.43      0.43      0.43         7\n",
      "          1       0.07      0.50      0.12         2\n",
      "          2       0.94      0.69      0.79        45\n",
      "\n",
      "avg / total       0.84      0.65      0.72        54\n",
      "\n"
     ]
    }
   ],
   "source": [
    "def create_rnn_lstm():\n",
    "    # Add an Input Layer\n",
    "    input_layer = layers.Input((70, ))\n",
    "\n",
    "    # Add the word embedding Layer\n",
    "    embedding_layer = layers.Embedding(len(word_index) + 1, 300, weights=[embedding_matrix], trainable=False)(input_layer)\n",
    "    embedding_layer = layers.SpatialDropout1D(0.3)(embedding_layer)\n",
    "\n",
    "    # Add the LSTM Layer\n",
    "    lstm_layer = layers.LSTM(100)(embedding_layer)\n",
    "\n",
    "    # Add the output Layers\n",
    "    output_layer1 = layers.Dense(50, activation=\"relu\")(lstm_layer)\n",
    "    output_layer1 = layers.Dropout(0.55)(output_layer1)\n",
    "    output_layer2 = layers.Dense(3, activation=\"sigmoid\")(output_layer1)\n",
    "\n",
    "    # Compile the model\n",
    "    model = models.Model(inputs=input_layer, outputs=output_layer2)\n",
    "    model.compile(optimizer=optimizers.Adam(), loss='categorical_crossentropy')\n",
    "    \n",
    "    return model\n",
    "\n",
    "classifier = create_rnn_lstm()\n",
    "earlyStopping=EarlyStopping(monitor='val_loss', patience=0, verbose=0, mode='auto')\n",
    "history = classifier.fit(train_seq_x, y_binary, class_weight={0: 4, 1: 2, 2: 1.},\n",
    "                    batch_size=50,\n",
    "                    epochs=200,\n",
    "                    verbose=1,\n",
    "                    callbacks = [earlyStopping],\n",
    "                    validation_data=(valid_seq_x, y_binary_test))\n",
    "y_pred = classifier.predict(valid_seq_x)\n",
    "y_pred = np.argmax(y_pred, axis=1)\n",
    "print(classifier.summary())\n",
    "print(\"RNN-LSTM, Word Embeddings, Accuracy:\",  accuracy_score(y_pred, np.argmax(y_binary_test, axis=1)))\n",
    "print(classification_report(y_pred, np.argmax(y_binary_test, axis=1)))"
   ]
  },
  {
   "cell_type": "code",
   "execution_count": null,
   "metadata": {},
   "outputs": [],
   "source": []
  }
 ],
 "metadata": {
  "kernelspec": {
   "display_name": "Python 3",
   "language": "python",
   "name": "python3"
  },
  "language_info": {
   "codemirror_mode": {
    "name": "ipython",
    "version": 3
   },
   "file_extension": ".py",
   "mimetype": "text/x-python",
   "name": "python",
   "nbconvert_exporter": "python",
   "pygments_lexer": "ipython3",
   "version": "3.6.5"
  }
 },
 "nbformat": 4,
 "nbformat_minor": 2
}
